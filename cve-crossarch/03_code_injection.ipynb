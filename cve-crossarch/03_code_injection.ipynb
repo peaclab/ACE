{
 "cells": [
  {
   "cell_type": "markdown",
   "metadata": {},
   "source": [
    "## Code Injection Experiments\n",
    "\n",
    "First experiments are underway! Exciting!\n",
    "\n",
    "**Main Idea**: Find (or inject) a function *F* such that it exists in some fraction of the corpus applications. Extract fingerprints from all functions in corpus, separate into test/train, and strip labels from test set. Use a classification method like kNN to classify unlabeled fingerprints in test-set as *F* or *not-F*\n",
    "\n",
    "*Further exploration*: perform similar analysis to those conducted in `01_exploring_crossarch`, like checking if code-identical functions are also fingerprint-identical, etc.\n",
    "\n",
    "### Dataset Building: coreutils\n",
    "**WARNING: BEFORE USING COREUTILS IN A PAPER...** Remember that a previous related paper was largely invalidated due to coreutils-related corpus-taint. Double-check to make sure this doesn't happen here\n",
    "\n"
   ]
  },
  {
   "cell_type": "code",
   "execution_count": 5,
   "metadata": {
    "ExecuteTime": {
     "end_time": "2020-01-10T19:47:26.076411Z",
     "start_time": "2020-01-10T19:46:24.729770Z"
    }
   },
   "outputs": [
    {
     "name": "stdout",
     "output_type": "stream",
     "text": [
      "Profiling ls (626 KB)\n",
      "Profiling ln (351 KB)\n",
      "Profiling sleep (163 KB)\n",
      "Profiling id (204 KB)\n",
      "Profiling hostid (148 KB)\n",
      "Profiling unexpand (175 KB)\n",
      "Profiling pwd (164 KB)\n",
      "Profiling chmod (280 KB)\n",
      "Profiling logname (148 KB)\n",
      "Profiling true (144 KB)\n",
      "Profiling dircolors (190 KB)\n",
      "Profiling base32 (188 KB)\n",
      "Profiling expand (173 KB)\n",
      "Profiling dd (343 KB)\n",
      "Profiling tac (183 KB)\n",
      "Profiling od (318 KB)\n",
      "Profiling mktemp (215 KB)\n",
      "Profiling csplit (234 KB)\n",
      "Profiling printenv (146 KB)\n",
      "Profiling whoami (148 KB)\n",
      "Profiling chroot (187 KB)\n",
      "Profiling truncate (176 KB)\n",
      "Profiling sync (155 KB)\n",
      "Profiling sort (548 KB)\n",
      "Profiling link (148 KB)\n",
      "Profiling dirname (149 KB)\n",
      "Profiling df (423 KB)\n",
      "Profiling cat (174 KB)\n",
      "Profiling stat (381 KB)\n",
      "Profiling du (491 KB)\n",
      "Profiling md5sum (205 KB)\n",
      "Profiling wc (223 KB)\n",
      "Profiling stty (292 KB)\n",
      "Profiling mkdir (406 KB)\n",
      "Profiling sha384sum (289 KB)\n",
      "Profiling shuf (292 KB)\n",
      "Profiling uname (154 KB)\n",
      "Profiling cksum (160 KB)\n",
      "Profiling sha1sum (224 KB)\n",
      "Profiling chcon (300 KB)\n",
      "Profiling vdir (626 KB)\n",
      "Profiling basename (156 KB)\n",
      "Profiling mkfifo (314 KB)\n",
      "Profiling base64 (188 KB)\n",
      "Profiling tr (216 KB)\n",
      "Profiling mv (726 KB)\n",
      "Profiling touch (372 KB)\n",
      "WARN: /home/ubuntu/ace/dataset-gen/coreutils/coreutils-8.28/parse-datetime.y does not exist\n",
      "WARN: /home/ubuntu/ace/dataset-gen/coreutils/coreutils-8.28/parse-datetime.y does not exist\n",
      "WARN: /home/ubuntu/ace/dataset-gen/coreutils/coreutils-8.28/parse-datetime.y does not exist\n",
      "WARN: /home/ubuntu/ace/dataset-gen/coreutils/coreutils-8.28/parse-datetime.y does not exist\n",
      "WARN: /home/ubuntu/ace/dataset-gen/coreutils/coreutils-8.28/parse-datetime.y does not exist\n",
      "WARN: /home/ubuntu/ace/dataset-gen/coreutils/coreutils-8.28/parse-datetime.y does not exist\n",
      "WARN: /home/ubuntu/ace/dataset-gen/coreutils/coreutils-8.28/parse-datetime.y does not exist\n",
      "WARN: /home/ubuntu/ace/dataset-gen/coreutils/coreutils-8.28/parse-datetime.y does not exist\n",
      "WARN: /home/ubuntu/ace/dataset-gen/coreutils/coreutils-8.28/parse-datetime.y does not exist\n",
      "WARN: /home/ubuntu/ace/dataset-gen/coreutils/coreutils-8.28/parse-datetime.y does not exist\n",
      "WARN: /home/ubuntu/ace/dataset-gen/coreutils/coreutils-8.28/parse-datetime.y does not exist\n",
      "WARN: /home/ubuntu/ace/dataset-gen/coreutils/coreutils-8.28/parse-datetime.y does not exist\n",
      "WARN: /home/ubuntu/ace/dataset-gen/coreutils/coreutils-8.28/parse-datetime.y does not exist\n",
      "WARN: /home/ubuntu/ace/dataset-gen/coreutils/coreutils-8.28/parse-datetime.c does not exist\n",
      "Profiling chgrp (327 KB)\n",
      "Profiling split (256 KB)\n",
      "Profiling fmt (190 KB)\n",
      "Profiling users (162 KB)\n",
      "Profiling [ (232 KB)\n",
      "Profiling rmdir (206 KB)\n",
      "Profiling unlink (148 KB)\n",
      "Profiling fold (170 KB)\n",
      "Profiling paste (164 KB)\n",
      "Profiling cut (199 KB)\n",
      "Profiling seq (227 KB)\n",
      "Profiling readlink (212 KB)\n",
      "Profiling sha512sum (289 KB)\n",
      "Profiling realpath (227 KB)\n",
      "Profiling false (144 KB)\n",
      "Profiling factor (363 KB)\n",
      "Profiling pinky (186 KB)\n",
      "Profiling expr (210 KB)\n",
      "Profiling mknod (333 KB)\n",
      "Profiling nl (188 KB)\n",
      "Profiling stdbuf (234 KB)\n",
      "Profiling groups (165 KB)\n",
      "Profiling tail (317 KB)\n",
      "Profiling arch (154 KB)\n",
      "Profiling join (222 KB)\n",
      "Profiling yes (153 KB)\n",
      "Profiling echo (152 KB)\n",
      "Profiling pathchk (158 KB)\n",
      "Profiling printf (242 KB)\n",
      "Profiling numfmt (282 KB)\n",
      "Profiling sum (203 KB)\n",
      "Profiling shred (297 KB)\n",
      "Profiling cp (716 KB)\n",
      "Profiling install (781 KB)\n",
      "Profiling sha224sum (233 KB)\n",
      "Profiling timeout (180 KB)\n",
      "Profiling tty (145 KB)\n",
      "Profiling runcon (158 KB)\n",
      "Profiling test (217 KB)\n",
      "Profiling nice (161 KB)\n",
      "Profiling md5sum.textutils (205 KB)\n",
      "Profiling tsort (178 KB)\n",
      "Profiling chown (340 KB)\n",
      "Profiling nohup (168 KB)\n",
      "Profiling date (420 KB)\n",
      "WARN: /home/ubuntu/ace/dataset-gen/coreutils/coreutils-8.28/parse-datetime.y does not exist\n",
      "WARN: /home/ubuntu/ace/dataset-gen/coreutils/coreutils-8.28/parse-datetime.y does not exist\n",
      "WARN: /home/ubuntu/ace/dataset-gen/coreutils/coreutils-8.28/parse-datetime.y does not exist\n",
      "WARN: /home/ubuntu/ace/dataset-gen/coreutils/coreutils-8.28/parse-datetime.y does not exist\n",
      "WARN: /home/ubuntu/ace/dataset-gen/coreutils/coreutils-8.28/parse-datetime.y does not exist\n",
      "WARN: /home/ubuntu/ace/dataset-gen/coreutils/coreutils-8.28/parse-datetime.y does not exist\n",
      "WARN: /home/ubuntu/ace/dataset-gen/coreutils/coreutils-8.28/parse-datetime.y does not exist\n",
      "WARN: /home/ubuntu/ace/dataset-gen/coreutils/coreutils-8.28/parse-datetime.y does not exist\n",
      "WARN: /home/ubuntu/ace/dataset-gen/coreutils/coreutils-8.28/parse-datetime.y does not exist\n",
      "WARN: /home/ubuntu/ace/dataset-gen/coreutils/coreutils-8.28/parse-datetime.y does not exist\n",
      "WARN: /home/ubuntu/ace/dataset-gen/coreutils/coreutils-8.28/parse-datetime.y does not exist\n",
      "WARN: /home/ubuntu/ace/dataset-gen/coreutils/coreutils-8.28/parse-datetime.y does not exist\n",
      "WARN: /home/ubuntu/ace/dataset-gen/coreutils/coreutils-8.28/parse-datetime.y does not exist\n",
      "WARN: /home/ubuntu/ace/dataset-gen/coreutils/coreutils-8.28/parse-datetime.c does not exist\n",
      "Profiling who (242 KB)\n",
      "Profiling uniq (212 KB)\n",
      "Profiling comm (183 KB)\n",
      "Profiling sha256sum (233 KB)\n",
      "Profiling nproc (172 KB)\n",
      "Profiling tee (171 KB)\n",
      "Profiling b2sum (294 KB)\n",
      "Profiling env (152 KB)\n",
      "Profiling rm (305 KB)\n",
      "Profiling ptx (320 KB)\n",
      "Profiling dir (626 KB)\n",
      "Profiling pr (327 KB)\n",
      "Profiling head (213 KB)\n"
     ]
    }
   ],
   "source": [
    "import ace\n",
    "import pandas as pd\n",
    "import time\n",
    "import os\n",
    "\n",
    "profiles=[]\n",
    "runtimes={}\n",
    "with os.scandir(\"../res/cu-clean/\") as dir_entry:\n",
    "    for entry in dir_entry:\n",
    "        if entry.is_file():\n",
    "            start = time.monotonic()\n",
    "            print(\"Profiling {} ({} KB)\".format(entry.name, entry.stat().st_size//1000))\n",
    "            profiles.append(ace.full_profile(entry.path, threads = 8, ins_sort = True, src_only = True, src_path = \"/home/ubuntu/ace/dataset-gen/coreutils/coreutils-8.28\"))\n",
    "            runtimes[entry.path] = time.monotonic() - start"
   ]
  },
  {
   "cell_type": "code",
   "execution_count": 7,
   "metadata": {
    "ExecuteTime": {
     "end_time": "2020-01-10T19:48:02.906737Z",
     "start_time": "2020-01-10T19:48:02.734744Z"
    }
   },
   "outputs": [
    {
     "data": {
      "text/html": [
       "<div>\n",
       "<style scoped>\n",
       "    .dataframe tbody tr th:only-of-type {\n",
       "        vertical-align: middle;\n",
       "    }\n",
       "\n",
       "    .dataframe tbody tr th {\n",
       "        vertical-align: top;\n",
       "    }\n",
       "\n",
       "    .dataframe thead th {\n",
       "        text-align: right;\n",
       "    }\n",
       "</style>\n",
       "<table border=\"1\" class=\"dataframe\">\n",
       "  <thead>\n",
       "    <tr style=\"text-align: right;\">\n",
       "      <th></th>\n",
       "      <th>binary</th>\n",
       "      <th>function</th>\n",
       "      <th>address</th>\n",
       "      <th>length</th>\n",
       "      <th>src_path</th>\n",
       "      <th>src_line</th>\n",
       "      <th>src_code</th>\n",
       "      <th>attributor</th>\n",
       "      <th>raw_bytes</th>\n",
       "      <th>fingerprint</th>\n",
       "    </tr>\n",
       "  </thead>\n",
       "  <tbody>\n",
       "    <tr>\n",
       "      <th>0</th>\n",
       "      <td>../res/cu-clean/ls</td>\n",
       "      <td>__argmatch_die</td>\n",
       "      <td>49856</td>\n",
       "      <td>10</td>\n",
       "      <td>/home/ubuntu/ace/dataset-gen/coreutils/coreuti...</td>\n",
       "      <td>62.0</td>\n",
       "      <td>__argmatch_die (void)\\n{\\n  ARGMATCH_DIE;\\n}\\n</td>\n",
       "      <td>nm-t</td>\n",
       "      <td>b'\\xbf\\x01\\x00\\x00\\x00\\xe9f\\xf8\\xff\\xff'</td>\n",
       "      <td>[0, 0, 0, 0, 0, 0, 0, 0, 0, 0, 0, 0, 0, 0, 0, ...</td>\n",
       "    </tr>\n",
       "    <tr>\n",
       "      <th>1</th>\n",
       "      <td>../res/cu-clean/ls</td>\n",
       "      <td>__strftime_internal</td>\n",
       "      <td>67264</td>\n",
       "      <td>6375</td>\n",
       "      <td>/home/ubuntu/ace/dataset-gen/coreutils/coreuti...</td>\n",
       "      <td>446.0</td>\n",
       "      <td>__strftime_internal (STREAM_OR_CHAR_T *s, STRF...</td>\n",
       "      <td>nm-t</td>\n",
       "      <td>b'AWAVI\\x89\\xffAUATH\\x8d\\x05\\x98u\\x00\\x00USI\\x...</td>\n",
       "      <td>[12, 1, -2147483648, -134217728, 0, 1, -214748...</td>\n",
       "    </tr>\n",
       "    <tr>\n",
       "      <th>2</th>\n",
       "      <td>../res/cu-clean/ls</td>\n",
       "      <td>__xargmatch_internal</td>\n",
       "      <td>50576</td>\n",
       "      <td>109</td>\n",
       "      <td>/home/ubuntu/ace/dataset-gen/coreutils/coreuti...</td>\n",
       "      <td>176.0</td>\n",
       "      <td>__xargmatch_internal (const char *context,\\n  ...</td>\n",
       "      <td>nm-T</td>\n",
       "      <td>b'AWAVI\\x89\\xfeAUATI\\x89\\xf4USH\\x89\\xcdH\\x89\\x...</td>\n",
       "      <td>[8, -2147483647, -2147483648, 0, -2147483647, ...</td>\n",
       "    </tr>\n",
       "    <tr>\n",
       "      <th>3</th>\n",
       "      <td>../res/cu-clean/ls</td>\n",
       "      <td>_obstack_allocated_p</td>\n",
       "      <td>87568</td>\n",
       "      <td>56</td>\n",
       "      <td>/home/ubuntu/ace/dataset-gen/coreutils/coreuti...</td>\n",
       "      <td>241.0</td>\n",
       "      <td>_obstack_allocated_p (struct obstack *h, void ...</td>\n",
       "      <td>nm-T</td>\n",
       "      <td>b'H\\x8bG\\x08H\\x85\\xc0t-\\x0f\\x1f\\x80\\x00\\x00\\x0...</td>\n",
       "      <td>[1, -2147483647, 0, 0, 38505, 0, 0, 0, 0, 0, 0...</td>\n",
       "    </tr>\n",
       "    <tr>\n",
       "      <th>4</th>\n",
       "      <td>../res/cu-clean/ls</td>\n",
       "      <td>_obstack_begin</td>\n",
       "      <td>87264</td>\n",
       "      <td>17</td>\n",
       "      <td>/home/ubuntu/ace/dataset-gen/coreutils/coreuti...</td>\n",
       "      <td>150.0</td>\n",
       "      <td>_obstack_begin (struct obstack *h,\\n          ...</td>\n",
       "      <td>nm-T</td>\n",
       "      <td>b'\\x80gP\\xfeH\\x89O8L\\x89G@\\xe9_\\xff\\xff\\xff'</td>\n",
       "      <td>[63, -2147483647, 64, 0, 0, 64, 4, 2406, 64, 8...</td>\n",
       "    </tr>\n",
       "    <tr>\n",
       "      <th>...</th>\n",
       "      <td>...</td>\n",
       "      <td>...</td>\n",
       "      <td>...</td>\n",
       "      <td>...</td>\n",
       "      <td>...</td>\n",
       "      <td>...</td>\n",
       "      <td>...</td>\n",
       "      <td>...</td>\n",
       "      <td>...</td>\n",
       "      <td>...</td>\n",
       "    </tr>\n",
       "    <tr>\n",
       "      <th>9263</th>\n",
       "      <td>../res/cu-clean/head</td>\n",
       "      <td>xrealloc</td>\n",
       "      <td>24592</td>\n",
       "      <td>54</td>\n",
       "      <td>/home/ubuntu/ace/dataset-gen/coreutils/coreuti...</td>\n",
       "      <td>51.0</td>\n",
       "      <td>xrealloc (void *p, size_t n)\\n{\\n  if (!n &amp;&amp; p...</td>\n",
       "      <td>nm-T</td>\n",
       "      <td>b'H\\x85\\xf6SH\\x89\\xf3u\\x05H\\x85\\xffu\\x1aH\\x89\\...</td>\n",
       "      <td>[0, -2147483647, 1, 0, 38505, 1, 0, 0, 0, 0, 1...</td>\n",
       "    </tr>\n",
       "    <tr>\n",
       "      <th>9264</th>\n",
       "      <td>../res/cu-clean/head</td>\n",
       "      <td>xstrdup</td>\n",
       "      <td>25056</td>\n",
       "      <td>19</td>\n",
       "      <td>/home/ubuntu/ace/dataset-gen/coreutils/coreuti...</td>\n",
       "      <td>119.0</td>\n",
       "      <td>xstrdup (char const *string)\\n{\\n  return xmem...</td>\n",
       "      <td>nm-T</td>\n",
       "      <td>b'SH\\x89\\xfb\\xe8\\xc7\\xb6\\xff\\xffH\\x89\\xdfH\\x8d...</td>\n",
       "      <td>[-1, -2147483647, 0, 0, 0, 0, 0, 0, 0, 0, 0, 0...</td>\n",
       "    </tr>\n",
       "    <tr>\n",
       "      <th>9265</th>\n",
       "      <td>../res/cu-clean/head</td>\n",
       "      <td>xstrtoumax</td>\n",
       "      <td>25456</td>\n",
       "      <td>1052</td>\n",
       "      <td>/home/ubuntu/ace/dataset-gen/coreutils/coreuti...</td>\n",
       "      <td>88.0</td>\n",
       "      <td>__xstrtol (const char *s, char **ptr, int strt...</td>\n",
       "      <td>nm-T</td>\n",
       "      <td>b'AWAVAUATUSH\\x83\\xec(dH\\x8b\\x04%(\\x00\\x00\\x00...</td>\n",
       "      <td>[36, -2147483647, -2147483648, -134217728, 0, ...</td>\n",
       "    </tr>\n",
       "    <tr>\n",
       "      <th>9266</th>\n",
       "      <td>../res/cu-clean/head</td>\n",
       "      <td>xwrite_stdout.part.6</td>\n",
       "      <td>11968</td>\n",
       "      <td>120</td>\n",
       "      <td>/home/ubuntu/ace/dataset-gen/coreutils/coreuti...</td>\n",
       "      <td>179.0</td>\n",
       "      <td>xwrite_stdout (char const *buffer, size_t n_by...</td>\n",
       "      <td>nm-t</td>\n",
       "      <td>b\"USH\\x89\\xf2H\\x89\\xf3\\xbe\\x01\\x00\\x00\\x00H\\x8...</td>\n",
       "      <td>[8, -2147483647, -2145357361, 0, 0, -214535736...</td>\n",
       "    </tr>\n",
       "    <tr>\n",
       "      <th>9267</th>\n",
       "      <td>../res/cu-clean/head</td>\n",
       "      <td>xzalloc</td>\n",
       "      <td>24928</td>\n",
       "      <td>23</td>\n",
       "      <td>/home/ubuntu/ace/dataset-gen/coreutils/coreuti...</td>\n",
       "      <td>84.0</td>\n",
       "      <td>xzalloc (size_t s)\\n{\\n  return memset (xmallo...</td>\n",
       "      <td>nm-T</td>\n",
       "      <td>b'SH\\x89\\xfb\\xe8G\\xfe\\xff\\xffH\\x89\\xda1\\xf6H\\x...</td>\n",
       "      <td>[-1, -2147483647, 0, 0, 0, 0, 0, 0, 0, 0, 0, 0...</td>\n",
       "    </tr>\n",
       "  </tbody>\n",
       "</table>\n",
       "<p>9268 rows × 10 columns</p>\n",
       "</div>"
      ],
      "text/plain": [
       "                    binary              function  address  length  \\\n",
       "0       ../res/cu-clean/ls        __argmatch_die    49856      10   \n",
       "1       ../res/cu-clean/ls   __strftime_internal    67264    6375   \n",
       "2       ../res/cu-clean/ls  __xargmatch_internal    50576     109   \n",
       "3       ../res/cu-clean/ls  _obstack_allocated_p    87568      56   \n",
       "4       ../res/cu-clean/ls        _obstack_begin    87264      17   \n",
       "...                    ...                   ...      ...     ...   \n",
       "9263  ../res/cu-clean/head              xrealloc    24592      54   \n",
       "9264  ../res/cu-clean/head               xstrdup    25056      19   \n",
       "9265  ../res/cu-clean/head            xstrtoumax    25456    1052   \n",
       "9266  ../res/cu-clean/head  xwrite_stdout.part.6    11968     120   \n",
       "9267  ../res/cu-clean/head               xzalloc    24928      23   \n",
       "\n",
       "                                               src_path  src_line  \\\n",
       "0     /home/ubuntu/ace/dataset-gen/coreutils/coreuti...      62.0   \n",
       "1     /home/ubuntu/ace/dataset-gen/coreutils/coreuti...     446.0   \n",
       "2     /home/ubuntu/ace/dataset-gen/coreutils/coreuti...     176.0   \n",
       "3     /home/ubuntu/ace/dataset-gen/coreutils/coreuti...     241.0   \n",
       "4     /home/ubuntu/ace/dataset-gen/coreutils/coreuti...     150.0   \n",
       "...                                                 ...       ...   \n",
       "9263  /home/ubuntu/ace/dataset-gen/coreutils/coreuti...      51.0   \n",
       "9264  /home/ubuntu/ace/dataset-gen/coreutils/coreuti...     119.0   \n",
       "9265  /home/ubuntu/ace/dataset-gen/coreutils/coreuti...      88.0   \n",
       "9266  /home/ubuntu/ace/dataset-gen/coreutils/coreuti...     179.0   \n",
       "9267  /home/ubuntu/ace/dataset-gen/coreutils/coreuti...      84.0   \n",
       "\n",
       "                                               src_code attributor  \\\n",
       "0        __argmatch_die (void)\\n{\\n  ARGMATCH_DIE;\\n}\\n       nm-t   \n",
       "1     __strftime_internal (STREAM_OR_CHAR_T *s, STRF...       nm-t   \n",
       "2     __xargmatch_internal (const char *context,\\n  ...       nm-T   \n",
       "3     _obstack_allocated_p (struct obstack *h, void ...       nm-T   \n",
       "4     _obstack_begin (struct obstack *h,\\n          ...       nm-T   \n",
       "...                                                 ...        ...   \n",
       "9263  xrealloc (void *p, size_t n)\\n{\\n  if (!n && p...       nm-T   \n",
       "9264  xstrdup (char const *string)\\n{\\n  return xmem...       nm-T   \n",
       "9265  __xstrtol (const char *s, char **ptr, int strt...       nm-T   \n",
       "9266  xwrite_stdout (char const *buffer, size_t n_by...       nm-t   \n",
       "9267  xzalloc (size_t s)\\n{\\n  return memset (xmallo...       nm-T   \n",
       "\n",
       "                                              raw_bytes  \\\n",
       "0              b'\\xbf\\x01\\x00\\x00\\x00\\xe9f\\xf8\\xff\\xff'   \n",
       "1     b'AWAVI\\x89\\xffAUATH\\x8d\\x05\\x98u\\x00\\x00USI\\x...   \n",
       "2     b'AWAVI\\x89\\xfeAUATI\\x89\\xf4USH\\x89\\xcdH\\x89\\x...   \n",
       "3     b'H\\x8bG\\x08H\\x85\\xc0t-\\x0f\\x1f\\x80\\x00\\x00\\x0...   \n",
       "4          b'\\x80gP\\xfeH\\x89O8L\\x89G@\\xe9_\\xff\\xff\\xff'   \n",
       "...                                                 ...   \n",
       "9263  b'H\\x85\\xf6SH\\x89\\xf3u\\x05H\\x85\\xffu\\x1aH\\x89\\...   \n",
       "9264  b'SH\\x89\\xfb\\xe8\\xc7\\xb6\\xff\\xffH\\x89\\xdfH\\x8d...   \n",
       "9265  b'AWAVAUATUSH\\x83\\xec(dH\\x8b\\x04%(\\x00\\x00\\x00...   \n",
       "9266  b\"USH\\x89\\xf2H\\x89\\xf3\\xbe\\x01\\x00\\x00\\x00H\\x8...   \n",
       "9267  b'SH\\x89\\xfb\\xe8G\\xfe\\xff\\xffH\\x89\\xda1\\xf6H\\x...   \n",
       "\n",
       "                                            fingerprint  \n",
       "0     [0, 0, 0, 0, 0, 0, 0, 0, 0, 0, 0, 0, 0, 0, 0, ...  \n",
       "1     [12, 1, -2147483648, -134217728, 0, 1, -214748...  \n",
       "2     [8, -2147483647, -2147483648, 0, -2147483647, ...  \n",
       "3     [1, -2147483647, 0, 0, 38505, 0, 0, 0, 0, 0, 0...  \n",
       "4     [63, -2147483647, 64, 0, 0, 64, 4, 2406, 64, 8...  \n",
       "...                                                 ...  \n",
       "9263  [0, -2147483647, 1, 0, 38505, 1, 0, 0, 0, 0, 1...  \n",
       "9264  [-1, -2147483647, 0, 0, 0, 0, 0, 0, 0, 0, 0, 0...  \n",
       "9265  [36, -2147483647, -2147483648, -134217728, 0, ...  \n",
       "9266  [8, -2147483647, -2145357361, 0, 0, -214535736...  \n",
       "9267  [-1, -2147483647, 0, 0, 0, 0, 0, 0, 0, 0, 0, 0...  \n",
       "\n",
       "[9268 rows x 10 columns]"
      ]
     },
     "execution_count": 7,
     "metadata": {},
     "output_type": "execute_result"
    }
   ],
   "source": [
    "cu_clean = pd.concat(profiles, ignore_index=True)\n",
    "cu_clean"
   ]
  },
  {
   "cell_type": "code",
   "execution_count": 9,
   "metadata": {
    "ExecuteTime": {
     "end_time": "2020-01-10T19:53:36.208862Z",
     "start_time": "2020-01-10T19:53:36.205271Z"
    }
   },
   "outputs": [],
   "source": [
    "# Careful not to accidentally overwrite something!\n",
    "# cu_clean.to_pickle(\"cu_clean.df.p\")"
   ]
  },
  {
   "cell_type": "code",
   "execution_count": 43,
   "metadata": {
    "ExecuteTime": {
     "end_time": "2020-01-13T17:49:51.674052Z",
     "start_time": "2020-01-13T17:49:51.244257Z"
    }
   },
   "outputs": [
    {
     "data": {
      "text/plain": [
       "Text(0, 0.5, 'Time to fingerprint all functions (sec)')"
      ]
     },
     "execution_count": 43,
     "metadata": {},
     "output_type": "execute_result"
    },
    {
     "data": {
      "image/png": "[encoded data removed]",
      "text/plain": [
       "<Figure size 504x432 with 1 Axes>"
      ]
     },
     "metadata": {
      "needs_background": "light"
     },
     "output_type": "display_data"
    }
   ],
   "source": [
    "# Quick Runtime Analysis\n",
    "%matplotlib inline\n",
    "runtimes_df = pd.DataFrame.from_dict(runtimes, orient='index', columns=['runtime'])\n",
    "runtimes_df['bin_size'] = [os.path.getsize(x) for x in runtimes_df.index]\n",
    "runtime_plt = runtimes_df.plot.scatter(\"bin_size\", \"runtime\", figsize=(7,6), \n",
    "                                       title=\"Binary Size vs. Fingerprinting Runtime for coreutils-clean\")\n",
    "runtime_plt.set_xlabel(\"Binary Size (bytes)\")\n",
    "runtime_plt.set_ylabel(\"Time to fingerprint all functions (sec)\")"
   ]
  },
  {
   "cell_type": "markdown",
   "metadata": {},
   "source": [
    "## Preliminary Analysis\n",
    "\n",
    "Let's look at code-identical functions"
   ]
  },
  {
   "cell_type": "code",
   "execution_count": 34,
   "metadata": {
    "ExecuteTime": {
     "end_time": "2020-01-10T20:22:53.133530Z",
     "start_time": "2020-01-10T20:22:53.070069Z"
    }
   },
   "outputs": [
    {
     "data": {
      "text/html": [
       "<div>\n",
       "<style scoped>\n",
       "    .dataframe tbody tr th:only-of-type {\n",
       "        vertical-align: middle;\n",
       "    }\n",
       "\n",
       "    .dataframe tbody tr th {\n",
       "        vertical-align: top;\n",
       "    }\n",
       "\n",
       "    .dataframe thead th {\n",
       "        text-align: right;\n",
       "    }\n",
       "</style>\n",
       "<table border=\"1\" class=\"dataframe\">\n",
       "  <thead>\n",
       "    <tr style=\"text-align: right;\">\n",
       "      <th></th>\n",
       "      <th>binary</th>\n",
       "      <th>function</th>\n",
       "      <th>address</th>\n",
       "      <th>length</th>\n",
       "      <th>src_path</th>\n",
       "      <th>src_line</th>\n",
       "      <th>src_code</th>\n",
       "      <th>attributor</th>\n",
       "      <th>raw_bytes</th>\n",
       "      <th>fingerprint</th>\n",
       "    </tr>\n",
       "  </thead>\n",
       "  <tbody>\n",
       "    <tr>\n",
       "      <th>0</th>\n",
       "      <td>../res/cu-clean/ls</td>\n",
       "      <td>__argmatch_die</td>\n",
       "      <td>49856</td>\n",
       "      <td>10</td>\n",
       "      <td>/home/ubuntu/ace/dataset-gen/coreutils/coreuti...</td>\n",
       "      <td>62.0</td>\n",
       "      <td>__argmatch_die (void)\\n{\\n  ARGMATCH_DIE;\\n}\\n</td>\n",
       "      <td>nm-t</td>\n",
       "      <td>b'\\xbf\\x01\\x00\\x00\\x00\\xe9f\\xf8\\xff\\xff'</td>\n",
       "      <td>[0, 0, 0, 0, 0, 0, 0, 0, 0, 0, 0, 0, 0, 0, 0, ...</td>\n",
       "    </tr>\n",
       "    <tr>\n",
       "      <th>1</th>\n",
       "      <td>../res/cu-clean/ls</td>\n",
       "      <td>__strftime_internal</td>\n",
       "      <td>67264</td>\n",
       "      <td>6375</td>\n",
       "      <td>/home/ubuntu/ace/dataset-gen/coreutils/coreuti...</td>\n",
       "      <td>446.0</td>\n",
       "      <td>__strftime_internal (STREAM_OR_CHAR_T *s, STRF...</td>\n",
       "      <td>nm-t</td>\n",
       "      <td>b'AWAVI\\x89\\xffAUATH\\x8d\\x05\\x98u\\x00\\x00USI\\x...</td>\n",
       "      <td>[12, 1, -2147483648, -134217728, 0, 1, -214748...</td>\n",
       "    </tr>\n",
       "    <tr>\n",
       "      <th>2</th>\n",
       "      <td>../res/cu-clean/ls</td>\n",
       "      <td>__xargmatch_internal</td>\n",
       "      <td>50576</td>\n",
       "      <td>109</td>\n",
       "      <td>/home/ubuntu/ace/dataset-gen/coreutils/coreuti...</td>\n",
       "      <td>176.0</td>\n",
       "      <td>__xargmatch_internal (const char *context,\\n  ...</td>\n",
       "      <td>nm-T</td>\n",
       "      <td>b'AWAVI\\x89\\xfeAUATI\\x89\\xf4USH\\x89\\xcdH\\x89\\x...</td>\n",
       "      <td>[8, -2147483647, -2147483648, 0, -2147483647, ...</td>\n",
       "    </tr>\n",
       "    <tr>\n",
       "      <th>3</th>\n",
       "      <td>../res/cu-clean/ls</td>\n",
       "      <td>_obstack_allocated_p</td>\n",
       "      <td>87568</td>\n",
       "      <td>56</td>\n",
       "      <td>/home/ubuntu/ace/dataset-gen/coreutils/coreuti...</td>\n",
       "      <td>241.0</td>\n",
       "      <td>_obstack_allocated_p (struct obstack *h, void ...</td>\n",
       "      <td>nm-T</td>\n",
       "      <td>b'H\\x8bG\\x08H\\x85\\xc0t-\\x0f\\x1f\\x80\\x00\\x00\\x0...</td>\n",
       "      <td>[1, -2147483647, 0, 0, 38505, 0, 0, 0, 0, 0, 0...</td>\n",
       "    </tr>\n",
       "    <tr>\n",
       "      <th>4</th>\n",
       "      <td>../res/cu-clean/ls</td>\n",
       "      <td>_obstack_begin</td>\n",
       "      <td>87264</td>\n",
       "      <td>17</td>\n",
       "      <td>/home/ubuntu/ace/dataset-gen/coreutils/coreuti...</td>\n",
       "      <td>150.0</td>\n",
       "      <td>_obstack_begin (struct obstack *h,\\n          ...</td>\n",
       "      <td>nm-T</td>\n",
       "      <td>b'\\x80gP\\xfeH\\x89O8L\\x89G@\\xe9_\\xff\\xff\\xff'</td>\n",
       "      <td>[63, -2147483647, 64, 0, 0, 64, 4, 2406, 64, 8...</td>\n",
       "    </tr>\n",
       "    <tr>\n",
       "      <th>...</th>\n",
       "      <td>...</td>\n",
       "      <td>...</td>\n",
       "      <td>...</td>\n",
       "      <td>...</td>\n",
       "      <td>...</td>\n",
       "      <td>...</td>\n",
       "      <td>...</td>\n",
       "      <td>...</td>\n",
       "      <td>...</td>\n",
       "      <td>...</td>\n",
       "    </tr>\n",
       "    <tr>\n",
       "      <th>9263</th>\n",
       "      <td>../res/cu-clean/head</td>\n",
       "      <td>xrealloc</td>\n",
       "      <td>24592</td>\n",
       "      <td>54</td>\n",
       "      <td>/home/ubuntu/ace/dataset-gen/coreutils/coreuti...</td>\n",
       "      <td>51.0</td>\n",
       "      <td>xrealloc (void *p, size_t n)\\n{\\n  if (!n &amp;&amp; p...</td>\n",
       "      <td>nm-T</td>\n",
       "      <td>b'H\\x85\\xf6SH\\x89\\xf3u\\x05H\\x85\\xffu\\x1aH\\x89\\...</td>\n",
       "      <td>[0, -2147483647, 1, 0, 38505, 1, 0, 0, 0, 0, 1...</td>\n",
       "    </tr>\n",
       "    <tr>\n",
       "      <th>9264</th>\n",
       "      <td>../res/cu-clean/head</td>\n",
       "      <td>xstrdup</td>\n",
       "      <td>25056</td>\n",
       "      <td>19</td>\n",
       "      <td>/home/ubuntu/ace/dataset-gen/coreutils/coreuti...</td>\n",
       "      <td>119.0</td>\n",
       "      <td>xstrdup (char const *string)\\n{\\n  return xmem...</td>\n",
       "      <td>nm-T</td>\n",
       "      <td>b'SH\\x89\\xfb\\xe8\\xc7\\xb6\\xff\\xffH\\x89\\xdfH\\x8d...</td>\n",
       "      <td>[-1, -2147483647, 0, 0, 0, 0, 0, 0, 0, 0, 0, 0...</td>\n",
       "    </tr>\n",
       "    <tr>\n",
       "      <th>9265</th>\n",
       "      <td>../res/cu-clean/head</td>\n",
       "      <td>xstrtoumax</td>\n",
       "      <td>25456</td>\n",
       "      <td>1052</td>\n",
       "      <td>/home/ubuntu/ace/dataset-gen/coreutils/coreuti...</td>\n",
       "      <td>88.0</td>\n",
       "      <td>__xstrtol (const char *s, char **ptr, int strt...</td>\n",
       "      <td>nm-T</td>\n",
       "      <td>b'AWAVAUATUSH\\x83\\xec(dH\\x8b\\x04%(\\x00\\x00\\x00...</td>\n",
       "      <td>[36, -2147483647, -2147483648, -134217728, 0, ...</td>\n",
       "    </tr>\n",
       "    <tr>\n",
       "      <th>9266</th>\n",
       "      <td>../res/cu-clean/head</td>\n",
       "      <td>xwrite_stdout.part.6</td>\n",
       "      <td>11968</td>\n",
       "      <td>120</td>\n",
       "      <td>/home/ubuntu/ace/dataset-gen/coreutils/coreuti...</td>\n",
       "      <td>179.0</td>\n",
       "      <td>xwrite_stdout (char const *buffer, size_t n_by...</td>\n",
       "      <td>nm-t</td>\n",
       "      <td>b\"USH\\x89\\xf2H\\x89\\xf3\\xbe\\x01\\x00\\x00\\x00H\\x8...</td>\n",
       "      <td>[8, -2147483647, -2145357361, 0, 0, -214535736...</td>\n",
       "    </tr>\n",
       "    <tr>\n",
       "      <th>9267</th>\n",
       "      <td>../res/cu-clean/head</td>\n",
       "      <td>xzalloc</td>\n",
       "      <td>24928</td>\n",
       "      <td>23</td>\n",
       "      <td>/home/ubuntu/ace/dataset-gen/coreutils/coreuti...</td>\n",
       "      <td>84.0</td>\n",
       "      <td>xzalloc (size_t s)\\n{\\n  return memset (xmallo...</td>\n",
       "      <td>nm-T</td>\n",
       "      <td>b'SH\\x89\\xfb\\xe8G\\xfe\\xff\\xffH\\x89\\xda1\\xf6H\\x...</td>\n",
       "      <td>[-1, -2147483647, 0, 0, 0, 0, 0, 0, 0, 0, 0, 0...</td>\n",
       "    </tr>\n",
       "  </tbody>\n",
       "</table>\n",
       "<p>8681 rows × 10 columns</p>\n",
       "</div>"
      ],
      "text/plain": [
       "                    binary              function  address  length  \\\n",
       "0       ../res/cu-clean/ls        __argmatch_die    49856      10   \n",
       "1       ../res/cu-clean/ls   __strftime_internal    67264    6375   \n",
       "2       ../res/cu-clean/ls  __xargmatch_internal    50576     109   \n",
       "3       ../res/cu-clean/ls  _obstack_allocated_p    87568      56   \n",
       "4       ../res/cu-clean/ls        _obstack_begin    87264      17   \n",
       "...                    ...                   ...      ...     ...   \n",
       "9263  ../res/cu-clean/head              xrealloc    24592      54   \n",
       "9264  ../res/cu-clean/head               xstrdup    25056      19   \n",
       "9265  ../res/cu-clean/head            xstrtoumax    25456    1052   \n",
       "9266  ../res/cu-clean/head  xwrite_stdout.part.6    11968     120   \n",
       "9267  ../res/cu-clean/head               xzalloc    24928      23   \n",
       "\n",
       "                                               src_path  src_line  \\\n",
       "0     /home/ubuntu/ace/dataset-gen/coreutils/coreuti...      62.0   \n",
       "1     /home/ubuntu/ace/dataset-gen/coreutils/coreuti...     446.0   \n",
       "2     /home/ubuntu/ace/dataset-gen/coreutils/coreuti...     176.0   \n",
       "3     /home/ubuntu/ace/dataset-gen/coreutils/coreuti...     241.0   \n",
       "4     /home/ubuntu/ace/dataset-gen/coreutils/coreuti...     150.0   \n",
       "...                                                 ...       ...   \n",
       "9263  /home/ubuntu/ace/dataset-gen/coreutils/coreuti...      51.0   \n",
       "9264  /home/ubuntu/ace/dataset-gen/coreutils/coreuti...     119.0   \n",
       "9265  /home/ubuntu/ace/dataset-gen/coreutils/coreuti...      88.0   \n",
       "9266  /home/ubuntu/ace/dataset-gen/coreutils/coreuti...     179.0   \n",
       "9267  /home/ubuntu/ace/dataset-gen/coreutils/coreuti...      84.0   \n",
       "\n",
       "                                               src_code attributor  \\\n",
       "0        __argmatch_die (void)\\n{\\n  ARGMATCH_DIE;\\n}\\n       nm-t   \n",
       "1     __strftime_internal (STREAM_OR_CHAR_T *s, STRF...       nm-t   \n",
       "2     __xargmatch_internal (const char *context,\\n  ...       nm-T   \n",
       "3     _obstack_allocated_p (struct obstack *h, void ...       nm-T   \n",
       "4     _obstack_begin (struct obstack *h,\\n          ...       nm-T   \n",
       "...                                                 ...        ...   \n",
       "9263  xrealloc (void *p, size_t n)\\n{\\n  if (!n && p...       nm-T   \n",
       "9264  xstrdup (char const *string)\\n{\\n  return xmem...       nm-T   \n",
       "9265  __xstrtol (const char *s, char **ptr, int strt...       nm-T   \n",
       "9266  xwrite_stdout (char const *buffer, size_t n_by...       nm-t   \n",
       "9267  xzalloc (size_t s)\\n{\\n  return memset (xmallo...       nm-T   \n",
       "\n",
       "                                              raw_bytes  \\\n",
       "0              b'\\xbf\\x01\\x00\\x00\\x00\\xe9f\\xf8\\xff\\xff'   \n",
       "1     b'AWAVI\\x89\\xffAUATH\\x8d\\x05\\x98u\\x00\\x00USI\\x...   \n",
       "2     b'AWAVI\\x89\\xfeAUATI\\x89\\xf4USH\\x89\\xcdH\\x89\\x...   \n",
       "3     b'H\\x8bG\\x08H\\x85\\xc0t-\\x0f\\x1f\\x80\\x00\\x00\\x0...   \n",
       "4          b'\\x80gP\\xfeH\\x89O8L\\x89G@\\xe9_\\xff\\xff\\xff'   \n",
       "...                                                 ...   \n",
       "9263  b'H\\x85\\xf6SH\\x89\\xf3u\\x05H\\x85\\xffu\\x1aH\\x89\\...   \n",
       "9264  b'SH\\x89\\xfb\\xe8\\xc7\\xb6\\xff\\xffH\\x89\\xdfH\\x8d...   \n",
       "9265  b'AWAVAUATUSH\\x83\\xec(dH\\x8b\\x04%(\\x00\\x00\\x00...   \n",
       "9266  b\"USH\\x89\\xf2H\\x89\\xf3\\xbe\\x01\\x00\\x00\\x00H\\x8...   \n",
       "9267  b'SH\\x89\\xfb\\xe8G\\xfe\\xff\\xffH\\x89\\xda1\\xf6H\\x...   \n",
       "\n",
       "                                            fingerprint  \n",
       "0     [0, 0, 0, 0, 0, 0, 0, 0, 0, 0, 0, 0, 0, 0, 0, ...  \n",
       "1     [12, 1, -2147483648, -134217728, 0, 1, -214748...  \n",
       "2     [8, -2147483647, -2147483648, 0, -2147483647, ...  \n",
       "3     [1, -2147483647, 0, 0, 38505, 0, 0, 0, 0, 0, 0...  \n",
       "4     [63, -2147483647, 64, 0, 0, 64, 4, 2406, 64, 8...  \n",
       "...                                                 ...  \n",
       "9263  [0, -2147483647, 1, 0, 38505, 1, 0, 0, 0, 0, 1...  \n",
       "9264  [-1, -2147483647, 0, 0, 0, 0, 0, 0, 0, 0, 0, 0...  \n",
       "9265  [36, -2147483647, -2147483648, -134217728, 0, ...  \n",
       "9266  [8, -2147483647, -2145357361, 0, 0, -214535736...  \n",
       "9267  [-1, -2147483647, 0, 0, 0, 0, 0, 0, 0, 0, 0, 0...  \n",
       "\n",
       "[8681 rows x 10 columns]"
      ]
     },
     "metadata": {},
     "output_type": "display_data"
    },
    {
     "data": {
      "text/plain": [
       "'8681 out of 9268: 93.67%'"
      ]
     },
     "metadata": {},
     "output_type": "display_data"
    }
   ],
   "source": [
    "code_ident = cu_clean.duplicated(subset=['src_code'], keep=False)\n",
    "display(cu_clean[code_ident])\n",
    "display(\"{} out of {}: {:.2f}%\".format(len(cu_clean[code_ident]), \n",
    "                                   len(cu_clean), \n",
    "                                   (len(cu_clean[code_ident])/len(cu_clean))*100))"
   ]
  },
  {
   "cell_type": "markdown",
   "metadata": {},
   "source": [
    "**Wow, so almost 94% of functions are groupwise code-identical.** Let's do a sanity check by seeing if we get similar numbers for source-path and byte-identicality"
   ]
  },
  {
   "cell_type": "code",
   "execution_count": 42,
   "metadata": {
    "ExecuteTime": {
     "end_time": "2020-01-10T20:38:46.024663Z",
     "start_time": "2020-01-10T20:38:45.975322Z"
    }
   },
   "outputs": [
    {
     "data": {
      "text/plain": [
       "'Groupwise Path-identical: 8676 out of 9268 (93.61%)'"
      ]
     },
     "metadata": {},
     "output_type": "display_data"
    },
    {
     "data": {
      "text/plain": [
       "'Groupwise Byte-identical: 3115 out of 9268 (33.61%)'"
      ]
     },
     "metadata": {},
     "output_type": "display_data"
    },
    {
     "data": {
      "text/plain": [
       "'Code AND Byte-identical: 3103 out of 9268 (33.48%)'"
      ]
     },
     "metadata": {},
     "output_type": "display_data"
    },
    {
     "data": {
      "text/plain": [
       "'Code AND Byte AND path-identical: 3103 out of 9268 (33.48%)'"
      ]
     },
     "metadata": {},
     "output_type": "display_data"
    }
   ],
   "source": [
    "path_ident = cu_clean.duplicated(subset=['src_path', 'src_line'], keep=False)\n",
    "display(\"Groupwise Path-identical: {} out of {} ({:.2f}%)\".format(len(cu_clean[path_ident]), \n",
    "                                   len(cu_clean), \n",
    "                                   (len(cu_clean[path_ident])/len(cu_clean))*100))\n",
    "\n",
    "byte_ident = cu_clean.duplicated(subset=['raw_bytes'], keep=False)\n",
    "display(\"Groupwise Byte-identical: {} out of {} ({:.2f}%)\".format(len(cu_clean[byte_ident]), \n",
    "                                   len(cu_clean), \n",
    "                                   (len(cu_clean[byte_ident])/len(cu_clean))*100))\n",
    "\n",
    "code_byte_ident = code_ident & byte_ident\n",
    "display(\"Code AND Byte-identical: {} out of {} ({:.2f}%)\".format(len(cu_clean[code_byte_ident]), \n",
    "                                   len(cu_clean), \n",
    "                                   (len(cu_clean[code_byte_ident])/len(cu_clean))*100))\n",
    "\n",
    "code_byte_path_ident = code_ident & byte_ident & path_ident\n",
    "display(\"Code AND Byte AND path-identical: {} out of {} ({:.2f}%)\".format(len(cu_clean[code_byte_path_ident]), \n",
    "                                   len(cu_clean), \n",
    "                                   (len(cu_clean[code_byte_path_ident])/len(cu_clean))*100))"
   ]
  },
  {
   "cell_type": "markdown",
   "metadata": {},
   "source": [
    "Now let's look at the code that is fingerprint-identical AND byte-/code-identical (NOT groupwise)\n",
    "\n",
    "...but we can't do that directly since `duplicated` doesn't work on non-hashable (i.e. list) types"
   ]
  },
  {
   "cell_type": "code",
   "execution_count": 52,
   "metadata": {
    "ExecuteTime": {
     "end_time": "2020-02-03T19:49:56.595371Z",
     "start_time": "2020-02-03T19:49:56.573825Z"
    }
   },
   "outputs": [],
   "source": [
    "cu_clean[\"fingerprint_tuple\"] = cu_clean.fingerprint.apply(lambda x: tuple(x))"
   ]
  },
  {
   "cell_type": "code",
   "execution_count": 54,
   "metadata": {
    "ExecuteTime": {
     "end_time": "2020-02-03T19:52:17.884838Z",
     "start_time": "2020-02-03T19:52:17.830279Z"
    }
   },
   "outputs": [
    {
     "data": {
      "text/plain": [
       "'Code-identical and fingerprint-identical: 8386 out of 8676 (96.66%)'"
      ]
     },
     "metadata": {},
     "output_type": "display_data"
    },
    {
     "data": {
      "text/plain": [
       "'Byte-identical and fingerprint-identical: 3115 out of 3115 (100.00%)'"
      ]
     },
     "metadata": {},
     "output_type": "display_data"
    }
   ],
   "source": [
    "fingerprint_path_ident = cu_clean.duplicated(subset=['src_path', 'src_line','fingerprint_tuple'], keep=False)\n",
    "display(\"Code-identical and fingerprint-identical: {} out of {} ({:.2f}%)\".format(len(cu_clean[fingerprint_path_ident]), \n",
    "                                   path_ident.sum(), \n",
    "                                   (len(cu_clean[fingerprint_path_ident])/path_ident.sum())*100))\n",
    "\n",
    "fingerprint_byte_ident = cu_clean.duplicated(subset=['raw_bytes', 'fingerprint_tuple'], keep=False)\n",
    "display(\"Byte-identical and fingerprint-identical: {} out of {} ({:.2f}%)\".format(len(cu_clean[fingerprint_byte_ident]), \n",
    "                                   byte_ident.sum(), \n",
    "                                   (len(cu_clean[fingerprint_byte_ident])/byte_ident.sum())*100))"
   ]
  },
  {
   "cell_type": "markdown",
   "metadata": {},
   "source": [
    "Promising... 100% byte-identical and fingerprint-identical is a good sanity check; same input should always produce same output. 96.6% code-identical and fingerprint-identical means that although there are some compiler variations happening, fingerprints are largely similar."
   ]
  },
  {
   "cell_type": "code",
   "execution_count": 64,
   "metadata": {
    "ExecuteTime": {
     "end_time": "2020-02-04T21:18:37.921978Z",
     "start_time": "2020-02-04T21:18:37.905580Z"
    }
   },
   "outputs": [
    {
     "data": {
      "text/plain": [
       "981.0     105\n",
       "141.0     105\n",
       "256.0     105\n",
       "848.0     105\n",
       "168.0     105\n",
       "996.0     105\n",
       "975.0     105\n",
       "1066.0    105\n",
       "948.0     105\n",
       "961.0     105\n",
       "954.0     105\n",
       "1035.0    105\n",
       "812.0     105\n",
       "942.0     105\n",
       "784.0     105\n",
       "1008.0    105\n",
       "1042.0    105\n",
       "133.0     105\n",
       "877.0     105\n",
       "799.0     105\n",
       "1078.0    105\n",
       "1002.0    105\n",
       "969.0     105\n",
       "207.0     105\n",
       "122.0     105\n",
       "1025.0     20\n",
       "Name: src_line, dtype: int64"
      ]
     },
     "execution_count": 64,
     "metadata": {},
     "output_type": "execute_result"
    }
   ],
   "source": [
    "top_mask = cu_clean['src_path'] == \"/home/ubuntu/ace/dataset-gen/coreutils/coreutils-8.28/lib/quotearg.c\"\n",
    "cu_clean[fingerprint_path_ident & top_mask]['src_line'].value_counts()"
   ]
  },
  {
   "cell_type": "code",
   "execution_count": 122,
   "metadata": {
    "ExecuteTime": {
     "end_time": "2020-02-04T22:20:27.286383Z",
     "start_time": "2020-02-04T22:20:26.760494Z"
    }
   },
   "outputs": [
    {
     "data": {
      "text/plain": [
       "array(['xstrtoul', 'xstrtoumax', 'xstrtoimax', 'xstrtol'], dtype=object)"
      ]
     },
     "execution_count": 122,
     "metadata": {},
     "output_type": "execute_result"
    }
   ],
   "source": [
    "cu_clean.groupby(\"src_code\").filter(lambda g: (g.src_code.size >= 40) and (g.src_code.size <= 60)).function.unique()"
   ]
  },
  {
   "cell_type": "code",
   "execution_count": 139,
   "metadata": {
    "ExecuteTime": {
     "end_time": "2020-02-04T22:43:27.875709Z",
     "start_time": "2020-02-04T22:43:27.815678Z"
    }
   },
   "outputs": [
    {
     "data": {
      "text/plain": [
       "'27 instances out of 27 are code-identical'"
      ]
     },
     "metadata": {},
     "output_type": "display_data"
    },
    {
     "data": {
      "text/plain": [
       "'3 instances out of 27 are byte-identical'"
      ]
     },
     "metadata": {},
     "output_type": "display_data"
    },
    {
     "data": {
      "text/plain": [
       "'25 unique variations on raw bytes'"
      ]
     },
     "metadata": {},
     "output_type": "display_data"
    },
    {
     "data": {
      "text/plain": [
       "'1 unique variations on fingerprints'"
      ]
     },
     "metadata": {},
     "output_type": "display_data"
    },
    {
     "data": {
      "text/plain": [
       "'24 other functions NOT named xstrtoumax have the same fingerprint'"
      ]
     },
     "metadata": {},
     "output_type": "display_data"
    },
    {
     "data": {
      "text/plain": [
       "\"They are named: ['xstrtoul' 'xstrtoimax' 'xstrtol']\""
      ]
     },
     "metadata": {},
     "output_type": "display_data"
    }
   ],
   "source": [
    "instances = len(cu_clean[cu_clean.function == 'xstrtoumax'])\n",
    "xstrtoumax_src = cu_clean[cu_clean.function == 'xstrtoumax'].src_code.loc[211]\n",
    "code_ident_qty = cu_clean[cu_clean.function == 'xstrtoumax'].duplicated(subset=['src_code'], keep=False).sum()\n",
    "byte_ident_qty = cu_clean[cu_clean.function == 'xstrtoumax'].duplicated(subset=['raw_bytes'], keep=False).sum()\n",
    "display(\"{} instances out of {} are code-identical\".format(code_ident_qty, instances))\n",
    "display(\"{} instances out of {} are byte-identical\".format(byte_ident_qty, instances))\n",
    "display(\"{} unique variations on raw bytes\".format(len(cu_clean[cu_clean.function == 'xstrtoumax'].raw_bytes.unique())))\n",
    "display(\"{} unique variations on fingerprints\".format(len(cu_clean[cu_clean.function == 'xstrtoumax'].fingerprint_tuple.unique())))\n",
    "xstrtoumax_fingerprint = cu_clean[cu_clean.function == 'xstrtoumax'].fingerprint_tuple.unique()[0]\n",
    "not_xstrtoumax = cu_clean.function != 'xstrtoumax'\n",
    "has_fprint = cu_clean.fingerprint_tuple == xstrtoumax_fingerprint\n",
    "display(\"{} other functions NOT named xstrtoumax have the same fingerprint\".format(len(cu_clean[not_xstrtoumax & has_fprint])))\n",
    "display(\"They are named: \" + str(cu_clean[not_xstrtoumax & has_fprint].function.unique()))"
   ]
  },
  {
   "cell_type": "markdown",
   "metadata": {},
   "source": [
    "**So this is really cool!** Looks like `xstrtoumax()` occurs in 27 binaries (all code-identically), and while most instances have their own unique raw_byte pattern, *all of them have the same fingerprint!*\n",
    "\n",
    "So what's with those 24 other functions? See below"
   ]
  },
  {
   "cell_type": "code",
   "execution_count": 140,
   "metadata": {
    "ExecuteTime": {
     "end_time": "2020-02-04T22:45:15.291988Z",
     "start_time": "2020-02-04T22:45:15.268687Z"
    }
   },
   "outputs": [
    {
     "data": {
      "text/plain": [
       "'27 function are named xstrtoumax'"
      ]
     },
     "metadata": {},
     "output_type": "display_data"
    },
    {
     "data": {
      "text/plain": [
       "'51 functions have the same source code as xstrtoumax'"
      ]
     },
     "metadata": {},
     "output_type": "display_data"
    },
    {
     "data": {
      "text/plain": [
       "\"Names of those functions include ['xstrtoul' 'xstrtoumax' 'xstrtoimax' 'xstrtol']\""
      ]
     },
     "metadata": {},
     "output_type": "display_data"
    }
   ],
   "source": [
    "display(\"{} function are named xstrtoumax\".format(len(cu_clean[cu_clean.function == 'xstrtoumax'])))\n",
    "display(\"{} functions have the same source code as xstrtoumax\".format(len(cu_clean[cu_clean.src_code == xstrtoumax_src])))\n",
    "display(\"Names of those functions include \" + str(cu_clean[cu_clean.src_code == xstrtoumax_src].function.unique()))"
   ]
  },
  {
   "cell_type": "markdown",
   "metadata": {},
   "source": [
    "So in other words, it appears that there's a family of functions `xstrtoX()` that all share the same source code, but in many cases are compiled differently (i.e. have different raw-bytes). Nonetheless, they ALL have the same fingerprint!"
   ]
  },
  {
   "cell_type": "markdown",
   "metadata": {},
   "source": [
    "# Actually do code injection\n",
    "\n",
    "So let's actually give this injection business a shot. We'll try a math-y function with a bunch of `volatile`s (so they don't get optimized away) like:\n",
    "\n",
    "```c\n",
    "#include <stdlib.h>\n",
    "\n",
    "int peaclab_do_math() {\n",
    "    volatile int num;\n",
    "    volatile int nabs;\n",
    "    volatile int nexp;\n",
    "    volatile div_t ndiv;\n",
    "    volatile int result;\n",
    "    \n",
    "    num = rand() / (RAND_MAX/360);\n",
    "    nabs = abs(num + 1);\n",
    "    ndiv = div(nabs, 7);\n",
    "    result = 2*(num * ndiv.quot) - nabs;\n",
    "    \n",
    "    return result;\n",
    "}\n",
    "```\n",
    "Working inside `~/ace/dataset-gen/coreutils/coreutils-8.28-injected/src`, I manually injected this function into `cp`, `mv`, `ls`, `kill`, `yes`, `who`, `touch`, and `dd` using\n",
    "```bash\n",
    "for f in mv.c ls.c kill.c yes.c who.c touch.c dd.c; do cat ../peaclab_do_math.c >> $f; done\n",
    "```\n",
    "and then ran `cd .. && make -j10`. I confirmed the function made it into the binaries using:\n",
    "\n",
    "```bash\n",
    "for f in cp mv ls kill yes who touch dd; do gdb -q ./$f -ex \"info address peaclab_do_math\" -ex quit; done\n",
    "```\n",
    "\n",
    "Which returned:\n",
    "```\n",
    "Reading symbols from ./cp...done.\n",
    "Symbol \"peaclab_do_math\" is a function at address 0x5c90.\n",
    "Reading symbols from ./mv...done.\n",
    "Symbol \"peaclab_do_math\" is a function at address 0x4ad0.\n",
    "Reading symbols from ./ls...done.\n",
    "Symbol \"peaclab_do_math\" is a function at address 0xc260.\n",
    "Reading symbols from ./kill...done.\n",
    "Symbol \"peaclab_do_math\" is a function at address 0x26a0.\n",
    "Reading symbols from ./yes...done.\n",
    "Symbol \"peaclab_do_math\" is a function at address 0x1f60.\n",
    "Reading symbols from ./who...done.\n",
    "Symbol \"peaclab_do_math\" is a function at address 0x3c00.\n",
    "Reading symbols from ./touch...done.\n",
    "Symbol \"peaclab_do_math\" is a function at address 0x3e60.\n",
    "Reading symbols from ./dd...done.\n",
    "Symbol \"peaclab_do_math\" is a function at address 0x6110.\n",
    "```"
   ]
  },
  {
   "cell_type": "code",
   "execution_count": 144,
   "metadata": {
    "ExecuteTime": {
     "end_time": "2020-02-05T01:10:42.703770Z",
     "start_time": "2020-02-05T01:09:42.995050Z"
    }
   },
   "outputs": [
    {
     "name": "stdout",
     "output_type": "stream",
     "text": [
      "Profiling ls (627 KB)\n",
      "Profiling ln (351 KB)\n",
      "Profiling sleep (163 KB)\n",
      "Profiling id (204 KB)\n",
      "Profiling hostid (148 KB)\n",
      "Profiling unexpand (175 KB)\n",
      "Profiling pwd (164 KB)\n",
      "Profiling chmod (280 KB)\n",
      "Profiling logname (148 KB)\n",
      "Profiling true (144 KB)\n",
      "Profiling dircolors (190 KB)\n",
      "Profiling base32 (188 KB)\n",
      "Profiling expand (173 KB)\n",
      "Profiling dd (344 KB)\n",
      "Profiling tac (184 KB)\n",
      "Profiling od (318 KB)\n",
      "Profiling mktemp (215 KB)\n",
      "Profiling csplit (234 KB)\n",
      "Profiling printenv (146 KB)\n",
      "Profiling whoami (148 KB)\n",
      "Profiling chroot (187 KB)\n",
      "Profiling truncate (176 KB)\n",
      "Profiling sync (155 KB)\n",
      "Profiling sort (548 KB)\n",
      "Profiling link (148 KB)\n",
      "Profiling dirname (149 KB)\n",
      "Profiling df (423 KB)\n",
      "Profiling cat (174 KB)\n",
      "Profiling stat (381 KB)\n",
      "Profiling du (491 KB)\n",
      "Profiling md5sum (205 KB)\n",
      "Profiling wc (223 KB)\n",
      "Profiling stty (292 KB)\n",
      "Profiling mkdir (401 KB)\n",
      "Profiling sha384sum (289 KB)\n",
      "Profiling shuf (292 KB)\n",
      "Profiling uname (154 KB)\n",
      "Profiling cksum (160 KB)\n",
      "Profiling sha1sum (224 KB)\n",
      "Profiling chcon (300 KB)\n",
      "Profiling vdir (627 KB)\n",
      "Profiling basename (156 KB)\n",
      "Profiling mkfifo (314 KB)\n",
      "Profiling base64 (188 KB)\n",
      "Profiling tr (216 KB)\n",
      "Profiling mv (720 KB)\n",
      "Profiling touch (376 KB)\n",
      "WARN: /home/ubuntu/ace/dataset-gen/coreutils/coreutils-8.28-injected/.-injected/parse-datetime.y does not exist\n",
      "WARN: /home/ubuntu/ace/dataset-gen/coreutils/coreutils-8.28-injected/.-injected/parse-datetime.y does not exist\n",
      "WARN: /home/ubuntu/ace/dataset-gen/coreutils/coreutils-8.28-injected/.-injected/parse-datetime.y does not exist\n",
      "WARN: /home/ubuntu/ace/dataset-gen/coreutils/coreutils-8.28-injected/.-injected/parse-datetime.y does not exist\n",
      "WARN: /home/ubuntu/ace/dataset-gen/coreutils/coreutils-8.28-injected/.-injected/parse-datetime.y does not exist\n",
      "WARN: /home/ubuntu/ace/dataset-gen/coreutils/coreutils-8.28-injected/.-injected/parse-datetime.y does not exist\n",
      "WARN: /home/ubuntu/ace/dataset-gen/coreutils/coreutils-8.28-injected/.-injected/parse-datetime.y does not exist\n",
      "WARN: /home/ubuntu/ace/dataset-gen/coreutils/coreutils-8.28-injected/.-injected/parse-datetime.y does not exist\n",
      "WARN: /home/ubuntu/ace/dataset-gen/coreutils/coreutils-8.28-injected/.-injected/parse-datetime.y does not exist\n",
      "WARN: /home/ubuntu/ace/dataset-gen/coreutils/coreutils-8.28-injected/.-injected/parse-datetime.y does not exist\n",
      "WARN: /home/ubuntu/ace/dataset-gen/coreutils/coreutils-8.28-injected/.-injected/parse-datetime.y does not exist\n",
      "WARN: /home/ubuntu/ace/dataset-gen/coreutils/coreutils-8.28-injected/.-injected/parse-datetime.y does not exist\n",
      "WARN: /home/ubuntu/ace/dataset-gen/coreutils/coreutils-8.28-injected/.-injected/parse-datetime.y does not exist\n",
      "WARN: /home/ubuntu/ace/dataset-gen/coreutils/coreutils-8.28-injected/.-injected/parse-datetime.c does not exist\n",
      "Profiling chgrp (298 KB)\n",
      "Profiling split (256 KB)\n",
      "Profiling fmt (190 KB)\n",
      "Profiling users (162 KB)\n",
      "Profiling [ (232 KB)\n",
      "Profiling rmdir (206 KB)\n",
      "Profiling unlink (148 KB)\n",
      "Profiling fold (170 KB)\n",
      "Profiling paste (164 KB)\n",
      "Profiling cut (199 KB)\n",
      "Profiling seq (227 KB)\n",
      "Profiling readlink (212 KB)\n",
      "Profiling sha512sum (289 KB)\n",
      "Profiling realpath (227 KB)\n",
      "Profiling false (144 KB)\n",
      "Profiling factor (363 KB)\n",
      "Profiling pinky (186 KB)\n",
      "Profiling expr (210 KB)\n",
      "Profiling mknod (332 KB)\n",
      "Profiling nl (188 KB)\n",
      "Profiling stdbuf (234 KB)\n",
      "Profiling kill (166 KB)\n",
      "Profiling groups (165 KB)\n",
      "Profiling tail (318 KB)\n",
      "Profiling arch (154 KB)\n",
      "Profiling join (222 KB)\n",
      "Profiling yes (154 KB)\n",
      "Profiling echo (152 KB)\n",
      "Profiling pathchk (158 KB)\n",
      "Profiling printf (242 KB)\n",
      "Profiling numfmt (283 KB)\n",
      "Profiling sum (203 KB)\n",
      "Profiling shred (297 KB)\n",
      "Profiling cp (710 KB)\n",
      "Profiling sha224sum (233 KB)\n",
      "Profiling timeout (180 KB)\n",
      "Profiling tty (145 KB)\n",
      "Profiling runcon (158 KB)\n",
      "Profiling test (217 KB)\n",
      "Profiling nice (162 KB)\n",
      "Profiling tsort (178 KB)\n",
      "Profiling chown (310 KB)\n",
      "Profiling nohup (168 KB)\n",
      "Profiling date (420 KB)\n",
      "WARN: /home/ubuntu/ace/dataset-gen/coreutils/coreutils-8.28-injected/.-injected/parse-datetime.y does not exist\n",
      "WARN: /home/ubuntu/ace/dataset-gen/coreutils/coreutils-8.28-injected/.-injected/parse-datetime.y does not exist\n",
      "WARN: /home/ubuntu/ace/dataset-gen/coreutils/coreutils-8.28-injected/.-injected/parse-datetime.y does not exist\n",
      "WARN: /home/ubuntu/ace/dataset-gen/coreutils/coreutils-8.28-injected/.-injected/parse-datetime.y does not exist\n",
      "WARN: /home/ubuntu/ace/dataset-gen/coreutils/coreutils-8.28-injected/.-injected/parse-datetime.y does not exist\n",
      "WARN: /home/ubuntu/ace/dataset-gen/coreutils/coreutils-8.28-injected/.-injected/parse-datetime.y does not exist\n",
      "WARN: /home/ubuntu/ace/dataset-gen/coreutils/coreutils-8.28-injected/.-injected/parse-datetime.y does not exist\n",
      "WARN: /home/ubuntu/ace/dataset-gen/coreutils/coreutils-8.28-injected/.-injected/parse-datetime.y does not exist\n",
      "WARN: /home/ubuntu/ace/dataset-gen/coreutils/coreutils-8.28-injected/.-injected/parse-datetime.y does not exist\n",
      "WARN: /home/ubuntu/ace/dataset-gen/coreutils/coreutils-8.28-injected/.-injected/parse-datetime.y does not exist\n",
      "WARN: /home/ubuntu/ace/dataset-gen/coreutils/coreutils-8.28-injected/.-injected/parse-datetime.y does not exist\n",
      "WARN: /home/ubuntu/ace/dataset-gen/coreutils/coreutils-8.28-injected/.-injected/parse-datetime.y does not exist\n",
      "WARN: /home/ubuntu/ace/dataset-gen/coreutils/coreutils-8.28-injected/.-injected/parse-datetime.y does not exist\n",
      "WARN: /home/ubuntu/ace/dataset-gen/coreutils/coreutils-8.28-injected/.-injected/parse-datetime.c does not exist\n",
      "Profiling who (242 KB)\n",
      "Profiling uniq (212 KB)\n",
      "Profiling comm (183 KB)\n",
      "Profiling sha256sum (233 KB)\n",
      "Profiling nproc (172 KB)\n",
      "Profiling tee (171 KB)\n",
      "Profiling b2sum (295 KB)\n",
      "Profiling env (152 KB)\n",
      "Profiling rm (305 KB)\n",
      "Profiling ptx (320 KB)\n",
      "Profiling dir (627 KB)\n",
      "Profiling pr (327 KB)\n",
      "Profiling head (213 KB)\n"
     ]
    },
    {
     "data": {
      "text/html": [
       "<div>\n",
       "<style scoped>\n",
       "    .dataframe tbody tr th:only-of-type {\n",
       "        vertical-align: middle;\n",
       "    }\n",
       "\n",
       "    .dataframe tbody tr th {\n",
       "        vertical-align: top;\n",
       "    }\n",
       "\n",
       "    .dataframe thead th {\n",
       "        text-align: right;\n",
       "    }\n",
       "</style>\n",
       "<table border=\"1\" class=\"dataframe\">\n",
       "  <thead>\n",
       "    <tr style=\"text-align: right;\">\n",
       "      <th></th>\n",
       "      <th>binary</th>\n",
       "      <th>function</th>\n",
       "      <th>address</th>\n",
       "      <th>length</th>\n",
       "      <th>src_path</th>\n",
       "      <th>src_line</th>\n",
       "      <th>src_code</th>\n",
       "      <th>attributor</th>\n",
       "      <th>raw_bytes</th>\n",
       "      <th>fingerprint</th>\n",
       "    </tr>\n",
       "  </thead>\n",
       "  <tbody>\n",
       "    <tr>\n",
       "      <th>0</th>\n",
       "      <td>../res/cu-dirty/ls</td>\n",
       "      <td>__argmatch_die</td>\n",
       "      <td>50112</td>\n",
       "      <td>10</td>\n",
       "      <td>/home/ubuntu/ace/dataset-gen/coreutils/coreuti...</td>\n",
       "      <td>62.0</td>\n",
       "      <td>__argmatch_die (void)\\n{\\n  ARGMATCH_DIE;\\n}\\n</td>\n",
       "      <td>nm-t</td>\n",
       "      <td>b'\\xbf\\x01\\x00\\x00\\x00\\xe9\\xf6\\xf7\\xff\\xff'</td>\n",
       "      <td>[0, 0, 0, 0, 0, 0, 0, 0, 0, 0, 0, 0, 0, 0, 0, ...</td>\n",
       "    </tr>\n",
       "    <tr>\n",
       "      <th>1</th>\n",
       "      <td>../res/cu-dirty/ls</td>\n",
       "      <td>__strftime_internal</td>\n",
       "      <td>67520</td>\n",
       "      <td>6375</td>\n",
       "      <td>/home/ubuntu/ace/dataset-gen/coreutils/coreuti...</td>\n",
       "      <td>446.0</td>\n",
       "      <td>__strftime_internal (STREAM_OR_CHAR_T *s, STRF...</td>\n",
       "      <td>nm-t</td>\n",
       "      <td>b'AWAVI\\x89\\xffAUATH\\x8d\\x05\\x98u\\x00\\x00USI\\x...</td>\n",
       "      <td>[12, 1, -2147483648, -134217728, 0, 1, -214748...</td>\n",
       "    </tr>\n",
       "    <tr>\n",
       "      <th>2</th>\n",
       "      <td>../res/cu-dirty/ls</td>\n",
       "      <td>__xargmatch_internal</td>\n",
       "      <td>50832</td>\n",
       "      <td>109</td>\n",
       "      <td>/home/ubuntu/ace/dataset-gen/coreutils/coreuti...</td>\n",
       "      <td>176.0</td>\n",
       "      <td>__xargmatch_internal (const char *context,\\n  ...</td>\n",
       "      <td>nm-T</td>\n",
       "      <td>b'AWAVI\\x89\\xfeAUATI\\x89\\xf4USH\\x89\\xcdH\\x89\\x...</td>\n",
       "      <td>[8, -2147483647, -2147483648, 0, -2147483647, ...</td>\n",
       "    </tr>\n",
       "    <tr>\n",
       "      <th>3</th>\n",
       "      <td>../res/cu-dirty/ls</td>\n",
       "      <td>_obstack_allocated_p</td>\n",
       "      <td>87824</td>\n",
       "      <td>56</td>\n",
       "      <td>/home/ubuntu/ace/dataset-gen/coreutils/coreuti...</td>\n",
       "      <td>241.0</td>\n",
       "      <td>_obstack_allocated_p (struct obstack *h, void ...</td>\n",
       "      <td>nm-T</td>\n",
       "      <td>b'H\\x8bG\\x08H\\x85\\xc0t-\\x0f\\x1f\\x80\\x00\\x00\\x0...</td>\n",
       "      <td>[1, -2147483647, 0, 0, 38505, 0, 0, 0, 0, 0, 0...</td>\n",
       "    </tr>\n",
       "    <tr>\n",
       "      <th>4</th>\n",
       "      <td>../res/cu-dirty/ls</td>\n",
       "      <td>_obstack_begin</td>\n",
       "      <td>87520</td>\n",
       "      <td>17</td>\n",
       "      <td>/home/ubuntu/ace/dataset-gen/coreutils/coreuti...</td>\n",
       "      <td>150.0</td>\n",
       "      <td>_obstack_begin (struct obstack *h,\\n          ...</td>\n",
       "      <td>nm-T</td>\n",
       "      <td>b'\\x80gP\\xfeH\\x89O8L\\x89G@\\xe9_\\xff\\xff\\xff'</td>\n",
       "      <td>[63, -2147483647, 64, 0, 0, 64, 4, 2406, 64, 8...</td>\n",
       "    </tr>\n",
       "    <tr>\n",
       "      <th>...</th>\n",
       "      <td>...</td>\n",
       "      <td>...</td>\n",
       "      <td>...</td>\n",
       "      <td>...</td>\n",
       "      <td>...</td>\n",
       "      <td>...</td>\n",
       "      <td>...</td>\n",
       "      <td>...</td>\n",
       "      <td>...</td>\n",
       "      <td>...</td>\n",
       "    </tr>\n",
       "    <tr>\n",
       "      <th>8957</th>\n",
       "      <td>../res/cu-dirty/head</td>\n",
       "      <td>xrealloc</td>\n",
       "      <td>24592</td>\n",
       "      <td>54</td>\n",
       "      <td>/home/ubuntu/ace/dataset-gen/coreutils/coreuti...</td>\n",
       "      <td>51.0</td>\n",
       "      <td>xrealloc (void *p, size_t n)\\n{\\n  if (!n &amp;&amp; p...</td>\n",
       "      <td>nm-T</td>\n",
       "      <td>b'H\\x85\\xf6SH\\x89\\xf3u\\x05H\\x85\\xffu\\x1aH\\x89\\...</td>\n",
       "      <td>[0, -2147483647, 1, 0, 38505, 1, 0, 0, 0, 0, 1...</td>\n",
       "    </tr>\n",
       "    <tr>\n",
       "      <th>8958</th>\n",
       "      <td>../res/cu-dirty/head</td>\n",
       "      <td>xstrdup</td>\n",
       "      <td>25056</td>\n",
       "      <td>19</td>\n",
       "      <td>/home/ubuntu/ace/dataset-gen/coreutils/coreuti...</td>\n",
       "      <td>119.0</td>\n",
       "      <td>xstrdup (char const *string)\\n{\\n  return xmem...</td>\n",
       "      <td>nm-T</td>\n",
       "      <td>b'SH\\x89\\xfb\\xe8\\xc7\\xb6\\xff\\xffH\\x89\\xdfH\\x8d...</td>\n",
       "      <td>[-1, -2147483647, 0, 0, 0, 0, 0, 0, 0, 0, 0, 0...</td>\n",
       "    </tr>\n",
       "    <tr>\n",
       "      <th>8959</th>\n",
       "      <td>../res/cu-dirty/head</td>\n",
       "      <td>xstrtoumax</td>\n",
       "      <td>25456</td>\n",
       "      <td>1052</td>\n",
       "      <td>/home/ubuntu/ace/dataset-gen/coreutils/coreuti...</td>\n",
       "      <td>88.0</td>\n",
       "      <td>__xstrtol (const char *s, char **ptr, int strt...</td>\n",
       "      <td>nm-T</td>\n",
       "      <td>b'AWAVAUATUSH\\x83\\xec(dH\\x8b\\x04%(\\x00\\x00\\x00...</td>\n",
       "      <td>[36, -2147483647, -2147483648, -134217728, 0, ...</td>\n",
       "    </tr>\n",
       "    <tr>\n",
       "      <th>8960</th>\n",
       "      <td>../res/cu-dirty/head</td>\n",
       "      <td>xwrite_stdout.part.6</td>\n",
       "      <td>11968</td>\n",
       "      <td>120</td>\n",
       "      <td>/home/ubuntu/ace/dataset-gen/coreutils/coreuti...</td>\n",
       "      <td>179.0</td>\n",
       "      <td>xwrite_stdout (char const *buffer, size_t n_by...</td>\n",
       "      <td>nm-t</td>\n",
       "      <td>b\"USH\\x89\\xf2H\\x89\\xf3\\xbe\\x01\\x00\\x00\\x00H\\x8...</td>\n",
       "      <td>[8, -2147483647, -2145357361, 0, 0, -214535736...</td>\n",
       "    </tr>\n",
       "    <tr>\n",
       "      <th>8961</th>\n",
       "      <td>../res/cu-dirty/head</td>\n",
       "      <td>xzalloc</td>\n",
       "      <td>24928</td>\n",
       "      <td>23</td>\n",
       "      <td>/home/ubuntu/ace/dataset-gen/coreutils/coreuti...</td>\n",
       "      <td>84.0</td>\n",
       "      <td>xzalloc (size_t s)\\n{\\n  return memset (xmallo...</td>\n",
       "      <td>nm-T</td>\n",
       "      <td>b'SH\\x89\\xfb\\xe8G\\xfe\\xff\\xffH\\x89\\xda1\\xf6H\\x...</td>\n",
       "      <td>[-1, -2147483647, 0, 0, 0, 0, 0, 0, 0, 0, 0, 0...</td>\n",
       "    </tr>\n",
       "  </tbody>\n",
       "</table>\n",
       "<p>8962 rows × 10 columns</p>\n",
       "</div>"
      ],
      "text/plain": [
       "                    binary              function  address  length  \\\n",
       "0       ../res/cu-dirty/ls        __argmatch_die    50112      10   \n",
       "1       ../res/cu-dirty/ls   __strftime_internal    67520    6375   \n",
       "2       ../res/cu-dirty/ls  __xargmatch_internal    50832     109   \n",
       "3       ../res/cu-dirty/ls  _obstack_allocated_p    87824      56   \n",
       "4       ../res/cu-dirty/ls        _obstack_begin    87520      17   \n",
       "...                    ...                   ...      ...     ...   \n",
       "8957  ../res/cu-dirty/head              xrealloc    24592      54   \n",
       "8958  ../res/cu-dirty/head               xstrdup    25056      19   \n",
       "8959  ../res/cu-dirty/head            xstrtoumax    25456    1052   \n",
       "8960  ../res/cu-dirty/head  xwrite_stdout.part.6    11968     120   \n",
       "8961  ../res/cu-dirty/head               xzalloc    24928      23   \n",
       "\n",
       "                                               src_path  src_line  \\\n",
       "0     /home/ubuntu/ace/dataset-gen/coreutils/coreuti...      62.0   \n",
       "1     /home/ubuntu/ace/dataset-gen/coreutils/coreuti...     446.0   \n",
       "2     /home/ubuntu/ace/dataset-gen/coreutils/coreuti...     176.0   \n",
       "3     /home/ubuntu/ace/dataset-gen/coreutils/coreuti...     241.0   \n",
       "4     /home/ubuntu/ace/dataset-gen/coreutils/coreuti...     150.0   \n",
       "...                                                 ...       ...   \n",
       "8957  /home/ubuntu/ace/dataset-gen/coreutils/coreuti...      51.0   \n",
       "8958  /home/ubuntu/ace/dataset-gen/coreutils/coreuti...     119.0   \n",
       "8959  /home/ubuntu/ace/dataset-gen/coreutils/coreuti...      88.0   \n",
       "8960  /home/ubuntu/ace/dataset-gen/coreutils/coreuti...     179.0   \n",
       "8961  /home/ubuntu/ace/dataset-gen/coreutils/coreuti...      84.0   \n",
       "\n",
       "                                               src_code attributor  \\\n",
       "0        __argmatch_die (void)\\n{\\n  ARGMATCH_DIE;\\n}\\n       nm-t   \n",
       "1     __strftime_internal (STREAM_OR_CHAR_T *s, STRF...       nm-t   \n",
       "2     __xargmatch_internal (const char *context,\\n  ...       nm-T   \n",
       "3     _obstack_allocated_p (struct obstack *h, void ...       nm-T   \n",
       "4     _obstack_begin (struct obstack *h,\\n          ...       nm-T   \n",
       "...                                                 ...        ...   \n",
       "8957  xrealloc (void *p, size_t n)\\n{\\n  if (!n && p...       nm-T   \n",
       "8958  xstrdup (char const *string)\\n{\\n  return xmem...       nm-T   \n",
       "8959  __xstrtol (const char *s, char **ptr, int strt...       nm-T   \n",
       "8960  xwrite_stdout (char const *buffer, size_t n_by...       nm-t   \n",
       "8961  xzalloc (size_t s)\\n{\\n  return memset (xmallo...       nm-T   \n",
       "\n",
       "                                              raw_bytes  \\\n",
       "0           b'\\xbf\\x01\\x00\\x00\\x00\\xe9\\xf6\\xf7\\xff\\xff'   \n",
       "1     b'AWAVI\\x89\\xffAUATH\\x8d\\x05\\x98u\\x00\\x00USI\\x...   \n",
       "2     b'AWAVI\\x89\\xfeAUATI\\x89\\xf4USH\\x89\\xcdH\\x89\\x...   \n",
       "3     b'H\\x8bG\\x08H\\x85\\xc0t-\\x0f\\x1f\\x80\\x00\\x00\\x0...   \n",
       "4          b'\\x80gP\\xfeH\\x89O8L\\x89G@\\xe9_\\xff\\xff\\xff'   \n",
       "...                                                 ...   \n",
       "8957  b'H\\x85\\xf6SH\\x89\\xf3u\\x05H\\x85\\xffu\\x1aH\\x89\\...   \n",
       "8958  b'SH\\x89\\xfb\\xe8\\xc7\\xb6\\xff\\xffH\\x89\\xdfH\\x8d...   \n",
       "8959  b'AWAVAUATUSH\\x83\\xec(dH\\x8b\\x04%(\\x00\\x00\\x00...   \n",
       "8960  b\"USH\\x89\\xf2H\\x89\\xf3\\xbe\\x01\\x00\\x00\\x00H\\x8...   \n",
       "8961  b'SH\\x89\\xfb\\xe8G\\xfe\\xff\\xffH\\x89\\xda1\\xf6H\\x...   \n",
       "\n",
       "                                            fingerprint  \n",
       "0     [0, 0, 0, 0, 0, 0, 0, 0, 0, 0, 0, 0, 0, 0, 0, ...  \n",
       "1     [12, 1, -2147483648, -134217728, 0, 1, -214748...  \n",
       "2     [8, -2147483647, -2147483648, 0, -2147483647, ...  \n",
       "3     [1, -2147483647, 0, 0, 38505, 0, 0, 0, 0, 0, 0...  \n",
       "4     [63, -2147483647, 64, 0, 0, 64, 4, 2406, 64, 8...  \n",
       "...                                                 ...  \n",
       "8957  [0, -2147483647, 1, 0, 38505, 1, 0, 0, 0, 0, 1...  \n",
       "8958  [-1, -2147483647, 0, 0, 0, 0, 0, 0, 0, 0, 0, 0...  \n",
       "8959  [36, -2147483647, -2147483648, -134217728, 0, ...  \n",
       "8960  [8, -2147483647, -2145357361, 0, 0, -214535736...  \n",
       "8961  [-1, -2147483647, 0, 0, 0, 0, 0, 0, 0, 0, 0, 0...  \n",
       "\n",
       "[8962 rows x 10 columns]"
      ]
     },
     "execution_count": 144,
     "metadata": {},
     "output_type": "execute_result"
    }
   ],
   "source": [
    "profiles=[]\n",
    "runtimes={}\n",
    "with os.scandir(\"../res/cu-dirty/\") as dir_entry:\n",
    "    for entry in dir_entry:\n",
    "        if entry.is_file():\n",
    "            start = time.monotonic()\n",
    "            print(\"Profiling {} ({} KB)\".format(entry.name, entry.stat().st_size//1000))\n",
    "            profiles.append(ace.full_profile(entry.path, threads = 8, ins_sort = True, src_only = True, src_path = \"/home/ubuntu/ace/dataset-gen/coreutils/coreutils-8.28-injected\"))\n",
    "            runtimes[entry.path] = time.monotonic() - start\n",
    "            \n",
    "cu_dirty = pd.concat(profiles, ignore_index=True)\n",
    "cu_dirty"
   ]
  },
  {
   "cell_type": "code",
   "execution_count": 151,
   "metadata": {
    "ExecuteTime": {
     "end_time": "2020-02-05T01:15:24.814300Z",
     "start_time": "2020-02-05T01:15:24.789825Z"
    }
   },
   "outputs": [
    {
     "data": {
      "text/plain": [
       "(40,\n",
       " -2147483647,\n",
       " 2147483647,\n",
       " 0,\n",
       " 0,\n",
       " 0,\n",
       " 0,\n",
       " 0,\n",
       " 0,\n",
       " 0,\n",
       " 0,\n",
       " 0,\n",
       " 0,\n",
       " 38505,\n",
       " 0,\n",
       " 0,\n",
       " 0,\n",
       " 0,\n",
       " 0,\n",
       " 0,\n",
       " 0,\n",
       " 0,\n",
       " 0,\n",
       " 0,\n",
       " 0,\n",
       " 0,\n",
       " 0,\n",
       " 0,\n",
       " 0,\n",
       " 0,\n",
       " 0,\n",
       " 0)"
      ]
     },
     "execution_count": 151,
     "metadata": {},
     "output_type": "execute_result"
    }
   ],
   "source": [
    "cu_dirty[\"fingerprint_tuple\"] = cu_dirty.fingerprint.apply(lambda x: tuple(x))\n",
    "peaclab_do_math_fingerprint = cu_dirty[cu_dirty.function == \"peaclab_do_math\"].fingerprint_tuple.unique()[0]\n",
    "peaclab_do_math_fingerprint"
   ]
  },
  {
   "cell_type": "markdown",
   "metadata": {},
   "source": [
    "Cool, so now that we have the fingerprint, lets make sure it ONLY shows up in ALL of the binaries we injected it into, i.e. cp mv ls kill yes who touch dd"
   ]
  },
  {
   "cell_type": "code",
   "execution_count": 153,
   "metadata": {
    "ExecuteTime": {
     "end_time": "2020-02-05T17:04:08.979834Z",
     "start_time": "2020-02-05T17:04:08.963068Z"
    }
   },
   "outputs": [
    {
     "data": {
      "text/html": [
       "<div>\n",
       "<style scoped>\n",
       "    .dataframe tbody tr th:only-of-type {\n",
       "        vertical-align: middle;\n",
       "    }\n",
       "\n",
       "    .dataframe tbody tr th {\n",
       "        vertical-align: top;\n",
       "    }\n",
       "\n",
       "    .dataframe thead th {\n",
       "        text-align: right;\n",
       "    }\n",
       "</style>\n",
       "<table border=\"1\" class=\"dataframe\">\n",
       "  <thead>\n",
       "    <tr style=\"text-align: right;\">\n",
       "      <th></th>\n",
       "      <th>binary</th>\n",
       "      <th>function</th>\n",
       "      <th>address</th>\n",
       "      <th>length</th>\n",
       "      <th>src_path</th>\n",
       "      <th>src_line</th>\n",
       "      <th>src_code</th>\n",
       "      <th>attributor</th>\n",
       "      <th>raw_bytes</th>\n",
       "      <th>fingerprint</th>\n",
       "      <th>fingerprint_tuple</th>\n",
       "    </tr>\n",
       "  </thead>\n",
       "  <tbody>\n",
       "  </tbody>\n",
       "</table>\n",
       "</div>"
      ],
      "text/plain": [
       "Empty DataFrame\n",
       "Columns: [binary, function, address, length, src_path, src_line, src_code, attributor, raw_bytes, fingerprint, fingerprint_tuple]\n",
       "Index: []"
      ]
     },
     "execution_count": 153,
     "metadata": {},
     "output_type": "execute_result"
    }
   ],
   "source": [
    "cu_clean[cu_clean.fingerprint_tuple == peaclab_do_math_fingerprint]\n",
    "# Output should be empty"
   ]
  },
  {
   "cell_type": "code",
   "execution_count": 159,
   "metadata": {
    "ExecuteTime": {
     "end_time": "2020-02-05T17:11:37.832499Z",
     "start_time": "2020-02-05T17:11:37.772215Z"
    }
   },
   "outputs": [
    {
     "data": {
      "text/html": [
       "<div>\n",
       "<style scoped>\n",
       "    .dataframe tbody tr th:only-of-type {\n",
       "        vertical-align: middle;\n",
       "    }\n",
       "\n",
       "    .dataframe tbody tr th {\n",
       "        vertical-align: top;\n",
       "    }\n",
       "\n",
       "    .dataframe thead th {\n",
       "        text-align: right;\n",
       "    }\n",
       "</style>\n",
       "<table border=\"1\" class=\"dataframe\">\n",
       "  <thead>\n",
       "    <tr style=\"text-align: right;\">\n",
       "      <th></th>\n",
       "      <th>binary</th>\n",
       "      <th>function</th>\n",
       "      <th>address</th>\n",
       "      <th>length</th>\n",
       "      <th>src_path</th>\n",
       "      <th>src_line</th>\n",
       "      <th>src_code</th>\n",
       "      <th>attributor</th>\n",
       "      <th>raw_bytes</th>\n",
       "      <th>fingerprint</th>\n",
       "      <th>fingerprint_tuple</th>\n",
       "    </tr>\n",
       "  </thead>\n",
       "  <tbody>\n",
       "    <tr>\n",
       "      <th>96</th>\n",
       "      <td>../res/cu-dirty/ls</td>\n",
       "      <td>peaclab_do_math</td>\n",
       "      <td>49760</td>\n",
       "      <td>99</td>\n",
       "      <td>/home/ubuntu/ace/dataset-gen/coreutils/coreuti...</td>\n",
       "      <td>5302.0</td>\n",
       "      <td>int peaclab_do_math() {\\n    volatile int num;...</td>\n",
       "      <td>nm-T</td>\n",
       "      <td>b'H\\x83\\xec(\\xe8W|\\xff\\xff\\xba\\xb5\\x00\\x00\\xb4...</td>\n",
       "      <td>[40, -2147483647, 2147483647, 0, 0, 0, 0, 0, 0...</td>\n",
       "      <td>(40, -2147483647, 2147483647, 0, 0, 0, 0, 0, 0...</td>\n",
       "    </tr>\n",
       "    <tr>\n",
       "      <th>1130</th>\n",
       "      <td>../res/cu-dirty/dd</td>\n",
       "      <td>peaclab_do_math</td>\n",
       "      <td>24848</td>\n",
       "      <td>99</td>\n",
       "      <td>/home/ubuntu/ace/dataset-gen/coreutils/coreuti...</td>\n",
       "      <td>2490.0</td>\n",
       "      <td>int peaclab_do_math() {\\n    volatile int num;...</td>\n",
       "      <td>nm-T</td>\n",
       "      <td>b'H\\x83\\xec(\\xe8g\\xc1\\xff\\xff\\xba\\xb5\\x00\\x00\\...</td>\n",
       "      <td>[40, -2147483647, 2147483647, 0, 0, 0, 0, 0, 0...</td>\n",
       "      <td>(40, -2147483647, 2147483647, 0, 0, 0, 0, 0, 0...</td>\n",
       "    </tr>\n",
       "    <tr>\n",
       "      <th>3565</th>\n",
       "      <td>../res/cu-dirty/vdir</td>\n",
       "      <td>peaclab_do_math</td>\n",
       "      <td>49760</td>\n",
       "      <td>99</td>\n",
       "      <td>/home/ubuntu/ace/dataset-gen/coreutils/coreuti...</td>\n",
       "      <td>5302.0</td>\n",
       "      <td>int peaclab_do_math() {\\n    volatile int num;...</td>\n",
       "      <td>nm-T</td>\n",
       "      <td>b'H\\x83\\xec(\\xe8W|\\xff\\xff\\xba\\xb5\\x00\\x00\\xb4...</td>\n",
       "      <td>[40, -2147483647, 2147483647, 0, 0, 0, 0, 0, 0...</td>\n",
       "      <td>(40, -2147483647, 2147483647, 0, 0, 0, 0, 0, 0...</td>\n",
       "    </tr>\n",
       "    <tr>\n",
       "      <th>4158</th>\n",
       "      <td>../res/cu-dirty/mv</td>\n",
       "      <td>peaclab_do_math</td>\n",
       "      <td>19152</td>\n",
       "      <td>99</td>\n",
       "      <td>/home/ubuntu/ace/dataset-gen/coreutils/coreuti...</td>\n",
       "      <td>495.0</td>\n",
       "      <td>int peaclab_do_math() {\\n    volatile int num;...</td>\n",
       "      <td>nm-T</td>\n",
       "      <td>b'H\\x83\\xec(\\xe8G\\xf1\\xff\\xff\\xba\\xb5\\x00\\x00\\...</td>\n",
       "      <td>[40, -2147483647, 2147483647, 0, 0, 0, 0, 0, 0...</td>\n",
       "      <td>(40, -2147483647, 2147483647, 0, 0, 0, 0, 0, 0...</td>\n",
       "    </tr>\n",
       "    <tr>\n",
       "      <th>4314</th>\n",
       "      <td>../res/cu-dirty/touch</td>\n",
       "      <td>peaclab_do_math</td>\n",
       "      <td>15968</td>\n",
       "      <td>99</td>\n",
       "      <td>/home/ubuntu/ace/dataset-gen/coreutils/coreuti...</td>\n",
       "      <td>440.0</td>\n",
       "      <td>int peaclab_do_math() {\\n    volatile int num;...</td>\n",
       "      <td>nm-T</td>\n",
       "      <td>b'H\\x83\\xec(\\xe8w\\xf0\\xff\\xff\\xba\\xb5\\x00\\x00\\...</td>\n",
       "      <td>[40, -2147483647, 2147483647, 0, 0, 0, 0, 0, 0...</td>\n",
       "      <td>(40, -2147483647, 2147483647, 0, 0, 0, 0, 0, 0...</td>\n",
       "    </tr>\n",
       "    <tr>\n",
       "      <th>5986</th>\n",
       "      <td>../res/cu-dirty/kill</td>\n",
       "      <td>peaclab_do_math</td>\n",
       "      <td>9888</td>\n",
       "      <td>99</td>\n",
       "      <td>/home/ubuntu/ace/dataset-gen/coreutils/coreuti...</td>\n",
       "      <td>316.0</td>\n",
       "      <td>int peaclab_do_math() {\\n    volatile int num;...</td>\n",
       "      <td>nm-T</td>\n",
       "      <td>b'H\\x83\\xec(\\xe8\\xe7\\xf4\\xff\\xff\\xba\\xb5\\x00\\x...</td>\n",
       "      <td>[40, -2147483647, 2147483647, 0, 0, 0, 0, 0, 0...</td>\n",
       "      <td>(40, -2147483647, 2147483647, 0, 0, 0, 0, 0, 0...</td>\n",
       "    </tr>\n",
       "    <tr>\n",
       "      <th>6354</th>\n",
       "      <td>../res/cu-dirty/yes</td>\n",
       "      <td>peaclab_do_math</td>\n",
       "      <td>8032</td>\n",
       "      <td>99</td>\n",
       "      <td>/home/ubuntu/ace/dataset-gen/coreutils/coreuti...</td>\n",
       "      <td>130.0</td>\n",
       "      <td>int peaclab_do_math() {\\n    volatile int num;...</td>\n",
       "      <td>nm-T</td>\n",
       "      <td>b'H\\x83\\xec(\\xe8\\x17\\xf9\\xff\\xff\\xba\\xb5\\x00\\x...</td>\n",
       "      <td>[40, -2147483647, 2147483647, 0, 0, 0, 0, 0, 0...</td>\n",
       "      <td>(40, -2147483647, 2147483647, 0, 0, 0, 0, 0, 0...</td>\n",
       "    </tr>\n",
       "    <tr>\n",
       "      <th>6951</th>\n",
       "      <td>../res/cu-dirty/cp</td>\n",
       "      <td>peaclab_do_math</td>\n",
       "      <td>23696</td>\n",
       "      <td>99</td>\n",
       "      <td>/home/ubuntu/ace/dataset-gen/coreutils/coreuti...</td>\n",
       "      <td>1224.0</td>\n",
       "      <td>int peaclab_do_math() {\\n    volatile int num;...</td>\n",
       "      <td>nm-T</td>\n",
       "      <td>b'H\\x83\\xec(\\xe8\\xd7\\xe1\\xff\\xff\\xba\\xb5\\x00\\x...</td>\n",
       "      <td>[40, -2147483647, 2147483647, 0, 0, 0, 0, 0, 0...</td>\n",
       "      <td>(40, -2147483647, 2147483647, 0, 0, 0, 0, 0, 0...</td>\n",
       "    </tr>\n",
       "    <tr>\n",
       "      <th>7811</th>\n",
       "      <td>../res/cu-dirty/who</td>\n",
       "      <td>peaclab_do_math</td>\n",
       "      <td>15360</td>\n",
       "      <td>99</td>\n",
       "      <td>/home/ubuntu/ace/dataset-gen/coreutils/coreuti...</td>\n",
       "      <td>910.0</td>\n",
       "      <td>int peaclab_do_math() {\\n    volatile int num;...</td>\n",
       "      <td>nm-T</td>\n",
       "      <td>b'H\\x83\\xec(\\xe8\\x17\\xe4\\xff\\xff\\xba\\xb5\\x00\\x...</td>\n",
       "      <td>[40, -2147483647, 2147483647, 0, 0, 0, 0, 0, 0...</td>\n",
       "      <td>(40, -2147483647, 2147483647, 0, 0, 0, 0, 0, 0...</td>\n",
       "    </tr>\n",
       "    <tr>\n",
       "      <th>8674</th>\n",
       "      <td>../res/cu-dirty/dir</td>\n",
       "      <td>peaclab_do_math</td>\n",
       "      <td>49760</td>\n",
       "      <td>99</td>\n",
       "      <td>/home/ubuntu/ace/dataset-gen/coreutils/coreuti...</td>\n",
       "      <td>5302.0</td>\n",
       "      <td>int peaclab_do_math() {\\n    volatile int num;...</td>\n",
       "      <td>nm-T</td>\n",
       "      <td>b'H\\x83\\xec(\\xe8W|\\xff\\xff\\xba\\xb5\\x00\\x00\\xb4...</td>\n",
       "      <td>[40, -2147483647, 2147483647, 0, 0, 0, 0, 0, 0...</td>\n",
       "      <td>(40, -2147483647, 2147483647, 0, 0, 0, 0, 0, 0...</td>\n",
       "    </tr>\n",
       "  </tbody>\n",
       "</table>\n",
       "</div>"
      ],
      "text/plain": [
       "                     binary         function  address  length  \\\n",
       "96       ../res/cu-dirty/ls  peaclab_do_math    49760      99   \n",
       "1130     ../res/cu-dirty/dd  peaclab_do_math    24848      99   \n",
       "3565   ../res/cu-dirty/vdir  peaclab_do_math    49760      99   \n",
       "4158     ../res/cu-dirty/mv  peaclab_do_math    19152      99   \n",
       "4314  ../res/cu-dirty/touch  peaclab_do_math    15968      99   \n",
       "5986   ../res/cu-dirty/kill  peaclab_do_math     9888      99   \n",
       "6354    ../res/cu-dirty/yes  peaclab_do_math     8032      99   \n",
       "6951     ../res/cu-dirty/cp  peaclab_do_math    23696      99   \n",
       "7811    ../res/cu-dirty/who  peaclab_do_math    15360      99   \n",
       "8674    ../res/cu-dirty/dir  peaclab_do_math    49760      99   \n",
       "\n",
       "                                               src_path  src_line  \\\n",
       "96    /home/ubuntu/ace/dataset-gen/coreutils/coreuti...    5302.0   \n",
       "1130  /home/ubuntu/ace/dataset-gen/coreutils/coreuti...    2490.0   \n",
       "3565  /home/ubuntu/ace/dataset-gen/coreutils/coreuti...    5302.0   \n",
       "4158  /home/ubuntu/ace/dataset-gen/coreutils/coreuti...     495.0   \n",
       "4314  /home/ubuntu/ace/dataset-gen/coreutils/coreuti...     440.0   \n",
       "5986  /home/ubuntu/ace/dataset-gen/coreutils/coreuti...     316.0   \n",
       "6354  /home/ubuntu/ace/dataset-gen/coreutils/coreuti...     130.0   \n",
       "6951  /home/ubuntu/ace/dataset-gen/coreutils/coreuti...    1224.0   \n",
       "7811  /home/ubuntu/ace/dataset-gen/coreutils/coreuti...     910.0   \n",
       "8674  /home/ubuntu/ace/dataset-gen/coreutils/coreuti...    5302.0   \n",
       "\n",
       "                                               src_code attributor  \\\n",
       "96    int peaclab_do_math() {\\n    volatile int num;...       nm-T   \n",
       "1130  int peaclab_do_math() {\\n    volatile int num;...       nm-T   \n",
       "3565  int peaclab_do_math() {\\n    volatile int num;...       nm-T   \n",
       "4158  int peaclab_do_math() {\\n    volatile int num;...       nm-T   \n",
       "4314  int peaclab_do_math() {\\n    volatile int num;...       nm-T   \n",
       "5986  int peaclab_do_math() {\\n    volatile int num;...       nm-T   \n",
       "6354  int peaclab_do_math() {\\n    volatile int num;...       nm-T   \n",
       "6951  int peaclab_do_math() {\\n    volatile int num;...       nm-T   \n",
       "7811  int peaclab_do_math() {\\n    volatile int num;...       nm-T   \n",
       "8674  int peaclab_do_math() {\\n    volatile int num;...       nm-T   \n",
       "\n",
       "                                              raw_bytes  \\\n",
       "96    b'H\\x83\\xec(\\xe8W|\\xff\\xff\\xba\\xb5\\x00\\x00\\xb4...   \n",
       "1130  b'H\\x83\\xec(\\xe8g\\xc1\\xff\\xff\\xba\\xb5\\x00\\x00\\...   \n",
       "3565  b'H\\x83\\xec(\\xe8W|\\xff\\xff\\xba\\xb5\\x00\\x00\\xb4...   \n",
       "4158  b'H\\x83\\xec(\\xe8G\\xf1\\xff\\xff\\xba\\xb5\\x00\\x00\\...   \n",
       "4314  b'H\\x83\\xec(\\xe8w\\xf0\\xff\\xff\\xba\\xb5\\x00\\x00\\...   \n",
       "5986  b'H\\x83\\xec(\\xe8\\xe7\\xf4\\xff\\xff\\xba\\xb5\\x00\\x...   \n",
       "6354  b'H\\x83\\xec(\\xe8\\x17\\xf9\\xff\\xff\\xba\\xb5\\x00\\x...   \n",
       "6951  b'H\\x83\\xec(\\xe8\\xd7\\xe1\\xff\\xff\\xba\\xb5\\x00\\x...   \n",
       "7811  b'H\\x83\\xec(\\xe8\\x17\\xe4\\xff\\xff\\xba\\xb5\\x00\\x...   \n",
       "8674  b'H\\x83\\xec(\\xe8W|\\xff\\xff\\xba\\xb5\\x00\\x00\\xb4...   \n",
       "\n",
       "                                            fingerprint  \\\n",
       "96    [40, -2147483647, 2147483647, 0, 0, 0, 0, 0, 0...   \n",
       "1130  [40, -2147483647, 2147483647, 0, 0, 0, 0, 0, 0...   \n",
       "3565  [40, -2147483647, 2147483647, 0, 0, 0, 0, 0, 0...   \n",
       "4158  [40, -2147483647, 2147483647, 0, 0, 0, 0, 0, 0...   \n",
       "4314  [40, -2147483647, 2147483647, 0, 0, 0, 0, 0, 0...   \n",
       "5986  [40, -2147483647, 2147483647, 0, 0, 0, 0, 0, 0...   \n",
       "6354  [40, -2147483647, 2147483647, 0, 0, 0, 0, 0, 0...   \n",
       "6951  [40, -2147483647, 2147483647, 0, 0, 0, 0, 0, 0...   \n",
       "7811  [40, -2147483647, 2147483647, 0, 0, 0, 0, 0, 0...   \n",
       "8674  [40, -2147483647, 2147483647, 0, 0, 0, 0, 0, 0...   \n",
       "\n",
       "                                      fingerprint_tuple  \n",
       "96    (40, -2147483647, 2147483647, 0, 0, 0, 0, 0, 0...  \n",
       "1130  (40, -2147483647, 2147483647, 0, 0, 0, 0, 0, 0...  \n",
       "3565  (40, -2147483647, 2147483647, 0, 0, 0, 0, 0, 0...  \n",
       "4158  (40, -2147483647, 2147483647, 0, 0, 0, 0, 0, 0...  \n",
       "4314  (40, -2147483647, 2147483647, 0, 0, 0, 0, 0, 0...  \n",
       "5986  (40, -2147483647, 2147483647, 0, 0, 0, 0, 0, 0...  \n",
       "6354  (40, -2147483647, 2147483647, 0, 0, 0, 0, 0, 0...  \n",
       "6951  (40, -2147483647, 2147483647, 0, 0, 0, 0, 0, 0...  \n",
       "7811  (40, -2147483647, 2147483647, 0, 0, 0, 0, 0, 0...  \n",
       "8674  (40, -2147483647, 2147483647, 0, 0, 0, 0, 0, 0...  "
      ]
     },
     "metadata": {},
     "output_type": "display_data"
    },
    {
     "data": {
      "text/plain": [
       "\"Expected: {'kill', 'touch', 'yes', 'dd', 'ls', 'who', 'mv', 'cp'}\""
      ]
     },
     "metadata": {},
     "output_type": "display_data"
    },
    {
     "data": {
      "text/plain": [
       "\"Actual: {'vdir', 'kill', 'touch', 'dd', 'yes', 'ls', 'who', 'dir', 'mv', 'cp'}\""
      ]
     },
     "metadata": {},
     "output_type": "display_data"
    },
    {
     "data": {
      "text/plain": [
       "\"Difference: {'vdir', 'dir'}\""
      ]
     },
     "metadata": {},
     "output_type": "display_data"
    }
   ],
   "source": [
    "has_injection = cu_dirty[cu_dirty.fingerprint_tuple == peaclab_do_math_fingerprint]\n",
    "display(has_injection)\n",
    "expected = set(['cp', 'mv', 'ls', 'kill', 'yes', 'who', 'touch', 'dd'])\n",
    "actual = set(os.path.basename(x) for x in has_injection.binary)\n",
    "display(\"Expected: \" + str(expected))\n",
    "display(\"Actual: \" + str(actual))\n",
    "display(\"Difference: \" + str(actual - expected))"
   ]
  },
  {
   "cell_type": "markdown",
   "metadata": {},
   "source": [
    "Okay! `vdir` and `dir` are actually the same as `ls` (see https://askubuntu.com/questions/103913/difference-between-dir-and-ls-terminal-commands)! So we'll call this a positive result!"
   ]
  },
  {
   "cell_type": "code",
   "execution_count": null,
   "metadata": {
    "ExecuteTime": {
     "end_time": "2020-02-05T17:29:56.007336Z",
     "start_time": "2020-02-05T17:29:55.330332Z"
    }
   },
   "outputs": [],
   "source": [
    "# Quick Runtime Analysis\n",
    "%matplotlib inline\n",
    "runtimes_df = pd.concat([runtimes_df, pd.DataFrame.from_dict(runtimes, orient='index', columns=['runtime'])])"
   ]
  },
  {
   "cell_type": "code",
   "execution_count": 162,
   "metadata": {
    "ExecuteTime": {
     "end_time": "2020-02-05T17:30:57.397500Z",
     "start_time": "2020-02-05T17:30:57.011932Z"
    }
   },
   "outputs": [
    {
     "data": {
      "text/plain": [
       "Text(0, 0.5, 'Time to fingerprint all functions (sec)')"
      ]
     },
     "execution_count": 162,
     "metadata": {},
     "output_type": "execute_result"
    },
    {
     "data": {
      "image/png": "[encoded data removed]",
      "text/plain": [
       "<Figure size 504x432 with 1 Axes>"
      ]
     },
     "metadata": {
      "needs_background": "light"
     },
     "output_type": "display_data"
    }
   ],
   "source": [
    "runtimes_df['bin_size'] = [os.path.getsize(x) for x in runtimes_df.index]\n",
    "runtime_plt = runtimes_df.plot.scatter(\"bin_size\", \"runtime\", figsize=(7,6), \n",
    "                                       title=\"Binary Size vs. Fingerprinting Runtime for cu-clean and cu-dirty\")\n",
    "runtime_plt.set_xlabel(\"Binary Size (bytes)\")\n",
    "runtime_plt.set_ylabel(\"Time to fingerprint all functions (sec)\")"
   ]
  },
  {
   "cell_type": "code",
   "execution_count": null,
   "metadata": {},
   "outputs": [],
   "source": []
  }
 ],
 "metadata": {
  "kernelspec": {
   "display_name": "Python 3",
   "language": "python",
   "name": "python3"
  },
  "language_info": {
   "codemirror_mode": {
    "name": "ipython",
    "version": 3
   },
   "file_extension": ".py",
   "mimetype": "text/x-python",
   "name": "python",
   "nbconvert_exporter": "python",
   "pygments_lexer": "ipython3",
   "version": "3.6.7"
  }
 },
 "nbformat": 4,
 "nbformat_minor": 2
}
