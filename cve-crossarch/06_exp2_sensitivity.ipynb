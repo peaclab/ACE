{
 "cells": [
  {
   "cell_type": "markdown",
   "metadata": {},
   "source": [
    "# Experiment 2: Change Sensitivity\n",
    "\n",
    "**Function to inject**\n",
    "\n",
    "```c\n",
    "\n",
    "#include <stdlib.h>\n",
    "\n",
    "int peaclab_math() {\n",
    "    volatile int num;\n",
    "    volatile int nabs;\n",
    "    volatile div_t ndiv;\n",
    "    volatile int result;\n",
    "    volatile int array[16];\n",
    "    unsigned short int i;\n",
    "    \n",
    "    for (i=0; i < 16; i++) { /* LP-CC (i=0; i < 15; i++) */\n",
    "        num = rand() / (RAND_MAX/360);\n",
    "        array[i] = (i > 0) ? (array[i-1] + num) : num;\n",
    "    }\n",
    "    \n",
    "    /* IF-APC: if (num % 2 == 0) */\n",
    "    if (num > 100 ) { /* IF-CC: num == 100 */\n",
    "        nabs = abs(num + 1);\n",
    "    } else {\n",
    "        nabs = abs(num - 1);\n",
    "    }\n",
    "    \n",
    "    ndiv = div(nabs, 7); /* MC-DAP: div(nabs, 14) */\n",
    "    result = 2*(num * ndiv.quot) - nabs;\n",
    "\n",
    "    return result;\n",
    "}\n",
    "\n",
    "```\n",
    "\n",
    "**Methodology**\n",
    "1. Inject custom function into at least one application.\n",
    "2. Compile each application repeatedly, each time applying one mutation by itself.\n",
    "3. Fingerprint function. If fingerprint changes, measure distance and stop. If no changes, continue.\n",
    "4. Compile each application repeatedly, each time applying every permutation of *n* mutations (*n* defaults to 2).\n",
    "5. Fingerprint function. If fingerprint changes, measure distance and stop. If no changes, *n*++ and repeat Step 4.\n",
    "\n",
    "**Mutations (see comments in code above)**\n",
    "1. `ORIG` (no changes)\n",
    "1. `LP-CC` \n",
    "2. `IF-APC`\n",
    "3. `IF-CC`\n",
    "4. `MC-DAP`\n",
    "\n",
    "For diffutils/src/diff.c\n",
    " - [x] ORIG\n",
    " - [x] LP-CC\n",
    " - [x] IF-APC\n",
    " - [x] IF-CC\n",
    " - [x] MC-DAP\n",
    "\n"
   ]
  },
  {
   "cell_type": "markdown",
   "metadata": {},
   "source": [
    "## Level 1 (1 mutation at a time)\n",
    "First check all the files exist"
   ]
  },
  {
   "cell_type": "code",
   "execution_count": 1,
   "metadata": {
    "ExecuteTime": {
     "end_time": "2020-03-03T23:43:55.430195Z",
     "start_time": "2020-03-03T23:43:55.415029Z"
    }
   },
   "outputs": [
    {
     "data": {
      "text/plain": [
       "['../../dataset-gen-injected/sensitivity/diffutils-3.7.ORIG/src/diff',\n",
       " '../../dataset-gen-injected/sensitivity/diffutils-3.7.LP-CC/src/diff',\n",
       " '../../dataset-gen-injected/sensitivity/diffutils-3.7.IF-APC/src/diff',\n",
       " '../../dataset-gen-injected/sensitivity/diffutils-3.7.IF-CC/src/diff',\n",
       " '../../dataset-gen-injected/sensitivity/diffutils-3.7.MC-DAP/src/diff']"
      ]
     },
     "metadata": {},
     "output_type": "display_data"
    }
   ],
   "source": [
    "import os\n",
    "mutations = [\"ORIG\", \"LP-CC\", \"IF-APC\", \"IF-CC\", \"MC-DAP\"]\n",
    "level1_bin_paths = list([\"../../dataset-gen-injected/sensitivity/diffutils-3.7.{}/src/diff\".format(x) for x in mutations])\n",
    "display(level1_bin_paths)\n",
    "for bp in level1_bin_paths:\n",
    "    assert(os.path.isfile(bp))"
   ]
  },
  {
   "cell_type": "markdown",
   "metadata": {},
   "source": [
    "Then fingerprint'em"
   ]
  },
  {
   "cell_type": "code",
   "execution_count": 3,
   "metadata": {
    "ExecuteTime": {
     "end_time": "2020-03-03T23:44:17.043395Z",
     "start_time": "2020-03-03T23:44:10.316147Z"
    }
   },
   "outputs": [
    {
     "name": "stdout",
     "output_type": "stream",
     "text": [
      "Profiling ../../dataset-gen-injected/sensitivity/diffutils-3.7.ORIG/src/diff (967.168 KB)\n",
      "Profiling ../../dataset-gen-injected/sensitivity/diffutils-3.7.LP-CC/src/diff (967.176 KB)\n",
      "Profiling ../../dataset-gen-injected/sensitivity/diffutils-3.7.IF-APC/src/diff (967.128 KB)\n",
      "Profiling ../../dataset-gen-injected/sensitivity/diffutils-3.7.IF-CC/src/diff (967.104 KB)\n",
      "Profiling ../../dataset-gen-injected/sensitivity/diffutils-3.7.MC-DAP/src/diff (967.12 KB)\n"
     ]
    }
   ],
   "source": [
    "import ace\n",
    "import pandas as pd\n",
    "import time\n",
    "import os\n",
    "\n",
    "def get_src_dir(bin_path, dataset_path):\n",
    "    dn = os.path.dirname(bin_path)\n",
    "    if os.path.abspath(dn) == os.path.abspath(dataset_path):\n",
    "        return os.path.abspath(bin_path)\n",
    "    elif dn == \"/\":\n",
    "        return None\n",
    "    else:\n",
    "        return get_src_dir(dn, dataset_path)\n",
    "        \n",
    "\n",
    "level1_profiles=[]\n",
    "level1_runtimes={}\n",
    "for bin_path in level1_bin_paths:\n",
    "    if os.path.isfile(bin_path):\n",
    "        src_path = get_src_dir(bin_path, \"../../dataset-gen-injected/sensitivity\")\n",
    "        start = time.monotonic()\n",
    "        print(\"Profiling {} ({} KB)\".format(bin_path, os.path.getsize(bin_path)/1000))\n",
    "        level1_profiles.append(ace.full_profile(bin_path, \n",
    "                                               threads = 8, \n",
    "                                               ins_sort = True, \n",
    "                                               src_only = True, \n",
    "                                               src_path = src_path\n",
    "                                              )\n",
    "                             )\n",
    "        level1_runtimes[bin_path] = time.monotonic() - start"
   ]
  },
  {
   "cell_type": "code",
   "execution_count": 4,
   "metadata": {
    "ExecuteTime": {
     "end_time": "2020-03-03T23:44:17.116624Z",
     "start_time": "2020-03-03T23:44:17.048164Z"
    }
   },
   "outputs": [
    {
     "data": {
      "text/html": [
       "<div>\n",
       "<style scoped>\n",
       "    .dataframe tbody tr th:only-of-type {\n",
       "        vertical-align: middle;\n",
       "    }\n",
       "\n",
       "    .dataframe tbody tr th {\n",
       "        vertical-align: top;\n",
       "    }\n",
       "\n",
       "    .dataframe thead th {\n",
       "        text-align: right;\n",
       "    }\n",
       "</style>\n",
       "<table border=\"1\" class=\"dataframe\">\n",
       "  <thead>\n",
       "    <tr style=\"text-align: right;\">\n",
       "      <th></th>\n",
       "      <th>binary</th>\n",
       "      <th>function</th>\n",
       "      <th>address</th>\n",
       "      <th>length</th>\n",
       "      <th>src_path</th>\n",
       "      <th>src_line</th>\n",
       "      <th>src_code</th>\n",
       "      <th>attributor</th>\n",
       "      <th>raw_bytes</th>\n",
       "      <th>fingerprint</th>\n",
       "    </tr>\n",
       "  </thead>\n",
       "  <tbody>\n",
       "    <tr>\n",
       "      <th>0</th>\n",
       "      <td>../../dataset-gen-injected/sensitivity/diffuti...</td>\n",
       "      <td>__strftime_internal</td>\n",
       "      <td>70624</td>\n",
       "      <td>6375</td>\n",
       "      <td>/home/ubuntu/ace/dataset-gen-injected/sensitiv...</td>\n",
       "      <td>447.0</td>\n",
       "      <td>__strftime_internal (STREAM_OR_CHAR_T *s, STRF...</td>\n",
       "      <td>nm-t</td>\n",
       "      <td>b'AWAVI\\x89\\xffAUATH\\x8d\\x05\\xde\\x91\\x01\\x00US...</td>\n",
       "      <td>[12, 1, -2147483648, -134217728, 0, 1, -214748...</td>\n",
       "    </tr>\n",
       "    <tr>\n",
       "      <th>1</th>\n",
       "      <td>../../dataset-gen-injected/sensitivity/diffuti...</td>\n",
       "      <td>add_exclude</td>\n",
       "      <td>61312</td>\n",
       "      <td>878</td>\n",
       "      <td>/home/ubuntu/ace/dataset-gen-injected/sensitiv...</td>\n",
       "      <td>518.0</td>\n",
       "      <td>add_exclude (struct exclude *ex, char const *p...</td>\n",
       "      <td>nm-T</td>\n",
       "      <td>b'AWAVAUATI\\x89\\xf5US\\x89\\xd5I\\x89\\xfcH\\x83\\xe...</td>\n",
       "      <td>[8, -2147483647, 2147483647, 134217727, 0, -21...</td>\n",
       "    </tr>\n",
       "    <tr>\n",
       "      <th>2</th>\n",
       "      <td>../../dataset-gen-injected/sensitivity/diffuti...</td>\n",
       "      <td>add_exclude_file</td>\n",
       "      <td>62736</td>\n",
       "      <td>167</td>\n",
       "      <td>/home/ubuntu/ace/dataset-gen-injected/sensitiv...</td>\n",
       "      <td>676.0</td>\n",
       "      <td>add_exclude_file (void (*add_func) (struct exc...</td>\n",
       "      <td>nm-T</td>\n",
       "      <td>b'ATUE\\x89\\xc4SH\\x89\\xf5H\\x83\\xec\\x10\\x80:-H\\x...</td>\n",
       "      <td>[16, -2147483647, 173, 0, -46, -129, -46, 0, 8...</td>\n",
       "    </tr>\n",
       "    <tr>\n",
       "      <th>3</th>\n",
       "      <td>../../dataset-gen-injected/sensitivity/diffuti...</td>\n",
       "      <td>add_exclude_fp</td>\n",
       "      <td>62192</td>\n",
       "      <td>531</td>\n",
       "      <td>/home/ubuntu/ace/dataset-gen-injected/sensitiv...</td>\n",
       "      <td>611.0</td>\n",
       "      <td>add_exclude_fp (void (*add_func) (struct exclu...</td>\n",
       "      <td>nm-T</td>\n",
       "      <td>b\"AWAVI\\x89\\xd7AUATI\\x89\\xf5USD\\x89\\xc5E1\\xf61...</td>\n",
       "      <td>[72, -2147483647, -2147483648, -134217728, 0, ...</td>\n",
       "    </tr>\n",
       "    <tr>\n",
       "      <th>4</th>\n",
       "      <td>../../dataset-gen-injected/sensitivity/diffuti...</td>\n",
       "      <td>add_regexp</td>\n",
       "      <td>30272</td>\n",
       "      <td>219</td>\n",
       "      <td>/home/ubuntu/ace/dataset-gen-injected/sensitiv...</td>\n",
       "      <td>815.0</td>\n",
       "      <td>add_regexp (struct regexp_list *reglist, char ...</td>\n",
       "      <td>nm-t</td>\n",
       "      <td>b'AVAUATUH\\x89\\xfdSH\\x89\\xf7H\\x89\\xf3\\xe8\\xfa\\...</td>\n",
       "      <td>[0, -2147483647, 0, 0, 0, 0, 0, 0, 1, 0, 0, 0,...</td>\n",
       "    </tr>\n",
       "    <tr>\n",
       "      <th>...</th>\n",
       "      <td>...</td>\n",
       "      <td>...</td>\n",
       "      <td>...</td>\n",
       "      <td>...</td>\n",
       "      <td>...</td>\n",
       "      <td>...</td>\n",
       "      <td>...</td>\n",
       "      <td>...</td>\n",
       "      <td>...</td>\n",
       "      <td>...</td>\n",
       "    </tr>\n",
       "    <tr>\n",
       "      <th>1515</th>\n",
       "      <td>../../dataset-gen-injected/sensitivity/diffuti...</td>\n",
       "      <td>xstrcat</td>\n",
       "      <td>161984</td>\n",
       "      <td>323</td>\n",
       "      <td>/home/ubuntu/ace/dataset-gen-injected/sensitiv...</td>\n",
       "      <td>33.0</td>\n",
       "      <td>xstrcat (size_t argcount, va_list args)\\n{\\n  ...</td>\n",
       "      <td>nm-t</td>\n",
       "      <td>b\"AWAVAUATUSH\\x83\\xec(dH\\x8b\\x04%(\\x00\\x00\\x00...</td>\n",
       "      <td>[40, -2147483647, 2147483623, 134217726, 0, -2...</td>\n",
       "    </tr>\n",
       "    <tr>\n",
       "      <th>1516</th>\n",
       "      <td>../../dataset-gen-injected/sensitivity/diffuti...</td>\n",
       "      <td>xstrdup</td>\n",
       "      <td>84752</td>\n",
       "      <td>19</td>\n",
       "      <td>/home/ubuntu/ace/dataset-gen-injected/sensitiv...</td>\n",
       "      <td>119.0</td>\n",
       "      <td>xstrdup (char const *string)\\n{\\n  return xmem...</td>\n",
       "      <td>nm-T</td>\n",
       "      <td>b'SH\\x89\\xfb\\xe87\\xe7\\xfe\\xffH\\x89\\xdfH\\x8dp\\x...</td>\n",
       "      <td>[-1, -2147483647, 0, 0, 0, 0, 0, 0, 0, 0, 0, 0...</td>\n",
       "    </tr>\n",
       "    <tr>\n",
       "      <th>1517</th>\n",
       "      <td>../../dataset-gen-injected/sensitivity/diffuti...</td>\n",
       "      <td>xvasprintf</td>\n",
       "      <td>162320</td>\n",
       "      <td>164</td>\n",
       "      <td>/home/ubuntu/ace/dataset-gen-injected/sensitiv...</td>\n",
       "      <td>76.0</td>\n",
       "      <td>xvasprintf (const char *format, va_list args)\\...</td>\n",
       "      <td>nm-T</td>\n",
       "      <td>b'H\\x83\\xec\\x18dH\\x8b\\x04%(\\x00\\x00\\x00H\\x89D$...</td>\n",
       "      <td>[24, -2147483647, 2147483647, 134217727, 0, 0,...</td>\n",
       "    </tr>\n",
       "    <tr>\n",
       "      <th>1518</th>\n",
       "      <td>../../dataset-gen-injected/sensitivity/diffuti...</td>\n",
       "      <td>xzalloc</td>\n",
       "      <td>84624</td>\n",
       "      <td>23</td>\n",
       "      <td>/home/ubuntu/ace/dataset-gen-injected/sensitiv...</td>\n",
       "      <td>84.0</td>\n",
       "      <td>xzalloc (size_t s)\\n{\\n  return memset (xmallo...</td>\n",
       "      <td>nm-T</td>\n",
       "      <td>b'SH\\x89\\xfb\\xe8G\\xfe\\xff\\xffH\\x89\\xda1\\xf6H\\x...</td>\n",
       "      <td>[-1, -2147483647, 0, 0, 0, 0, 0, 0, 0, 0, 0, 0...</td>\n",
       "    </tr>\n",
       "    <tr>\n",
       "      <th>1519</th>\n",
       "      <td>../../dataset-gen-injected/sensitivity/diffuti...</td>\n",
       "      <td>zalloc</td>\n",
       "      <td>58544</td>\n",
       "      <td>24</td>\n",
       "      <td>/home/ubuntu/ace/dataset-gen-injected/sensitiv...</td>\n",
       "      <td>1553.0</td>\n",
       "      <td>zalloc (size_t size)\\n{\\n  void *p = xmalloc (...</td>\n",
       "      <td>nm-T</td>\n",
       "      <td>b\"SH\\x89\\xfb\\xe8'd\\x00\\x00H\\x89\\xda1\\xf6H\\x89\\...</td>\n",
       "      <td>[-1, -2147483647, 0, 0, 0, 0, 0, 0, 0, 0, 0, 0...</td>\n",
       "    </tr>\n",
       "  </tbody>\n",
       "</table>\n",
       "<p>1520 rows × 10 columns</p>\n",
       "</div>"
      ],
      "text/plain": [
       "                                                 binary             function  \\\n",
       "0     ../../dataset-gen-injected/sensitivity/diffuti...  __strftime_internal   \n",
       "1     ../../dataset-gen-injected/sensitivity/diffuti...          add_exclude   \n",
       "2     ../../dataset-gen-injected/sensitivity/diffuti...     add_exclude_file   \n",
       "3     ../../dataset-gen-injected/sensitivity/diffuti...       add_exclude_fp   \n",
       "4     ../../dataset-gen-injected/sensitivity/diffuti...           add_regexp   \n",
       "...                                                 ...                  ...   \n",
       "1515  ../../dataset-gen-injected/sensitivity/diffuti...              xstrcat   \n",
       "1516  ../../dataset-gen-injected/sensitivity/diffuti...              xstrdup   \n",
       "1517  ../../dataset-gen-injected/sensitivity/diffuti...           xvasprintf   \n",
       "1518  ../../dataset-gen-injected/sensitivity/diffuti...              xzalloc   \n",
       "1519  ../../dataset-gen-injected/sensitivity/diffuti...               zalloc   \n",
       "\n",
       "      address  length                                           src_path  \\\n",
       "0       70624    6375  /home/ubuntu/ace/dataset-gen-injected/sensitiv...   \n",
       "1       61312     878  /home/ubuntu/ace/dataset-gen-injected/sensitiv...   \n",
       "2       62736     167  /home/ubuntu/ace/dataset-gen-injected/sensitiv...   \n",
       "3       62192     531  /home/ubuntu/ace/dataset-gen-injected/sensitiv...   \n",
       "4       30272     219  /home/ubuntu/ace/dataset-gen-injected/sensitiv...   \n",
       "...       ...     ...                                                ...   \n",
       "1515   161984     323  /home/ubuntu/ace/dataset-gen-injected/sensitiv...   \n",
       "1516    84752      19  /home/ubuntu/ace/dataset-gen-injected/sensitiv...   \n",
       "1517   162320     164  /home/ubuntu/ace/dataset-gen-injected/sensitiv...   \n",
       "1518    84624      23  /home/ubuntu/ace/dataset-gen-injected/sensitiv...   \n",
       "1519    58544      24  /home/ubuntu/ace/dataset-gen-injected/sensitiv...   \n",
       "\n",
       "      src_line                                           src_code attributor  \\\n",
       "0        447.0  __strftime_internal (STREAM_OR_CHAR_T *s, STRF...       nm-t   \n",
       "1        518.0  add_exclude (struct exclude *ex, char const *p...       nm-T   \n",
       "2        676.0  add_exclude_file (void (*add_func) (struct exc...       nm-T   \n",
       "3        611.0  add_exclude_fp (void (*add_func) (struct exclu...       nm-T   \n",
       "4        815.0  add_regexp (struct regexp_list *reglist, char ...       nm-t   \n",
       "...        ...                                                ...        ...   \n",
       "1515      33.0  xstrcat (size_t argcount, va_list args)\\n{\\n  ...       nm-t   \n",
       "1516     119.0  xstrdup (char const *string)\\n{\\n  return xmem...       nm-T   \n",
       "1517      76.0  xvasprintf (const char *format, va_list args)\\...       nm-T   \n",
       "1518      84.0  xzalloc (size_t s)\\n{\\n  return memset (xmallo...       nm-T   \n",
       "1519    1553.0  zalloc (size_t size)\\n{\\n  void *p = xmalloc (...       nm-T   \n",
       "\n",
       "                                              raw_bytes  \\\n",
       "0     b'AWAVI\\x89\\xffAUATH\\x8d\\x05\\xde\\x91\\x01\\x00US...   \n",
       "1     b'AWAVAUATI\\x89\\xf5US\\x89\\xd5I\\x89\\xfcH\\x83\\xe...   \n",
       "2     b'ATUE\\x89\\xc4SH\\x89\\xf5H\\x83\\xec\\x10\\x80:-H\\x...   \n",
       "3     b\"AWAVI\\x89\\xd7AUATI\\x89\\xf5USD\\x89\\xc5E1\\xf61...   \n",
       "4     b'AVAUATUH\\x89\\xfdSH\\x89\\xf7H\\x89\\xf3\\xe8\\xfa\\...   \n",
       "...                                                 ...   \n",
       "1515  b\"AWAVAUATUSH\\x83\\xec(dH\\x8b\\x04%(\\x00\\x00\\x00...   \n",
       "1516  b'SH\\x89\\xfb\\xe87\\xe7\\xfe\\xffH\\x89\\xdfH\\x8dp\\x...   \n",
       "1517  b'H\\x83\\xec\\x18dH\\x8b\\x04%(\\x00\\x00\\x00H\\x89D$...   \n",
       "1518  b'SH\\x89\\xfb\\xe8G\\xfe\\xff\\xffH\\x89\\xda1\\xf6H\\x...   \n",
       "1519  b\"SH\\x89\\xfb\\xe8'd\\x00\\x00H\\x89\\xda1\\xf6H\\x89\\...   \n",
       "\n",
       "                                            fingerprint  \n",
       "0     [12, 1, -2147483648, -134217728, 0, 1, -214748...  \n",
       "1     [8, -2147483647, 2147483647, 134217727, 0, -21...  \n",
       "2     [16, -2147483647, 173, 0, -46, -129, -46, 0, 8...  \n",
       "3     [72, -2147483647, -2147483648, -134217728, 0, ...  \n",
       "4     [0, -2147483647, 0, 0, 0, 0, 0, 0, 1, 0, 0, 0,...  \n",
       "...                                                 ...  \n",
       "1515  [40, -2147483647, 2147483623, 134217726, 0, -2...  \n",
       "1516  [-1, -2147483647, 0, 0, 0, 0, 0, 0, 0, 0, 0, 0...  \n",
       "1517  [24, -2147483647, 2147483647, 134217727, 0, 0,...  \n",
       "1518  [-1, -2147483647, 0, 0, 0, 0, 0, 0, 0, 0, 0, 0...  \n",
       "1519  [-1, -2147483647, 0, 0, 0, 0, 0, 0, 0, 0, 0, 0...  \n",
       "\n",
       "[1520 rows x 10 columns]"
      ]
     },
     "execution_count": 4,
     "metadata": {},
     "output_type": "execute_result"
    }
   ],
   "source": [
    "level1_fps = pd.concat(level1_profiles, ignore_index=True)\n",
    "level1_fps"
   ]
  },
  {
   "cell_type": "code",
   "execution_count": 5,
   "metadata": {
    "ExecuteTime": {
     "end_time": "2020-03-03T23:44:17.142132Z",
     "start_time": "2020-03-03T23:44:17.121101Z"
    }
   },
   "outputs": [
    {
     "data": {
      "text/plain": [
       "array([(120, -2147483647, -2147483648, -134217728, 0, -2147483648, 0, 40, 104, 0, 40, 2, 9626, 38505, 0, 0, 0, 0, 0, 0, 0, 0, 0, 0, 0, 0, 0, 0, 0, 0, 0, 0)],\n",
       "      dtype=object)"
      ]
     },
     "execution_count": 5,
     "metadata": {},
     "output_type": "execute_result"
    }
   ],
   "source": [
    "level1_fps[\"fingerprint_tuple\"] = level1_fps.fingerprint.apply(lambda x: tuple(x))\n",
    "peaclab_math_fps = level1_fps[level1_fps.function == \"peaclab_math\"].fingerprint_tuple.unique()\n",
    "peaclab_math_fps"
   ]
  },
  {
   "cell_type": "markdown",
   "metadata": {},
   "source": [
    "Well that's not super encouraging... It seems that all mutations result in the same fingerprint. And the same thing happens regardless of the value of `ins_sort` (although the 1 fingerprint is different when ins_sort changes, thankfully), and I also tried adding a call to `peaclab_math()` within the `main()` to no avail (see `../../dataset-gen-injected/sensitivity-with-call`"
   ]
  },
  {
   "cell_type": "code",
   "execution_count": 76,
   "metadata": {
    "ExecuteTime": {
     "end_time": "2020-03-04T17:54:45.392324Z",
     "start_time": "2020-03-04T17:54:45.367248Z"
    }
   },
   "outputs": [
    {
     "data": {
      "text/plain": [
       "'size0=226 size1=227'"
      ]
     },
     "metadata": {},
     "output_type": "display_data"
    },
    {
     "name": "stdout",
     "output_type": "stream",
     "text": [
      "35\n"
     ]
    },
    {
     "data": {
      "text/plain": [
       "'size0=226 size1=226'"
      ]
     },
     "metadata": {},
     "output_type": "display_data"
    },
    {
     "name": "stdout",
     "output_type": "stream",
     "text": [
      "1\n"
     ]
    },
    {
     "data": {
      "text/plain": [
       "'size0=226 size1=226'"
      ]
     },
     "metadata": {},
     "output_type": "display_data"
    },
    {
     "name": "stdout",
     "output_type": "stream",
     "text": [
      "1\n"
     ]
    },
    {
     "data": {
      "text/plain": [
       "'size0=226 size1=242'"
      ]
     },
     "metadata": {},
     "output_type": "display_data"
    },
    {
     "name": "stdout",
     "output_type": "stream",
     "text": [
      "22\n",
      "min=1 avg=14.75 max=35\n"
     ]
    }
   ],
   "source": [
    "import Levenshtein as lev\n",
    "pm_mask = (level1_fps.function == \"peaclab_math\")\n",
    "level1_raw_bytes = list(level1_fps[pm_mask].raw_bytes)\n",
    "orig_raw_bytes = list(level1_fps[pm_mask & (level1_fps.binary == \"../../dataset-gen-injected/sensitivity/diffutils-3.7.ORIG/src/diff\")].raw_bytes)[0]\n",
    "level1_raw_bytes_noorig = set(level1_raw_bytes) - set([orig_raw_bytes])\n",
    "\n",
    "level1_lev_distances = []\n",
    "for rb in level1_raw_bytes_noorig:\n",
    "    display(\"size0={} size1={}\".format(len(orig_raw_bytes), len(rb)))\n",
    "    level1_lev_distances.append(lev.distance(orig_raw_bytes, rb))\n",
    "    print(lev.distance(orig_raw_bytes, rb))\n",
    "    \n",
    "print(\"min={} avg={} max={}\".format(min(level1_lev_distances), sum(level1_lev_distances)/len(level1_lev_distances), max(level1_lev_distances)))"
   ]
  },
  {
   "cell_type": "markdown",
   "metadata": {},
   "source": [
    "## Level 2\n",
    "Now we try two at a time..."
   ]
  },
  {
   "cell_type": "code",
   "execution_count": 6,
   "metadata": {
    "ExecuteTime": {
     "end_time": "2020-03-03T23:44:17.158883Z",
     "start_time": "2020-03-03T23:44:17.145675Z"
    }
   },
   "outputs": [
    {
     "data": {
      "text/plain": [
       "[('LP-CC', 'IF-APC'),\n",
       " ('LP-CC', 'IF-CC'),\n",
       " ('LP-CC', 'MC-DAP'),\n",
       " ('IF-APC', 'IF-CC'),\n",
       " ('IF-APC', 'MC-DAP'),\n",
       " ('IF-CC', 'MC-DAP')]"
      ]
     },
     "execution_count": 6,
     "metadata": {},
     "output_type": "execute_result"
    }
   ],
   "source": [
    "from itertools import combinations\n",
    "level2_combos = list(combinations([\"LP-CC\", \"IF-APC\", \"IF-CC\", \"MC-DAP\"], 2))\n",
    "level2_combos"
   ]
  },
  {
   "cell_type": "markdown",
   "metadata": {},
   "source": [
    "Wanna see a really hacky way of writing a shell script?"
   ]
  },
  {
   "cell_type": "code",
   "execution_count": 7,
   "metadata": {
    "ExecuteTime": {
     "end_time": "2020-03-03T23:44:17.178279Z",
     "start_time": "2020-03-03T23:44:17.162316Z"
    }
   },
   "outputs": [
    {
     "name": "stdout",
     "output_type": "stream",
     "text": [
      "cp -a ../diffutils-3.7.ORIG ./diffutils-3.7.LP-CC.IF-APC\n",
      "cd diffutils-3.7.LP-CC.IF-APC/src/\n",
      "patch -uF3 < ../../../LP-CC.patch\n",
      "patch -uF3 < ../../../IF-APC.patch\n",
      "cd ../\n",
      "make\n",
      "cd ..\n",
      "\n",
      "cp -a ../diffutils-3.7.ORIG ./diffutils-3.7.LP-CC.IF-CC\n",
      "cd diffutils-3.7.LP-CC.IF-CC/src/\n",
      "patch -uF3 < ../../../LP-CC.patch\n",
      "patch -uF3 < ../../../IF-CC.patch\n",
      "cd ../\n",
      "make\n",
      "cd ..\n",
      "\n",
      "cp -a ../diffutils-3.7.ORIG ./diffutils-3.7.LP-CC.MC-DAP\n",
      "cd diffutils-3.7.LP-CC.MC-DAP/src/\n",
      "patch -uF3 < ../../../LP-CC.patch\n",
      "patch -uF3 < ../../../MC-DAP.patch\n",
      "cd ../\n",
      "make\n",
      "cd ..\n",
      "\n",
      "cp -a ../diffutils-3.7.ORIG ./diffutils-3.7.IF-APC.IF-CC\n",
      "cd diffutils-3.7.IF-APC.IF-CC/src/\n",
      "patch -uF3 < ../../../IF-APC.patch\n",
      "patch -uF3 < ../../../IF-CC.patch\n",
      "cd ../\n",
      "make\n",
      "cd ..\n",
      "\n",
      "cp -a ../diffutils-3.7.ORIG ./diffutils-3.7.IF-APC.MC-DAP\n",
      "cd diffutils-3.7.IF-APC.MC-DAP/src/\n",
      "patch -uF3 < ../../../IF-APC.patch\n",
      "patch -uF3 < ../../../MC-DAP.patch\n",
      "cd ../\n",
      "make\n",
      "cd ..\n",
      "\n",
      "cp -a ../diffutils-3.7.ORIG ./diffutils-3.7.IF-CC.MC-DAP\n",
      "cd diffutils-3.7.IF-CC.MC-DAP/src/\n",
      "patch -uF3 < ../../../IF-CC.patch\n",
      "patch -uF3 < ../../../MC-DAP.patch\n",
      "cd ../\n",
      "make\n",
      "cd ..\n",
      "\n"
     ]
    }
   ],
   "source": [
    "bash_block=\"\"\"cp -a ../diffutils-3.7.ORIG ./diffutils-3.7.{0}.{1}\n",
    "cd diffutils-3.7.{0}.{1}/src/\n",
    "patch -uF3 < ../../../{0}.patch\n",
    "patch -uF3 < ../../../{1}.patch\n",
    "cd ../\n",
    "make\n",
    "cd ..\n",
    "\"\"\"\n",
    "\n",
    "for combo in level2_combos:\n",
    "    print(bash_block.format(combo[0], combo[1]))"
   ]
  },
  {
   "cell_type": "code",
   "execution_count": 8,
   "metadata": {
    "ExecuteTime": {
     "end_time": "2020-03-03T23:44:17.199597Z",
     "start_time": "2020-03-03T23:44:17.181454Z"
    }
   },
   "outputs": [
    {
     "data": {
      "text/plain": [
       "['../../dataset-gen-injected/sensitivity/level2/diffutils-3.7.LP-CC.IF-APC/src/diff',\n",
       " '../../dataset-gen-injected/sensitivity/level2/diffutils-3.7.LP-CC.IF-CC/src/diff',\n",
       " '../../dataset-gen-injected/sensitivity/level2/diffutils-3.7.LP-CC.MC-DAP/src/diff',\n",
       " '../../dataset-gen-injected/sensitivity/level2/diffutils-3.7.IF-APC.IF-CC/src/diff',\n",
       " '../../dataset-gen-injected/sensitivity/level2/diffutils-3.7.IF-APC.MC-DAP/src/diff',\n",
       " '../../dataset-gen-injected/sensitivity/level2/diffutils-3.7.IF-CC.MC-DAP/src/diff']"
      ]
     },
     "metadata": {},
     "output_type": "display_data"
    }
   ],
   "source": [
    "level2_bin_paths = list([\"../../dataset-gen-injected/sensitivity/level2/diffutils-3.7.{}.{}/src/diff\".format(x[0], x[1]) for x in level2_combos])\n",
    "display(level2_bin_paths)\n",
    "for bp in level2_bin_paths:\n",
    "    assert(os.path.isfile(bp))"
   ]
  },
  {
   "cell_type": "code",
   "execution_count": 9,
   "metadata": {
    "ExecuteTime": {
     "end_time": "2020-03-03T23:44:25.026084Z",
     "start_time": "2020-03-03T23:44:17.202561Z"
    }
   },
   "outputs": [
    {
     "name": "stdout",
     "output_type": "stream",
     "text": [
      "Profiling ../../dataset-gen-injected/sensitivity/level2/diffutils-3.7.LP-CC.IF-APC/src/diff (967.256 KB)\n",
      "Profiling ../../dataset-gen-injected/sensitivity/level2/diffutils-3.7.LP-CC.IF-CC/src/diff (967.256 KB)\n",
      "Profiling ../../dataset-gen-injected/sensitivity/level2/diffutils-3.7.LP-CC.MC-DAP/src/diff (967.256 KB)\n",
      "Profiling ../../dataset-gen-injected/sensitivity/level2/diffutils-3.7.IF-APC.IF-CC/src/diff (967.232 KB)\n",
      "Profiling ../../dataset-gen-injected/sensitivity/level2/diffutils-3.7.IF-APC.MC-DAP/src/diff (967.256 KB)\n",
      "Profiling ../../dataset-gen-injected/sensitivity/level2/diffutils-3.7.IF-CC.MC-DAP/src/diff (967.232 KB)\n"
     ]
    }
   ],
   "source": [
    "level2_profiles=[]\n",
    "level2_runtimes={}\n",
    "for bin_path in level2_bin_paths:\n",
    "    if os.path.isfile(bin_path):\n",
    "        src_path = get_src_dir(bin_path, \"../../dataset-gen-injected/sensitivity/level2\")\n",
    "        start = time.monotonic()\n",
    "        print(\"Profiling {} ({} KB)\".format(bin_path, os.path.getsize(bin_path)/1000))\n",
    "        level2_profiles.append(ace.full_profile(bin_path, \n",
    "                                               threads = 8, \n",
    "                                               ins_sort = True, \n",
    "                                               src_only = True, \n",
    "                                               src_path = src_path\n",
    "                                              )\n",
    "                             )\n",
    "        level2_runtimes[bin_path] = time.monotonic() - start"
   ]
  },
  {
   "cell_type": "code",
   "execution_count": 10,
   "metadata": {
    "ExecuteTime": {
     "end_time": "2020-03-03T23:44:25.085328Z",
     "start_time": "2020-03-03T23:44:25.031790Z"
    }
   },
   "outputs": [
    {
     "data": {
      "text/html": [
       "<div>\n",
       "<style scoped>\n",
       "    .dataframe tbody tr th:only-of-type {\n",
       "        vertical-align: middle;\n",
       "    }\n",
       "\n",
       "    .dataframe tbody tr th {\n",
       "        vertical-align: top;\n",
       "    }\n",
       "\n",
       "    .dataframe thead th {\n",
       "        text-align: right;\n",
       "    }\n",
       "</style>\n",
       "<table border=\"1\" class=\"dataframe\">\n",
       "  <thead>\n",
       "    <tr style=\"text-align: right;\">\n",
       "      <th></th>\n",
       "      <th>binary</th>\n",
       "      <th>function</th>\n",
       "      <th>address</th>\n",
       "      <th>length</th>\n",
       "      <th>src_path</th>\n",
       "      <th>src_line</th>\n",
       "      <th>src_code</th>\n",
       "      <th>attributor</th>\n",
       "      <th>raw_bytes</th>\n",
       "      <th>fingerprint</th>\n",
       "    </tr>\n",
       "  </thead>\n",
       "  <tbody>\n",
       "    <tr>\n",
       "      <th>0</th>\n",
       "      <td>../../dataset-gen-injected/sensitivity/level2/...</td>\n",
       "      <td>__strftime_internal</td>\n",
       "      <td>70640</td>\n",
       "      <td>6375</td>\n",
       "      <td>/home/ubuntu/ace/dataset-gen-injected/sensitiv...</td>\n",
       "      <td>447.0</td>\n",
       "      <td>__strftime_internal (STREAM_OR_CHAR_T *s, STRF...</td>\n",
       "      <td>nm-t</td>\n",
       "      <td>b'AWAVI\\x89\\xffAUATH\\x8d\\x05\\xee\\x91\\x01\\x00US...</td>\n",
       "      <td>[12, 1, -2147483648, -134217728, 0, 1, -214748...</td>\n",
       "    </tr>\n",
       "    <tr>\n",
       "      <th>1</th>\n",
       "      <td>../../dataset-gen-injected/sensitivity/level2/...</td>\n",
       "      <td>add_exclude</td>\n",
       "      <td>61328</td>\n",
       "      <td>878</td>\n",
       "      <td>/home/ubuntu/ace/dataset-gen-injected/sensitiv...</td>\n",
       "      <td>518.0</td>\n",
       "      <td>add_exclude (struct exclude *ex, char const *p...</td>\n",
       "      <td>nm-T</td>\n",
       "      <td>b'AWAVAUATI\\x89\\xf5US\\x89\\xd5I\\x89\\xfcH\\x83\\xe...</td>\n",
       "      <td>[8, -2147483647, 2147483647, 134217727, 0, -21...</td>\n",
       "    </tr>\n",
       "    <tr>\n",
       "      <th>2</th>\n",
       "      <td>../../dataset-gen-injected/sensitivity/level2/...</td>\n",
       "      <td>add_exclude_file</td>\n",
       "      <td>62752</td>\n",
       "      <td>167</td>\n",
       "      <td>/home/ubuntu/ace/dataset-gen-injected/sensitiv...</td>\n",
       "      <td>676.0</td>\n",
       "      <td>add_exclude_file (void (*add_func) (struct exc...</td>\n",
       "      <td>nm-T</td>\n",
       "      <td>b'ATUE\\x89\\xc4SH\\x89\\xf5H\\x83\\xec\\x10\\x80:-H\\x...</td>\n",
       "      <td>[16, -2147483647, 173, 0, -46, -129, -46, 0, 8...</td>\n",
       "    </tr>\n",
       "    <tr>\n",
       "      <th>3</th>\n",
       "      <td>../../dataset-gen-injected/sensitivity/level2/...</td>\n",
       "      <td>add_exclude_fp</td>\n",
       "      <td>62208</td>\n",
       "      <td>531</td>\n",
       "      <td>/home/ubuntu/ace/dataset-gen-injected/sensitiv...</td>\n",
       "      <td>611.0</td>\n",
       "      <td>add_exclude_fp (void (*add_func) (struct exclu...</td>\n",
       "      <td>nm-T</td>\n",
       "      <td>b\"AWAVI\\x89\\xd7AUATI\\x89\\xf5USD\\x89\\xc5E1\\xf61...</td>\n",
       "      <td>[72, -2147483647, -2147483648, -134217728, 0, ...</td>\n",
       "    </tr>\n",
       "    <tr>\n",
       "      <th>4</th>\n",
       "      <td>../../dataset-gen-injected/sensitivity/level2/...</td>\n",
       "      <td>add_regexp</td>\n",
       "      <td>30272</td>\n",
       "      <td>219</td>\n",
       "      <td>/home/ubuntu/ace/dataset-gen-injected/sensitiv...</td>\n",
       "      <td>815.0</td>\n",
       "      <td>add_regexp (struct regexp_list *reglist, char ...</td>\n",
       "      <td>nm-t</td>\n",
       "      <td>b'AVAUATUH\\x89\\xfdSH\\x89\\xf7H\\x89\\xf3\\xe8\\xfa\\...</td>\n",
       "      <td>[0, -2147483647, 0, 0, 0, 0, 0, 0, 1, 0, 0, 0,...</td>\n",
       "    </tr>\n",
       "    <tr>\n",
       "      <th>...</th>\n",
       "      <td>...</td>\n",
       "      <td>...</td>\n",
       "      <td>...</td>\n",
       "      <td>...</td>\n",
       "      <td>...</td>\n",
       "      <td>...</td>\n",
       "      <td>...</td>\n",
       "      <td>...</td>\n",
       "      <td>...</td>\n",
       "      <td>...</td>\n",
       "    </tr>\n",
       "    <tr>\n",
       "      <th>1819</th>\n",
       "      <td>../../dataset-gen-injected/sensitivity/level2/...</td>\n",
       "      <td>xstrcat</td>\n",
       "      <td>161984</td>\n",
       "      <td>323</td>\n",
       "      <td>/home/ubuntu/ace/dataset-gen-injected/sensitiv...</td>\n",
       "      <td>33.0</td>\n",
       "      <td>xstrcat (size_t argcount, va_list args)\\n{\\n  ...</td>\n",
       "      <td>nm-t</td>\n",
       "      <td>b\"AWAVAUATUSH\\x83\\xec(dH\\x8b\\x04%(\\x00\\x00\\x00...</td>\n",
       "      <td>[40, -2147483647, 2147483623, 134217726, 0, -2...</td>\n",
       "    </tr>\n",
       "    <tr>\n",
       "      <th>1820</th>\n",
       "      <td>../../dataset-gen-injected/sensitivity/level2/...</td>\n",
       "      <td>xstrdup</td>\n",
       "      <td>84752</td>\n",
       "      <td>19</td>\n",
       "      <td>/home/ubuntu/ace/dataset-gen-injected/sensitiv...</td>\n",
       "      <td>119.0</td>\n",
       "      <td>xstrdup (char const *string)\\n{\\n  return xmem...</td>\n",
       "      <td>nm-T</td>\n",
       "      <td>b'SH\\x89\\xfb\\xe87\\xe7\\xfe\\xffH\\x89\\xdfH\\x8dp\\x...</td>\n",
       "      <td>[-1, -2147483647, 0, 0, 0, 0, 0, 0, 0, 0, 0, 0...</td>\n",
       "    </tr>\n",
       "    <tr>\n",
       "      <th>1821</th>\n",
       "      <td>../../dataset-gen-injected/sensitivity/level2/...</td>\n",
       "      <td>xvasprintf</td>\n",
       "      <td>162320</td>\n",
       "      <td>164</td>\n",
       "      <td>/home/ubuntu/ace/dataset-gen-injected/sensitiv...</td>\n",
       "      <td>76.0</td>\n",
       "      <td>xvasprintf (const char *format, va_list args)\\...</td>\n",
       "      <td>nm-T</td>\n",
       "      <td>b'H\\x83\\xec\\x18dH\\x8b\\x04%(\\x00\\x00\\x00H\\x89D$...</td>\n",
       "      <td>[24, -2147483647, 2147483647, 134217727, 0, 0,...</td>\n",
       "    </tr>\n",
       "    <tr>\n",
       "      <th>1822</th>\n",
       "      <td>../../dataset-gen-injected/sensitivity/level2/...</td>\n",
       "      <td>xzalloc</td>\n",
       "      <td>84624</td>\n",
       "      <td>23</td>\n",
       "      <td>/home/ubuntu/ace/dataset-gen-injected/sensitiv...</td>\n",
       "      <td>84.0</td>\n",
       "      <td>xzalloc (size_t s)\\n{\\n  return memset (xmallo...</td>\n",
       "      <td>nm-T</td>\n",
       "      <td>b'SH\\x89\\xfb\\xe8G\\xfe\\xff\\xffH\\x89\\xda1\\xf6H\\x...</td>\n",
       "      <td>[-1, -2147483647, 0, 0, 0, 0, 0, 0, 0, 0, 0, 0...</td>\n",
       "    </tr>\n",
       "    <tr>\n",
       "      <th>1823</th>\n",
       "      <td>../../dataset-gen-injected/sensitivity/level2/...</td>\n",
       "      <td>zalloc</td>\n",
       "      <td>58544</td>\n",
       "      <td>24</td>\n",
       "      <td>/home/ubuntu/ace/dataset-gen-injected/sensitiv...</td>\n",
       "      <td>1553.0</td>\n",
       "      <td>zalloc (size_t size)\\n{\\n  void *p = xmalloc (...</td>\n",
       "      <td>nm-T</td>\n",
       "      <td>b\"SH\\x89\\xfb\\xe8'd\\x00\\x00H\\x89\\xda1\\xf6H\\x89\\...</td>\n",
       "      <td>[-1, -2147483647, 0, 0, 0, 0, 0, 0, 0, 0, 0, 0...</td>\n",
       "    </tr>\n",
       "  </tbody>\n",
       "</table>\n",
       "<p>1824 rows × 10 columns</p>\n",
       "</div>"
      ],
      "text/plain": [
       "                                                 binary             function  \\\n",
       "0     ../../dataset-gen-injected/sensitivity/level2/...  __strftime_internal   \n",
       "1     ../../dataset-gen-injected/sensitivity/level2/...          add_exclude   \n",
       "2     ../../dataset-gen-injected/sensitivity/level2/...     add_exclude_file   \n",
       "3     ../../dataset-gen-injected/sensitivity/level2/...       add_exclude_fp   \n",
       "4     ../../dataset-gen-injected/sensitivity/level2/...           add_regexp   \n",
       "...                                                 ...                  ...   \n",
       "1819  ../../dataset-gen-injected/sensitivity/level2/...              xstrcat   \n",
       "1820  ../../dataset-gen-injected/sensitivity/level2/...              xstrdup   \n",
       "1821  ../../dataset-gen-injected/sensitivity/level2/...           xvasprintf   \n",
       "1822  ../../dataset-gen-injected/sensitivity/level2/...              xzalloc   \n",
       "1823  ../../dataset-gen-injected/sensitivity/level2/...               zalloc   \n",
       "\n",
       "      address  length                                           src_path  \\\n",
       "0       70640    6375  /home/ubuntu/ace/dataset-gen-injected/sensitiv...   \n",
       "1       61328     878  /home/ubuntu/ace/dataset-gen-injected/sensitiv...   \n",
       "2       62752     167  /home/ubuntu/ace/dataset-gen-injected/sensitiv...   \n",
       "3       62208     531  /home/ubuntu/ace/dataset-gen-injected/sensitiv...   \n",
       "4       30272     219  /home/ubuntu/ace/dataset-gen-injected/sensitiv...   \n",
       "...       ...     ...                                                ...   \n",
       "1819   161984     323  /home/ubuntu/ace/dataset-gen-injected/sensitiv...   \n",
       "1820    84752      19  /home/ubuntu/ace/dataset-gen-injected/sensitiv...   \n",
       "1821   162320     164  /home/ubuntu/ace/dataset-gen-injected/sensitiv...   \n",
       "1822    84624      23  /home/ubuntu/ace/dataset-gen-injected/sensitiv...   \n",
       "1823    58544      24  /home/ubuntu/ace/dataset-gen-injected/sensitiv...   \n",
       "\n",
       "      src_line                                           src_code attributor  \\\n",
       "0        447.0  __strftime_internal (STREAM_OR_CHAR_T *s, STRF...       nm-t   \n",
       "1        518.0  add_exclude (struct exclude *ex, char const *p...       nm-T   \n",
       "2        676.0  add_exclude_file (void (*add_func) (struct exc...       nm-T   \n",
       "3        611.0  add_exclude_fp (void (*add_func) (struct exclu...       nm-T   \n",
       "4        815.0  add_regexp (struct regexp_list *reglist, char ...       nm-t   \n",
       "...        ...                                                ...        ...   \n",
       "1819      33.0  xstrcat (size_t argcount, va_list args)\\n{\\n  ...       nm-t   \n",
       "1820     119.0  xstrdup (char const *string)\\n{\\n  return xmem...       nm-T   \n",
       "1821      76.0  xvasprintf (const char *format, va_list args)\\...       nm-T   \n",
       "1822      84.0  xzalloc (size_t s)\\n{\\n  return memset (xmallo...       nm-T   \n",
       "1823    1553.0  zalloc (size_t size)\\n{\\n  void *p = xmalloc (...       nm-T   \n",
       "\n",
       "                                              raw_bytes  \\\n",
       "0     b'AWAVI\\x89\\xffAUATH\\x8d\\x05\\xee\\x91\\x01\\x00US...   \n",
       "1     b'AWAVAUATI\\x89\\xf5US\\x89\\xd5I\\x89\\xfcH\\x83\\xe...   \n",
       "2     b'ATUE\\x89\\xc4SH\\x89\\xf5H\\x83\\xec\\x10\\x80:-H\\x...   \n",
       "3     b\"AWAVI\\x89\\xd7AUATI\\x89\\xf5USD\\x89\\xc5E1\\xf61...   \n",
       "4     b'AVAUATUH\\x89\\xfdSH\\x89\\xf7H\\x89\\xf3\\xe8\\xfa\\...   \n",
       "...                                                 ...   \n",
       "1819  b\"AWAVAUATUSH\\x83\\xec(dH\\x8b\\x04%(\\x00\\x00\\x00...   \n",
       "1820  b'SH\\x89\\xfb\\xe87\\xe7\\xfe\\xffH\\x89\\xdfH\\x8dp\\x...   \n",
       "1821  b'H\\x83\\xec\\x18dH\\x8b\\x04%(\\x00\\x00\\x00H\\x89D$...   \n",
       "1822  b'SH\\x89\\xfb\\xe8G\\xfe\\xff\\xffH\\x89\\xda1\\xf6H\\x...   \n",
       "1823  b\"SH\\x89\\xfb\\xe8'd\\x00\\x00H\\x89\\xda1\\xf6H\\x89\\...   \n",
       "\n",
       "                                            fingerprint  \n",
       "0     [12, 1, -2147483648, -134217728, 0, 1, -214748...  \n",
       "1     [8, -2147483647, 2147483647, 134217727, 0, -21...  \n",
       "2     [16, -2147483647, 173, 0, -46, -129, -46, 0, 8...  \n",
       "3     [72, -2147483647, -2147483648, -134217728, 0, ...  \n",
       "4     [0, -2147483647, 0, 0, 0, 0, 0, 0, 1, 0, 0, 0,...  \n",
       "...                                                 ...  \n",
       "1819  [40, -2147483647, 2147483623, 134217726, 0, -2...  \n",
       "1820  [-1, -2147483647, 0, 0, 0, 0, 0, 0, 0, 0, 0, 0...  \n",
       "1821  [24, -2147483647, 2147483647, 134217727, 0, 0,...  \n",
       "1822  [-1, -2147483647, 0, 0, 0, 0, 0, 0, 0, 0, 0, 0...  \n",
       "1823  [-1, -2147483647, 0, 0, 0, 0, 0, 0, 0, 0, 0, 0...  \n",
       "\n",
       "[1824 rows x 10 columns]"
      ]
     },
     "execution_count": 10,
     "metadata": {},
     "output_type": "execute_result"
    }
   ],
   "source": [
    "level2_fps = pd.concat(level2_profiles, ignore_index=True)\n",
    "level2_fps"
   ]
  },
  {
   "cell_type": "code",
   "execution_count": 11,
   "metadata": {
    "ExecuteTime": {
     "end_time": "2020-03-03T23:44:25.106056Z",
     "start_time": "2020-03-03T23:44:25.088150Z"
    }
   },
   "outputs": [
    {
     "data": {
      "text/plain": [
       "array([(120, -2147483647, -2147483648, -134217728, 0, -2147483648, 0, 40, 104, 0, 40, 2, 9626, 38505, 0, 0, 0, 0, 0, 0, 0, 0, 0, 0, 0, 0, 0, 0, 0, 0, 0, 0)],\n",
       "      dtype=object)"
      ]
     },
     "metadata": {},
     "output_type": "display_data"
    },
    {
     "data": {
      "text/plain": [
       "array([(120, -2147483647, -2147483648, -134217728, 0, -2147483648, 0, 40, 104, 0, 40, 2, 9626, 38505, 0, 0, 0, 0, 0, 0, 0, 0, 0, 0, 0, 0, 0, 0, 0, 0, 0, 0)],\n",
       "      dtype=object)"
      ]
     },
     "metadata": {},
     "output_type": "display_data"
    }
   ],
   "source": [
    "level2_fps[\"fingerprint_tuple\"] = level2_fps.fingerprint.apply(lambda x: tuple(x))\n",
    "level2_peaclab_math_fps = level2_fps[level2_fps.function == \"peaclab_math\"].fingerprint_tuple.unique()\n",
    "display(level2_peaclab_math_fps)\n",
    "display(peaclab_math_fps)"
   ]
  },
  {
   "cell_type": "markdown",
   "metadata": {},
   "source": [
    "Sooo again, no change...\n",
    "\n",
    "*cries in Markdown*"
   ]
  },
  {
   "cell_type": "code",
   "execution_count": 78,
   "metadata": {
    "ExecuteTime": {
     "end_time": "2020-03-04T17:55:08.173323Z",
     "start_time": "2020-03-04T17:55:08.148708Z"
    }
   },
   "outputs": [
    {
     "data": {
      "text/plain": [
       "'size0=226 size1=227'"
      ]
     },
     "metadata": {},
     "output_type": "display_data"
    },
    {
     "name": "stdout",
     "output_type": "stream",
     "text": [
      "36\n"
     ]
    },
    {
     "data": {
      "text/plain": [
       "'size0=226 size1=226'"
      ]
     },
     "metadata": {},
     "output_type": "display_data"
    },
    {
     "name": "stdout",
     "output_type": "stream",
     "text": [
      "2\n"
     ]
    },
    {
     "data": {
      "text/plain": [
       "'size0=226 size1=226'"
      ]
     },
     "metadata": {},
     "output_type": "display_data"
    },
    {
     "name": "stdout",
     "output_type": "stream",
     "text": [
      "2\n"
     ]
    },
    {
     "data": {
      "text/plain": [
       "'size0=226 size1=242'"
      ]
     },
     "metadata": {},
     "output_type": "display_data"
    },
    {
     "name": "stdout",
     "output_type": "stream",
     "text": [
      "23\n"
     ]
    },
    {
     "data": {
      "text/plain": [
       "'size0=226 size1=242'"
      ]
     },
     "metadata": {},
     "output_type": "display_data"
    },
    {
     "name": "stdout",
     "output_type": "stream",
     "text": [
      "23\n"
     ]
    },
    {
     "data": {
      "text/plain": [
       "'size0=226 size1=235'"
      ]
     },
     "metadata": {},
     "output_type": "display_data"
    },
    {
     "name": "stdout",
     "output_type": "stream",
     "text": [
      "44\n",
      "min=2 avg=21.666666666666668 max=44\n"
     ]
    }
   ],
   "source": [
    "pm_mask = (level2_fps.function == \"peaclab_math\")\n",
    "level2_raw_bytes = list(level2_fps[pm_mask].raw_bytes)\n",
    "#orig_raw_bytes = list(level1_fps[pm_mask & (level1_fps.binary == \"../../dataset-gen-injected/sensitivity/diffutils-3.7.ORIG/src/diff\")].raw_bytes)[0]\n",
    "level2_raw_bytes_noorig = set(level2_raw_bytes) - set([orig_raw_bytes])\n",
    "\n",
    "level2_lev_distances = []\n",
    "for rb in level2_raw_bytes_noorig:\n",
    "    display(\"size0={} size1={}\".format(len(orig_raw_bytes), len(rb)))\n",
    "    level2_lev_distances.append(lev.distance(orig_raw_bytes, rb))\n",
    "    print(lev.distance(orig_raw_bytes, rb))\n",
    "    \n",
    "print(\"min={} avg={} max={}\".format(min(level2_lev_distances), sum(level2_lev_distances)/len(level2_lev_distances), max(level2_lev_distances)))"
   ]
  },
  {
   "cell_type": "markdown",
   "metadata": {},
   "source": [
    "## Level 3"
   ]
  },
  {
   "cell_type": "code",
   "execution_count": 51,
   "metadata": {
    "ExecuteTime": {
     "end_time": "2020-03-04T00:08:47.648907Z",
     "start_time": "2020-03-04T00:08:47.635897Z"
    }
   },
   "outputs": [
    {
     "data": {
      "text/plain": [
       "[('LP-CC', 'IF-APC', 'IF-CC'),\n",
       " ('LP-CC', 'IF-APC', 'MC-DAP'),\n",
       " ('LP-CC', 'IF-CC', 'MC-DAP'),\n",
       " ('IF-APC', 'IF-CC', 'MC-DAP')]"
      ]
     },
     "execution_count": 51,
     "metadata": {},
     "output_type": "execute_result"
    }
   ],
   "source": [
    "level3_combos = list(combinations([\"LP-CC\", \"IF-APC\", \"IF-CC\", \"MC-DAP\"], 3))\n",
    "level3_combos"
   ]
  },
  {
   "cell_type": "code",
   "execution_count": 52,
   "metadata": {
    "ExecuteTime": {
     "end_time": "2020-03-04T00:08:47.717924Z",
     "start_time": "2020-03-04T00:08:47.656758Z"
    }
   },
   "outputs": [
    {
     "name": "stdout",
     "output_type": "stream",
     "text": [
      "cp -a ../diffutils-3.7.ORIG ./diffutils-3.7.LP-CC.IF-APC.IF-CC\n",
      "cd diffutils-3.7.LP-CC.IF-APC.IF-CC/src/\n",
      "patch -uF3 < ../../../LP-CC.patch\n",
      "patch -uF3 < ../../../IF-APC.patch\n",
      "patch -uF3 < ../../../IF-CC.patch\n",
      "cd ../\n",
      "make\n",
      "cd ..\n",
      "\n",
      "cp -a ../diffutils-3.7.ORIG ./diffutils-3.7.LP-CC.IF-APC.MC-DAP\n",
      "cd diffutils-3.7.LP-CC.IF-APC.MC-DAP/src/\n",
      "patch -uF3 < ../../../LP-CC.patch\n",
      "patch -uF3 < ../../../IF-APC.patch\n",
      "patch -uF3 < ../../../MC-DAP.patch\n",
      "cd ../\n",
      "make\n",
      "cd ..\n",
      "\n",
      "cp -a ../diffutils-3.7.ORIG ./diffutils-3.7.LP-CC.IF-CC.MC-DAP\n",
      "cd diffutils-3.7.LP-CC.IF-CC.MC-DAP/src/\n",
      "patch -uF3 < ../../../LP-CC.patch\n",
      "patch -uF3 < ../../../IF-CC.patch\n",
      "patch -uF3 < ../../../MC-DAP.patch\n",
      "cd ../\n",
      "make\n",
      "cd ..\n",
      "\n",
      "cp -a ../diffutils-3.7.ORIG ./diffutils-3.7.IF-APC.IF-CC.MC-DAP\n",
      "cd diffutils-3.7.IF-APC.IF-CC.MC-DAP/src/\n",
      "patch -uF3 < ../../../IF-APC.patch\n",
      "patch -uF3 < ../../../IF-CC.patch\n",
      "patch -uF3 < ../../../MC-DAP.patch\n",
      "cd ../\n",
      "make\n",
      "cd ..\n",
      "\n"
     ]
    }
   ],
   "source": [
    "bash_block=\"\"\"cp -a ../diffutils-3.7.ORIG ./diffutils-3.7.{0}.{1}.{2}\n",
    "cd diffutils-3.7.{0}.{1}.{2}/src/\n",
    "patch -uF3 < ../../../{0}.patch\n",
    "patch -uF3 < ../../../{1}.patch\n",
    "patch -uF3 < ../../../{2}.patch\n",
    "cd ../\n",
    "make\n",
    "cd ..\n",
    "\"\"\"\n",
    "\n",
    "for combo in level3_combos:\n",
    "    print(bash_block.format(combo[0], combo[1], combo[2]))"
   ]
  },
  {
   "cell_type": "code",
   "execution_count": 53,
   "metadata": {
    "ExecuteTime": {
     "end_time": "2020-03-04T00:08:47.782170Z",
     "start_time": "2020-03-04T00:08:47.725082Z"
    }
   },
   "outputs": [
    {
     "data": {
      "text/plain": [
       "['../../dataset-gen-injected/sensitivity/level3/diffutils-3.7.LP-CC.IF-APC.IF-CC/src/diff',\n",
       " '../../dataset-gen-injected/sensitivity/level3/diffutils-3.7.LP-CC.IF-APC.MC-DAP/src/diff',\n",
       " '../../dataset-gen-injected/sensitivity/level3/diffutils-3.7.LP-CC.IF-CC.MC-DAP/src/diff',\n",
       " '../../dataset-gen-injected/sensitivity/level3/diffutils-3.7.IF-APC.IF-CC.MC-DAP/src/diff']"
      ]
     },
     "metadata": {},
     "output_type": "display_data"
    }
   ],
   "source": [
    "level3_bin_paths = list([\"../../dataset-gen-injected/sensitivity/level3/diffutils-3.7.{}.{}.{}/src/diff\".format(x[0], x[1], x[2]) for x in level3_combos])\n",
    "display(level3_bin_paths)\n",
    "for bp in level3_bin_paths:\n",
    "    assert(os.path.isfile(bp))"
   ]
  },
  {
   "cell_type": "code",
   "execution_count": 54,
   "metadata": {
    "ExecuteTime": {
     "end_time": "2020-03-04T00:08:53.479590Z",
     "start_time": "2020-03-04T00:08:47.787745Z"
    }
   },
   "outputs": [
    {
     "name": "stdout",
     "output_type": "stream",
     "text": [
      "Profiling ../../dataset-gen-injected/sensitivity/level3/diffutils-3.7.LP-CC.IF-APC.IF-CC/src/diff (967.24 KB)\n",
      "Profiling ../../dataset-gen-injected/sensitivity/level3/diffutils-3.7.LP-CC.IF-APC.MC-DAP/src/diff (967.264 KB)\n",
      "Profiling ../../dataset-gen-injected/sensitivity/level3/diffutils-3.7.LP-CC.IF-CC.MC-DAP/src/diff (967.256 KB)\n",
      "Profiling ../../dataset-gen-injected/sensitivity/level3/diffutils-3.7.IF-APC.IF-CC.MC-DAP/src/diff (967.24 KB)\n"
     ]
    }
   ],
   "source": [
    "level3_profiles=[]\n",
    "level3_runtimes={}\n",
    "for bin_path in level3_bin_paths:\n",
    "    if os.path.isfile(bin_path):\n",
    "        src_path = get_src_dir(bin_path, \"../../dataset-gen-injected/sensitivity/level3\")\n",
    "        start = time.monotonic()\n",
    "        print(\"Profiling {} ({} KB)\".format(bin_path, os.path.getsize(bin_path)/1000))\n",
    "        level3_profiles.append(ace.full_profile(bin_path, \n",
    "                                               threads = 8, \n",
    "                                               ins_sort = True, \n",
    "                                               src_only = True, \n",
    "                                               src_path = src_path\n",
    "                                              )\n",
    "                             )\n",
    "        level3_runtimes[bin_path] = time.monotonic() - start"
   ]
  },
  {
   "cell_type": "code",
   "execution_count": 55,
   "metadata": {
    "ExecuteTime": {
     "end_time": "2020-03-04T00:08:53.536226Z",
     "start_time": "2020-03-04T00:08:53.483099Z"
    }
   },
   "outputs": [
    {
     "data": {
      "text/html": [
       "<div>\n",
       "<style scoped>\n",
       "    .dataframe tbody tr th:only-of-type {\n",
       "        vertical-align: middle;\n",
       "    }\n",
       "\n",
       "    .dataframe tbody tr th {\n",
       "        vertical-align: top;\n",
       "    }\n",
       "\n",
       "    .dataframe thead th {\n",
       "        text-align: right;\n",
       "    }\n",
       "</style>\n",
       "<table border=\"1\" class=\"dataframe\">\n",
       "  <thead>\n",
       "    <tr style=\"text-align: right;\">\n",
       "      <th></th>\n",
       "      <th>binary</th>\n",
       "      <th>function</th>\n",
       "      <th>address</th>\n",
       "      <th>length</th>\n",
       "      <th>src_path</th>\n",
       "      <th>src_line</th>\n",
       "      <th>src_code</th>\n",
       "      <th>attributor</th>\n",
       "      <th>raw_bytes</th>\n",
       "      <th>fingerprint</th>\n",
       "    </tr>\n",
       "  </thead>\n",
       "  <tbody>\n",
       "    <tr>\n",
       "      <th>0</th>\n",
       "      <td>../../dataset-gen-injected/sensitivity/level3/...</td>\n",
       "      <td>__strftime_internal</td>\n",
       "      <td>70624</td>\n",
       "      <td>6375</td>\n",
       "      <td>/home/ubuntu/ace/dataset-gen-injected/sensitiv...</td>\n",
       "      <td>447.0</td>\n",
       "      <td>__strftime_internal (STREAM_OR_CHAR_T *s, STRF...</td>\n",
       "      <td>nm-t</td>\n",
       "      <td>b'AWAVI\\x89\\xffAUATH\\x8d\\x05\\xde\\x91\\x01\\x00US...</td>\n",
       "      <td>[12, 1, -2147483648, -134217728, 0, 1, -214748...</td>\n",
       "    </tr>\n",
       "    <tr>\n",
       "      <th>1</th>\n",
       "      <td>../../dataset-gen-injected/sensitivity/level3/...</td>\n",
       "      <td>add_exclude</td>\n",
       "      <td>61312</td>\n",
       "      <td>878</td>\n",
       "      <td>/home/ubuntu/ace/dataset-gen-injected/sensitiv...</td>\n",
       "      <td>518.0</td>\n",
       "      <td>add_exclude (struct exclude *ex, char const *p...</td>\n",
       "      <td>nm-T</td>\n",
       "      <td>b'AWAVAUATI\\x89\\xf5US\\x89\\xd5I\\x89\\xfcH\\x83\\xe...</td>\n",
       "      <td>[8, -2147483647, 2147483647, 134217727, 0, -21...</td>\n",
       "    </tr>\n",
       "    <tr>\n",
       "      <th>2</th>\n",
       "      <td>../../dataset-gen-injected/sensitivity/level3/...</td>\n",
       "      <td>add_exclude_file</td>\n",
       "      <td>62736</td>\n",
       "      <td>167</td>\n",
       "      <td>/home/ubuntu/ace/dataset-gen-injected/sensitiv...</td>\n",
       "      <td>676.0</td>\n",
       "      <td>add_exclude_file (void (*add_func) (struct exc...</td>\n",
       "      <td>nm-T</td>\n",
       "      <td>b'ATUE\\x89\\xc4SH\\x89\\xf5H\\x83\\xec\\x10\\x80:-H\\x...</td>\n",
       "      <td>[16, -2147483647, 173, 0, -46, -129, -46, 0, 8...</td>\n",
       "    </tr>\n",
       "    <tr>\n",
       "      <th>3</th>\n",
       "      <td>../../dataset-gen-injected/sensitivity/level3/...</td>\n",
       "      <td>add_exclude_fp</td>\n",
       "      <td>62192</td>\n",
       "      <td>531</td>\n",
       "      <td>/home/ubuntu/ace/dataset-gen-injected/sensitiv...</td>\n",
       "      <td>611.0</td>\n",
       "      <td>add_exclude_fp (void (*add_func) (struct exclu...</td>\n",
       "      <td>nm-T</td>\n",
       "      <td>b\"AWAVI\\x89\\xd7AUATI\\x89\\xf5USD\\x89\\xc5E1\\xf61...</td>\n",
       "      <td>[72, -2147483647, -2147483648, -134217728, 0, ...</td>\n",
       "    </tr>\n",
       "    <tr>\n",
       "      <th>4</th>\n",
       "      <td>../../dataset-gen-injected/sensitivity/level3/...</td>\n",
       "      <td>add_regexp</td>\n",
       "      <td>30272</td>\n",
       "      <td>219</td>\n",
       "      <td>/home/ubuntu/ace/dataset-gen-injected/sensitiv...</td>\n",
       "      <td>815.0</td>\n",
       "      <td>add_regexp (struct regexp_list *reglist, char ...</td>\n",
       "      <td>nm-t</td>\n",
       "      <td>b'AVAUATUH\\x89\\xfdSH\\x89\\xf7H\\x89\\xf3\\xe8\\xfa\\...</td>\n",
       "      <td>[0, -2147483647, 0, 0, 0, 0, 0, 0, 1, 0, 0, 0,...</td>\n",
       "    </tr>\n",
       "    <tr>\n",
       "      <th>...</th>\n",
       "      <td>...</td>\n",
       "      <td>...</td>\n",
       "      <td>...</td>\n",
       "      <td>...</td>\n",
       "      <td>...</td>\n",
       "      <td>...</td>\n",
       "      <td>...</td>\n",
       "      <td>...</td>\n",
       "      <td>...</td>\n",
       "      <td>...</td>\n",
       "    </tr>\n",
       "    <tr>\n",
       "      <th>1211</th>\n",
       "      <td>../../dataset-gen-injected/sensitivity/level3/...</td>\n",
       "      <td>xstrcat</td>\n",
       "      <td>161984</td>\n",
       "      <td>323</td>\n",
       "      <td>/home/ubuntu/ace/dataset-gen-injected/sensitiv...</td>\n",
       "      <td>33.0</td>\n",
       "      <td>xstrcat (size_t argcount, va_list args)\\n{\\n  ...</td>\n",
       "      <td>nm-t</td>\n",
       "      <td>b\"AWAVAUATUSH\\x83\\xec(dH\\x8b\\x04%(\\x00\\x00\\x00...</td>\n",
       "      <td>[40, -2147483647, 2147483623, 134217726, 0, -2...</td>\n",
       "    </tr>\n",
       "    <tr>\n",
       "      <th>1212</th>\n",
       "      <td>../../dataset-gen-injected/sensitivity/level3/...</td>\n",
       "      <td>xstrdup</td>\n",
       "      <td>84752</td>\n",
       "      <td>19</td>\n",
       "      <td>/home/ubuntu/ace/dataset-gen-injected/sensitiv...</td>\n",
       "      <td>119.0</td>\n",
       "      <td>xstrdup (char const *string)\\n{\\n  return xmem...</td>\n",
       "      <td>nm-T</td>\n",
       "      <td>b'SH\\x89\\xfb\\xe87\\xe7\\xfe\\xffH\\x89\\xdfH\\x8dp\\x...</td>\n",
       "      <td>[-1, -2147483647, 0, 0, 0, 0, 0, 0, 0, 0, 0, 0...</td>\n",
       "    </tr>\n",
       "    <tr>\n",
       "      <th>1213</th>\n",
       "      <td>../../dataset-gen-injected/sensitivity/level3/...</td>\n",
       "      <td>xvasprintf</td>\n",
       "      <td>162320</td>\n",
       "      <td>164</td>\n",
       "      <td>/home/ubuntu/ace/dataset-gen-injected/sensitiv...</td>\n",
       "      <td>76.0</td>\n",
       "      <td>xvasprintf (const char *format, va_list args)\\...</td>\n",
       "      <td>nm-T</td>\n",
       "      <td>b'H\\x83\\xec\\x18dH\\x8b\\x04%(\\x00\\x00\\x00H\\x89D$...</td>\n",
       "      <td>[24, -2147483647, 2147483647, 134217727, 0, 0,...</td>\n",
       "    </tr>\n",
       "    <tr>\n",
       "      <th>1214</th>\n",
       "      <td>../../dataset-gen-injected/sensitivity/level3/...</td>\n",
       "      <td>xzalloc</td>\n",
       "      <td>84624</td>\n",
       "      <td>23</td>\n",
       "      <td>/home/ubuntu/ace/dataset-gen-injected/sensitiv...</td>\n",
       "      <td>84.0</td>\n",
       "      <td>xzalloc (size_t s)\\n{\\n  return memset (xmallo...</td>\n",
       "      <td>nm-T</td>\n",
       "      <td>b'SH\\x89\\xfb\\xe8G\\xfe\\xff\\xffH\\x89\\xda1\\xf6H\\x...</td>\n",
       "      <td>[-1, -2147483647, 0, 0, 0, 0, 0, 0, 0, 0, 0, 0...</td>\n",
       "    </tr>\n",
       "    <tr>\n",
       "      <th>1215</th>\n",
       "      <td>../../dataset-gen-injected/sensitivity/level3/...</td>\n",
       "      <td>zalloc</td>\n",
       "      <td>58544</td>\n",
       "      <td>24</td>\n",
       "      <td>/home/ubuntu/ace/dataset-gen-injected/sensitiv...</td>\n",
       "      <td>1553.0</td>\n",
       "      <td>zalloc (size_t size)\\n{\\n  void *p = xmalloc (...</td>\n",
       "      <td>nm-T</td>\n",
       "      <td>b\"SH\\x89\\xfb\\xe8'd\\x00\\x00H\\x89\\xda1\\xf6H\\x89\\...</td>\n",
       "      <td>[-1, -2147483647, 0, 0, 0, 0, 0, 0, 0, 0, 0, 0...</td>\n",
       "    </tr>\n",
       "  </tbody>\n",
       "</table>\n",
       "<p>1216 rows × 10 columns</p>\n",
       "</div>"
      ],
      "text/plain": [
       "                                                 binary             function  \\\n",
       "0     ../../dataset-gen-injected/sensitivity/level3/...  __strftime_internal   \n",
       "1     ../../dataset-gen-injected/sensitivity/level3/...          add_exclude   \n",
       "2     ../../dataset-gen-injected/sensitivity/level3/...     add_exclude_file   \n",
       "3     ../../dataset-gen-injected/sensitivity/level3/...       add_exclude_fp   \n",
       "4     ../../dataset-gen-injected/sensitivity/level3/...           add_regexp   \n",
       "...                                                 ...                  ...   \n",
       "1211  ../../dataset-gen-injected/sensitivity/level3/...              xstrcat   \n",
       "1212  ../../dataset-gen-injected/sensitivity/level3/...              xstrdup   \n",
       "1213  ../../dataset-gen-injected/sensitivity/level3/...           xvasprintf   \n",
       "1214  ../../dataset-gen-injected/sensitivity/level3/...              xzalloc   \n",
       "1215  ../../dataset-gen-injected/sensitivity/level3/...               zalloc   \n",
       "\n",
       "      address  length                                           src_path  \\\n",
       "0       70624    6375  /home/ubuntu/ace/dataset-gen-injected/sensitiv...   \n",
       "1       61312     878  /home/ubuntu/ace/dataset-gen-injected/sensitiv...   \n",
       "2       62736     167  /home/ubuntu/ace/dataset-gen-injected/sensitiv...   \n",
       "3       62192     531  /home/ubuntu/ace/dataset-gen-injected/sensitiv...   \n",
       "4       30272     219  /home/ubuntu/ace/dataset-gen-injected/sensitiv...   \n",
       "...       ...     ...                                                ...   \n",
       "1211   161984     323  /home/ubuntu/ace/dataset-gen-injected/sensitiv...   \n",
       "1212    84752      19  /home/ubuntu/ace/dataset-gen-injected/sensitiv...   \n",
       "1213   162320     164  /home/ubuntu/ace/dataset-gen-injected/sensitiv...   \n",
       "1214    84624      23  /home/ubuntu/ace/dataset-gen-injected/sensitiv...   \n",
       "1215    58544      24  /home/ubuntu/ace/dataset-gen-injected/sensitiv...   \n",
       "\n",
       "      src_line                                           src_code attributor  \\\n",
       "0        447.0  __strftime_internal (STREAM_OR_CHAR_T *s, STRF...       nm-t   \n",
       "1        518.0  add_exclude (struct exclude *ex, char const *p...       nm-T   \n",
       "2        676.0  add_exclude_file (void (*add_func) (struct exc...       nm-T   \n",
       "3        611.0  add_exclude_fp (void (*add_func) (struct exclu...       nm-T   \n",
       "4        815.0  add_regexp (struct regexp_list *reglist, char ...       nm-t   \n",
       "...        ...                                                ...        ...   \n",
       "1211      33.0  xstrcat (size_t argcount, va_list args)\\n{\\n  ...       nm-t   \n",
       "1212     119.0  xstrdup (char const *string)\\n{\\n  return xmem...       nm-T   \n",
       "1213      76.0  xvasprintf (const char *format, va_list args)\\...       nm-T   \n",
       "1214      84.0  xzalloc (size_t s)\\n{\\n  return memset (xmallo...       nm-T   \n",
       "1215    1553.0  zalloc (size_t size)\\n{\\n  void *p = xmalloc (...       nm-T   \n",
       "\n",
       "                                              raw_bytes  \\\n",
       "0     b'AWAVI\\x89\\xffAUATH\\x8d\\x05\\xde\\x91\\x01\\x00US...   \n",
       "1     b'AWAVAUATI\\x89\\xf5US\\x89\\xd5I\\x89\\xfcH\\x83\\xe...   \n",
       "2     b'ATUE\\x89\\xc4SH\\x89\\xf5H\\x83\\xec\\x10\\x80:-H\\x...   \n",
       "3     b\"AWAVI\\x89\\xd7AUATI\\x89\\xf5USD\\x89\\xc5E1\\xf61...   \n",
       "4     b'AVAUATUH\\x89\\xfdSH\\x89\\xf7H\\x89\\xf3\\xe8\\xfa\\...   \n",
       "...                                                 ...   \n",
       "1211  b\"AWAVAUATUSH\\x83\\xec(dH\\x8b\\x04%(\\x00\\x00\\x00...   \n",
       "1212  b'SH\\x89\\xfb\\xe87\\xe7\\xfe\\xffH\\x89\\xdfH\\x8dp\\x...   \n",
       "1213  b'H\\x83\\xec\\x18dH\\x8b\\x04%(\\x00\\x00\\x00H\\x89D$...   \n",
       "1214  b'SH\\x89\\xfb\\xe8G\\xfe\\xff\\xffH\\x89\\xda1\\xf6H\\x...   \n",
       "1215  b\"SH\\x89\\xfb\\xe8'd\\x00\\x00H\\x89\\xda1\\xf6H\\x89\\...   \n",
       "\n",
       "                                            fingerprint  \n",
       "0     [12, 1, -2147483648, -134217728, 0, 1, -214748...  \n",
       "1     [8, -2147483647, 2147483647, 134217727, 0, -21...  \n",
       "2     [16, -2147483647, 173, 0, -46, -129, -46, 0, 8...  \n",
       "3     [72, -2147483647, -2147483648, -134217728, 0, ...  \n",
       "4     [0, -2147483647, 0, 0, 0, 0, 0, 0, 1, 0, 0, 0,...  \n",
       "...                                                 ...  \n",
       "1211  [40, -2147483647, 2147483623, 134217726, 0, -2...  \n",
       "1212  [-1, -2147483647, 0, 0, 0, 0, 0, 0, 0, 0, 0, 0...  \n",
       "1213  [24, -2147483647, 2147483647, 134217727, 0, 0,...  \n",
       "1214  [-1, -2147483647, 0, 0, 0, 0, 0, 0, 0, 0, 0, 0...  \n",
       "1215  [-1, -2147483647, 0, 0, 0, 0, 0, 0, 0, 0, 0, 0...  \n",
       "\n",
       "[1216 rows x 10 columns]"
      ]
     },
     "execution_count": 55,
     "metadata": {},
     "output_type": "execute_result"
    }
   ],
   "source": [
    "level3_fps = pd.concat(level3_profiles, ignore_index=True)\n",
    "level3_fps"
   ]
  },
  {
   "cell_type": "code",
   "execution_count": 56,
   "metadata": {
    "ExecuteTime": {
     "end_time": "2020-03-04T00:08:53.563132Z",
     "start_time": "2020-03-04T00:08:53.539484Z"
    }
   },
   "outputs": [
    {
     "data": {
      "text/plain": [
       "array([(120, -2147483647, -2147483648, -134217728, 0, -2147483648, 0, 40, 104, 0, 40, 2, 9626, 38505, 0, 0, 0, 0, 0, 0, 0, 0, 0, 0, 0, 0, 0, 0, 0, 0, 0, 0)],\n",
       "      dtype=object)"
      ]
     },
     "metadata": {},
     "output_type": "display_data"
    },
    {
     "data": {
      "text/plain": [
       "array([(120, -2147483647, -2147483648, -134217728, 0, -2147483648, 0, 40, 104, 0, 40, 2, 9626, 38505, 0, 0, 0, 0, 0, 0, 0, 0, 0, 0, 0, 0, 0, 0, 0, 0, 0, 0)],\n",
       "      dtype=object)"
      ]
     },
     "metadata": {},
     "output_type": "display_data"
    },
    {
     "data": {
      "text/plain": [
       "array([(120, -2147483647, -2147483648, -134217728, 0, -2147483648, 0, 40, 104, 0, 40, 2, 9626, 38505, 0, 0, 0, 0, 0, 0, 0, 0, 0, 0, 0, 0, 0, 0, 0, 0, 0, 0)],\n",
       "      dtype=object)"
      ]
     },
     "metadata": {},
     "output_type": "display_data"
    }
   ],
   "source": [
    "level3_fps[\"fingerprint_tuple\"] = level3_fps.fingerprint.apply(lambda x: tuple(x))\n",
    "level3_peaclab_math_fps = level3_fps[level3_fps.function == \"peaclab_math\"].fingerprint_tuple.unique()\n",
    "display(level3_peaclab_math_fps)\n",
    "display(level2_peaclab_math_fps)\n",
    "display(peaclab_math_fps)"
   ]
  },
  {
   "cell_type": "markdown",
   "metadata": {},
   "source": [
    "Still no change :/\n",
    "\n",
    "Let's look around a little bit to ensure what we're seeing is correct"
   ]
  },
  {
   "cell_type": "code",
   "execution_count": 57,
   "metadata": {
    "ExecuteTime": {
     "end_time": "2020-03-04T00:08:53.619553Z",
     "start_time": "2020-03-04T00:08:53.566352Z"
    }
   },
   "outputs": [
    {
     "data": {
      "text/plain": [
       "True"
      ]
     },
     "execution_count": 57,
     "metadata": {},
     "output_type": "execute_result"
    }
   ],
   "source": [
    "# First let's verify the raw bytes are changing\n",
    "len(level3_fps[level3_fps.function == \"peaclab_math\"].raw_bytes.unique()) == len(level3_bin_paths)"
   ]
  },
  {
   "cell_type": "code",
   "execution_count": 58,
   "metadata": {
    "ExecuteTime": {
     "end_time": "2020-03-04T00:08:53.657131Z",
     "start_time": "2020-03-04T00:08:53.626278Z"
    }
   },
   "outputs": [
    {
     "data": {
      "text/plain": [
       "True"
      ]
     },
     "execution_count": 58,
     "metadata": {},
     "output_type": "execute_result"
    }
   ],
   "source": [
    "# Then let's verify the code is changing\n",
    "len(level3_fps[level3_fps.function == \"peaclab_math\"].src_code.unique()) == len(level3_bin_paths)"
   ]
  },
  {
   "cell_type": "code",
   "execution_count": 59,
   "metadata": {
    "ExecuteTime": {
     "end_time": "2020-03-04T00:08:53.685150Z",
     "start_time": "2020-03-04T00:08:53.661428Z"
    }
   },
   "outputs": [
    {
     "name": "stdout",
     "output_type": "stream",
     "text": [
      "../../dataset-gen-injected/sensitivity/level3/diffutils-3.7.LP-CC.IF-APC.IF-CC/src/diff\n",
      "int peaclab_math() {\n",
      "    volatile int num;\n",
      "    volatile int nabs;\n",
      "    volatile div_t ndiv;\n",
      "    volatile int result;\n",
      "    volatile int array[16];\n",
      "    unsigned short int i;\n",
      "\n",
      "    for (i=0; i < 15; i++) {\n",
      "        num = rand() / (RAND_MAX/360);\n",
      "        array[i] = (i > 0) ? (array[i-1] + num) : num;\n",
      "    }\n",
      "\n",
      "    if (num % 2 == 0)\n",
      "    if (num == 100) {\n",
      "        nabs = abs(num + 1);\n",
      "    } else {\n",
      "        nabs = abs(num - 1);\n",
      "    }\n",
      "\n",
      "    ndiv = div(nabs, 7); /* MC-DAP: div(nabs, 14) */\n",
      "    result = 2*(num * ndiv.quot) - nabs;\n",
      "\n",
      "    return result;\n",
      "}\n",
      "\n",
      "../../dataset-gen-injected/sensitivity/level3/diffutils-3.7.LP-CC.IF-APC.MC-DAP/src/diff\n",
      "int peaclab_math() {\n",
      "    volatile int num;\n",
      "    volatile int nabs;\n",
      "    volatile div_t ndiv;\n",
      "    volatile int result;\n",
      "    volatile int array[16];\n",
      "    unsigned short int i;\n",
      "\n",
      "    for (i=0; i < 15; i++) {\n",
      "        num = rand() / (RAND_MAX/360);\n",
      "        array[i] = (i > 0) ? (array[i-1] + num) : num;\n",
      "    }\n",
      "\n",
      "    if (num % 2 == 0)\n",
      "    if (num > 100 ) { /* IF-CC: num == 100 */\n",
      "        nabs = abs(num + 1);\n",
      "    } else {\n",
      "        nabs = abs(num - 1);\n",
      "    }\n",
      "\n",
      "    ndiv = div(nabs, 14);\n",
      "    result = 2*(num * ndiv.quot) - nabs;\n",
      "\n",
      "    return result;\n",
      "}\n",
      "\n",
      "../../dataset-gen-injected/sensitivity/level3/diffutils-3.7.LP-CC.IF-CC.MC-DAP/src/diff\n",
      "int peaclab_math() {\n",
      "    volatile int num;\n",
      "    volatile int nabs;\n",
      "    volatile div_t ndiv;\n",
      "    volatile int result;\n",
      "    volatile int array[16];\n",
      "    unsigned short int i;\n",
      "\n",
      "    for (i=0; i < 15; i++) {\n",
      "        num = rand() / (RAND_MAX/360);\n",
      "        array[i] = (i > 0) ? (array[i-1] + num) : num;\n",
      "    }\n",
      "\n",
      "    /* IF-APC: if (num % 2 == 0) */\n",
      "    if (num == 100) {\n",
      "        nabs = abs(num + 1);\n",
      "    } else {\n",
      "        nabs = abs(num - 1);\n",
      "    }\n",
      "\n",
      "    ndiv = div(nabs, 14);\n",
      "    result = 2*(num * ndiv.quot) - nabs;\n",
      "\n",
      "    return result;\n",
      "}\n",
      "\n",
      "../../dataset-gen-injected/sensitivity/level3/diffutils-3.7.IF-APC.IF-CC.MC-DAP/src/diff\n",
      "int peaclab_math() {\n",
      "    volatile int num;\n",
      "    volatile int nabs;\n",
      "    volatile div_t ndiv;\n",
      "    volatile int result;\n",
      "    volatile int array[16];\n",
      "    unsigned short int i;\n",
      "\n",
      "    for (i=0; i < 16; i++) { /* LP-CC (i=0; i < 15; i++) */\n",
      "        num = rand() / (RAND_MAX/360);\n",
      "        array[i] = (i > 0) ? (array[i-1] + num) : num;\n",
      "    }\n",
      "\n",
      "    if (num % 2 == 0)\n",
      "    if (num == 100) {\n",
      "        nabs = abs(num + 1);\n",
      "    } else {\n",
      "        nabs = abs(num - 1);\n",
      "    }\n",
      "\n",
      "    ndiv = div(nabs, 14);\n",
      "    result = 2*(num * ndiv.quot) - nabs;\n",
      "\n",
      "    return result;\n",
      "}\n",
      "\n"
     ]
    }
   ],
   "source": [
    "# Now let's visually verify the source code\n",
    "for index, row in level3_fps[level3_fps.function == \"peaclab_math\"].iterrows():\n",
    "    print(row['binary'])\n",
    "    print(row['src_code'])"
   ]
  },
  {
   "cell_type": "markdown",
   "metadata": {},
   "source": [
    "Visual inspection checks out... Let's look at similarity of the byte strings"
   ]
  },
  {
   "cell_type": "code",
   "execution_count": 92,
   "metadata": {
    "ExecuteTime": {
     "end_time": "2020-03-03T22:44:32.194126Z",
     "start_time": "2020-03-03T22:44:27.022332Z"
    },
    "deletable": false,
    "editable": false,
    "run_control": {
     "frozen": true
    },
    "scrolled": false
   },
   "outputs": [
    {
     "name": "stdout",
     "output_type": "stream",
     "text": [
      "Collecting python-Levenshtein\n",
      "  Using cached https://files.pythonhosted.org/packages/42/a9/d1785c85ebf9b7dfacd08938dd028209c34a0ea3b1bcdb895208bd40a67d/python-Levenshtein-0.12.0.tar.gz\n",
      "Requirement already satisfied: setuptools in /home/ubuntu/.virtualenvs/ace38/lib/python3.8/site-packages (from python-Levenshtein) (44.0.0)\n",
      "Building wheels for collected packages: python-Levenshtein\n",
      "  Building wheel for python-Levenshtein (setup.py) ... \u001b[?25ldone\n",
      "\u001b[?25h  Created wheel for python-Levenshtein: filename=python_Levenshtein-0.12.0-cp38-cp38-linux_x86_64.whl size=145686 sha256=8339f0f6c65f780fd92faec234ed3986e37aa2dcf74b8800f1a2500df6773f9d\n",
      "  Stored in directory: /home/ubuntu/.cache/pip/wheels/de/c2/93/660fd5f7559049268ad2dc6d81c4e39e9e36518766eaf7e342\n",
      "Successfully built python-Levenshtein\n",
      "Installing collected packages: python-Levenshtein\n",
      "Successfully installed python-Levenshtein-0.12.0\n",
      "\u001b[33mWARNING: You are using pip version 19.3.1; however, version 20.0.2 is available.\n",
      "You should consider upgrading via the 'pip install --upgrade pip' command.\u001b[0m\n"
     ]
    }
   ],
   "source": [
    "!pip3 install python-Levenshtein"
   ]
  },
  {
   "cell_type": "code",
   "execution_count": 60,
   "metadata": {
    "ExecuteTime": {
     "end_time": "2020-03-04T00:08:53.764132Z",
     "start_time": "2020-03-04T00:08:53.689056Z"
    },
    "scrolled": true
   },
   "outputs": [
    {
     "data": {
      "text/plain": [
       "[b'US1\\xed\\xbb\\xb5\\x00\\x00\\xb4H\\x83\\xecxdH\\x8b\\x04%(\\x00\\x00\\x00H\\x89D$h1\\xc0\\xeb\\x04\\x90\\x83\\xc5\\x01\\xe8\\xd8\\xaf\\xff\\xff\\x89\\xc1\\xf7\\xeb\\x01\\xca\\xc1\\xf9\\x1f\\xc1\\xfa\\x16)\\xca\\x85\\xed\\x89T$\\x0c\\x0f\\x84\\x86\\x00\\x00\\x00\\x8dE\\xffH\\x98\\x8bD\\x84 \\x8bT$\\x0c\\x01\\xd0Hc\\xd5f\\x83\\xfd\\x0e\\x89D\\x94 u\\xc2\\x8bD$\\x0c\\xa8\\x01u\\x19\\x8bD$\\x0c\\x83\\xf8d\\x8bD$\\x0cte\\x83\\xe8\\x01\\x991\\xd0)\\xd0\\x89D$\\x10\\x8b|$\\x10\\xbe\\x07\\x00\\x00\\x00\\xe8\\xe3\\xac\\xff\\xffH\\x89D$\\x18\\x8bD$\\x18\\x8bL$\\x0c\\x8bT$\\x10\\x0f\\xaf\\xc1\\x01\\xc0)\\xd0\\x89D$\\x14\\x8bD$\\x14H\\x8bt$hdH34%(\\x00\\x00\\x00u)H\\x83\\xc4x[]\\xc3\\x0f\\x1f@\\x00\\x8bD$\\x0c\\x89D$ \\xe9K\\xff\\xff\\xff\\x0f\\x1f\\x00\\x83\\xc0\\x01\\x991\\xd0)\\xd0\\x89D$\\x10\\xeb\\x99\\xe8\\x85\\xaa\\xff\\xff',\n",
       " b'US1\\xed\\xbb\\xb5\\x00\\x00\\xb4H\\x83\\xecxdH\\x8b\\x04%(\\x00\\x00\\x00H\\x89D$h1\\xc0\\xeb\\x04\\x90\\x83\\xc5\\x01\\xe8\\xd8\\xaf\\xff\\xff\\x89\\xc1\\xf7\\xeb\\x01\\xca\\xc1\\xf9\\x1f\\xc1\\xfa\\x16)\\xca\\x85\\xed\\x89T$\\x0c\\x0f\\x84\\x9e\\x00\\x00\\x00\\x8dE\\xffH\\x98\\x8bD\\x84 \\x8bT$\\x0c\\x01\\xd0Hc\\xd5f\\x83\\xfd\\x0e\\x89D\\x94 u\\xc2\\x8bD$\\x0c\\xa8\\x01u\\x19\\x8bD$\\x0c\\x83\\xf8d\\x8bD$\\x0c\\x7fU\\x83\\xe8\\x01\\x991\\xd0)\\xd0\\x89D$\\x10\\x8b|$\\x10\\xbe\\x0e\\x00\\x00\\x00\\xe8\\xe3\\xac\\xff\\xffH\\x89D$\\x18\\x8bD$\\x18\\x8bL$\\x0c\\x8bT$\\x10\\x0f\\xaf\\xc1\\x01\\xc0)\\xd0\\x89D$\\x14\\x8bD$\\x14H\\x8bt$hdH34%(\\x00\\x00\\x00u0H\\x83\\xc4x[]\\xc3\\x0f\\x1f@\\x00\\x83\\xc0\\x01\\x991\\xd0)\\xd0\\x89D$\\x10\\xeb\\xa9f.\\x0f\\x1f\\x84\\x00\\x00\\x00\\x00\\x00\\x8bD$\\x0c\\x89D$ \\xe93\\xff\\xff\\xff\\xe8~\\xaa\\xff\\xff',\n",
       " b'US1\\xed\\xbb\\xb5\\x00\\x00\\xb4H\\x83\\xecxdH\\x8b\\x04%(\\x00\\x00\\x00H\\x89D$h1\\xc0\\xeb\\x04\\x90\\x83\\xc5\\x01\\xe8\\xd8\\xaf\\xff\\xff\\x89\\xc1\\xf7\\xeb\\x01\\xca\\xc1\\xf9\\x1f\\xc1\\xfa\\x16)\\xca\\x85\\xed\\x89T$\\x0c\\x0f\\x84\\x8e\\x00\\x00\\x00\\x8dE\\xffH\\x98\\x8bD\\x84 \\x8bT$\\x0c\\x01\\xd0Hc\\xd5f\\x83\\xfd\\x0e\\x89D\\x94 u\\xc2\\x8bD$\\x0c\\x83\\xf8d\\x8bD$\\x0ctU\\x83\\xe8\\x01\\x991\\xd0)\\xd0\\x89D$\\x10\\x8b|$\\x10\\xbe\\x0e\\x00\\x00\\x00\\xe8\\xeb\\xac\\xff\\xffH\\x89D$\\x18\\x8bD$\\x18\\x8bL$\\x0c\\x8bT$\\x10\\x0f\\xaf\\xc1\\x01\\xc0)\\xd0\\x89D$\\x14\\x8bD$\\x14H\\x8bt$hdH34%(\\x00\\x00\\x00u(H\\x83\\xc4x[]\\xc3\\x0f\\x1f@\\x00\\x83\\xc0\\x01\\x991\\xd0)\\xd0\\x89D$\\x10\\xeb\\xa9f\\x90\\x8bD$\\x0c\\x89D$ \\xe9C\\xff\\xff\\xff\\xe8\\x8e\\xaa\\xff\\xff',\n",
       " b'US1\\xed\\xbb\\xb5\\x00\\x00\\xb4H\\x83\\xecxdH\\x8b\\x04%(\\x00\\x00\\x00H\\x89D$h1\\xc0\\xeb\\x04\\x90\\x83\\xc5\\x01\\xe8\\xd8\\xaf\\xff\\xff\\x89\\xc1\\xf7\\xeb\\x01\\xca\\xc1\\xf9\\x1f\\xc1\\xfa\\x16)\\xca\\x85\\xed\\x89T$\\x0c\\x0f\\x84\\x86\\x00\\x00\\x00\\x8dE\\xffH\\x98\\x8bD\\x84 \\x8bT$\\x0c\\x01\\xd0Hc\\xd5f\\x83\\xfd\\x0f\\x89D\\x94 u\\xc2\\x8bD$\\x0c\\xa8\\x01u\\x19\\x8bD$\\x0c\\x83\\xf8d\\x8bD$\\x0cte\\x83\\xe8\\x01\\x991\\xd0)\\xd0\\x89D$\\x10\\x8b|$\\x10\\xbe\\x0e\\x00\\x00\\x00\\xe8\\xe3\\xac\\xff\\xffH\\x89D$\\x18\\x8bD$\\x18\\x8bL$\\x0c\\x8bT$\\x10\\x0f\\xaf\\xc1\\x01\\xc0)\\xd0\\x89D$\\x14\\x8bD$\\x14H\\x8bt$hdH34%(\\x00\\x00\\x00u)H\\x83\\xc4x[]\\xc3\\x0f\\x1f@\\x00\\x8bD$\\x0c\\x89D$ \\xe9K\\xff\\xff\\xff\\x0f\\x1f\\x00\\x83\\xc0\\x01\\x991\\xd0)\\xd0\\x89D$\\x10\\xeb\\x99\\xe8\\x85\\xaa\\xff\\xff']"
      ]
     },
     "execution_count": 60,
     "metadata": {},
     "output_type": "execute_result"
    }
   ],
   "source": [
    "level3_raw_bytes = list(level3_fps[level3_fps.function == \"peaclab_math\"].raw_bytes)\n",
    "level3_raw_bytes"
   ]
  },
  {
   "cell_type": "code",
   "execution_count": 61,
   "metadata": {
    "ExecuteTime": {
     "end_time": "2020-03-04T00:08:53.837203Z",
     "start_time": "2020-03-04T00:08:53.768105Z"
    }
   },
   "outputs": [
    {
     "data": {
      "text/plain": [
       "'size0=235 size1=242'"
      ]
     },
     "metadata": {},
     "output_type": "display_data"
    },
    {
     "data": {
      "text/plain": [
       "35"
      ]
     },
     "metadata": {},
     "output_type": "display_data"
    },
    {
     "name": "stdout",
     "output_type": "stream",
     "text": [
      "35\n"
     ]
    },
    {
     "data": {
      "text/plain": [
       "'size0=235 size1=226'"
      ]
     },
     "metadata": {},
     "output_type": "display_data"
    },
    {
     "data": {
      "text/plain": [
       "44"
      ]
     },
     "metadata": {},
     "output_type": "display_data"
    },
    {
     "name": "stdout",
     "output_type": "stream",
     "text": [
      "44\n"
     ]
    },
    {
     "data": {
      "text/plain": [
       "'size0=235 size1=235'"
      ]
     },
     "metadata": {},
     "output_type": "display_data"
    },
    {
     "data": {
      "text/plain": [
       "2"
      ]
     },
     "metadata": {},
     "output_type": "display_data"
    },
    {
     "name": "stdout",
     "output_type": "stream",
     "text": [
      "2\n"
     ]
    },
    {
     "data": {
      "text/plain": [
       "'size0=242 size1=226'"
      ]
     },
     "metadata": {},
     "output_type": "display_data"
    },
    {
     "data": {
      "text/plain": [
       "23"
      ]
     },
     "metadata": {},
     "output_type": "display_data"
    },
    {
     "name": "stdout",
     "output_type": "stream",
     "text": [
      "23\n"
     ]
    },
    {
     "data": {
      "text/plain": [
       "'size0=242 size1=235'"
      ]
     },
     "metadata": {},
     "output_type": "display_data"
    },
    {
     "data": {
      "text/plain": [
       "35"
      ]
     },
     "metadata": {},
     "output_type": "display_data"
    },
    {
     "name": "stdout",
     "output_type": "stream",
     "text": [
      "35\n"
     ]
    },
    {
     "data": {
      "text/plain": [
       "'size0=226 size1=235'"
      ]
     },
     "metadata": {},
     "output_type": "display_data"
    },
    {
     "data": {
      "text/plain": [
       "44"
      ]
     },
     "metadata": {},
     "output_type": "display_data"
    },
    {
     "name": "stdout",
     "output_type": "stream",
     "text": [
      "44\n"
     ]
    }
   ],
   "source": [
    "import Levenshtein as lev\n",
    "\n",
    "level3_lev_distances = []\n",
    "for rb_combo in combinations(level3_raw_bytes, 2):\n",
    "    display(\"size0={} size1={}\".format(len(rb_combo[0]), len(rb_combo[1])))\n",
    "    display(lev.distance(rb_combo[0], rb_combo[1]))\n",
    "    print(lev.distance(rb_combo[0], rb_combo[1]))"
   ]
  },
  {
   "cell_type": "markdown",
   "metadata": {
    "ExecuteTime": {
     "end_time": "2020-03-03T23:44:30.483588Z",
     "start_time": "2020-03-03T23:44:30.476645Z"
    }
   },
   "source": [
    "So the changes are relatively small: for blobs with sizes between 226 and 242 bytes, the distances ranged from 2 bytes to 44 bytes. That's roughly 1% to 19% changed.\n",
    "\n",
    "Welp, I guess on to level 4"
   ]
  },
  {
   "cell_type": "code",
   "execution_count": 79,
   "metadata": {
    "ExecuteTime": {
     "end_time": "2020-03-04T17:56:29.252382Z",
     "start_time": "2020-03-04T17:56:29.223778Z"
    }
   },
   "outputs": [
    {
     "data": {
      "text/plain": [
       "'size0=226 size1=226'"
      ]
     },
     "metadata": {},
     "output_type": "display_data"
    },
    {
     "name": "stdout",
     "output_type": "stream",
     "text": [
      "3\n"
     ]
    },
    {
     "data": {
      "text/plain": [
       "'size0=226 size1=235'"
      ]
     },
     "metadata": {},
     "output_type": "display_data"
    },
    {
     "name": "stdout",
     "output_type": "stream",
     "text": [
      "45\n"
     ]
    },
    {
     "data": {
      "text/plain": [
       "'size0=226 size1=242'"
      ]
     },
     "metadata": {},
     "output_type": "display_data"
    },
    {
     "name": "stdout",
     "output_type": "stream",
     "text": [
      "24\n"
     ]
    },
    {
     "data": {
      "text/plain": [
       "'size0=226 size1=235'"
      ]
     },
     "metadata": {},
     "output_type": "display_data"
    },
    {
     "name": "stdout",
     "output_type": "stream",
     "text": [
      "45\n",
      "min=3 avg=29.25 max=45\n"
     ]
    }
   ],
   "source": [
    "pm_mask = (level3_fps.function == \"peaclab_math\")\n",
    "level3_raw_bytes = list(level3_fps[pm_mask].raw_bytes)\n",
    "#orig_raw_bytes = list(level1_fps[pm_mask & (level1_fps.binary == \"../../dataset-gen-injected/sensitivity/diffutils-3.7.ORIG/src/diff\")].raw_bytes)[0]\n",
    "level3_raw_bytes_noorig = set(level3_raw_bytes) - set([orig_raw_bytes])\n",
    "\n",
    "level3_lev_distances = []\n",
    "for rb in level3_raw_bytes_noorig:\n",
    "    display(\"size0={} size1={}\".format(len(orig_raw_bytes), len(rb)))\n",
    "    level3_lev_distances.append(lev.distance(orig_raw_bytes, rb))\n",
    "    print(lev.distance(orig_raw_bytes, rb))\n",
    "    \n",
    "print(\"min={} avg={} max={}\".format(min(level3_lev_distances), sum(level3_lev_distances)/len(level3_lev_distances), max(level3_lev_distances)))"
   ]
  },
  {
   "cell_type": "markdown",
   "metadata": {
    "ExecuteTime": {
     "end_time": "2020-03-03T23:44:30.483588Z",
     "start_time": "2020-03-03T23:44:30.476645Z"
    }
   },
   "source": [
    "## Level 4"
   ]
  },
  {
   "cell_type": "code",
   "execution_count": 62,
   "metadata": {
    "ExecuteTime": {
     "end_time": "2020-03-04T00:08:53.847393Z",
     "start_time": "2020-03-04T00:08:53.840673Z"
    }
   },
   "outputs": [
    {
     "data": {
      "text/plain": [
       "[('LP-CC', 'IF-APC', 'IF-CC', 'MC-DAP')]"
      ]
     },
     "execution_count": 62,
     "metadata": {},
     "output_type": "execute_result"
    }
   ],
   "source": [
    "level4_combos = list(combinations([\"LP-CC\", \"IF-APC\", \"IF-CC\", \"MC-DAP\"], 4))\n",
    "level4_combos"
   ]
  },
  {
   "cell_type": "code",
   "execution_count": 63,
   "metadata": {
    "ExecuteTime": {
     "end_time": "2020-03-04T00:08:53.869883Z",
     "start_time": "2020-03-04T00:08:53.850474Z"
    }
   },
   "outputs": [
    {
     "name": "stdout",
     "output_type": "stream",
     "text": [
      "cp -a ../diffutils-3.7.ORIG ./diffutils-3.7.LP-CC.IF-APC.IF-CC.MC-DAP\n",
      "cd diffutils-3.7.LP-CC.IF-APC.IF-CC.MC-DAP/src/\n",
      "patch -uF3 < ../../../LP-CC.patch\n",
      "patch -uF3 < ../../../IF-APC.patch\n",
      "patch -uF3 < ../../../IF-CC.patch\n",
      "patch -uF3 < ../../../MC-DAP.patch\n",
      "cd ../\n",
      "make\n",
      "cd ..\n",
      "\n"
     ]
    }
   ],
   "source": [
    "bash_block=\"\"\"cp -a ../diffutils-3.7.ORIG ./diffutils-3.7.{0}.{1}.{2}.{3}\n",
    "cd diffutils-3.7.{0}.{1}.{2}.{3}/src/\n",
    "patch -uF3 < ../../../{0}.patch\n",
    "patch -uF3 < ../../../{1}.patch\n",
    "patch -uF3 < ../../../{2}.patch\n",
    "patch -uF3 < ../../../{3}.patch\n",
    "cd ../\n",
    "make\n",
    "cd ..\n",
    "\"\"\"\n",
    "\n",
    "for combo in level4_combos:\n",
    "    print(bash_block.format(combo[0], combo[1], combo[2], combo[3]))"
   ]
  },
  {
   "cell_type": "code",
   "execution_count": 64,
   "metadata": {
    "ExecuteTime": {
     "end_time": "2020-03-04T00:08:53.930433Z",
     "start_time": "2020-03-04T00:08:53.874192Z"
    }
   },
   "outputs": [
    {
     "data": {
      "text/plain": [
       "['../../dataset-gen-injected/sensitivity/level4/diffutils-3.7.LP-CC.IF-APC.IF-CC.MC-DAP/src/diff']"
      ]
     },
     "metadata": {},
     "output_type": "display_data"
    }
   ],
   "source": [
    "level4_bin_paths = list([\"../../dataset-gen-injected/sensitivity/level4/diffutils-3.7.{}.{}.{}.{}/src/diff\".format(x[0], x[1], x[2], x[3]) for x in level4_combos])\n",
    "display(level4_bin_paths)\n",
    "for bp in level4_bin_paths:\n",
    "    assert(os.path.isfile(bp))"
   ]
  },
  {
   "cell_type": "code",
   "execution_count": 65,
   "metadata": {
    "ExecuteTime": {
     "end_time": "2020-03-04T00:08:55.285726Z",
     "start_time": "2020-03-04T00:08:53.933928Z"
    }
   },
   "outputs": [
    {
     "name": "stdout",
     "output_type": "stream",
     "text": [
      "Profiling ../../dataset-gen-injected/sensitivity/level4/diffutils-3.7.LP-CC.IF-APC.IF-CC.MC-DAP/src/diff (967.248 KB)\n"
     ]
    }
   ],
   "source": [
    "level4_profiles=[]\n",
    "level4_runtimes={}\n",
    "for bin_path in level4_bin_paths:\n",
    "    if os.path.isfile(bin_path):\n",
    "        src_path = get_src_dir(bin_path, \"../../dataset-gen-injected/sensitivity/level4\")\n",
    "        start = time.monotonic()\n",
    "        print(\"Profiling {} ({} KB)\".format(bin_path, os.path.getsize(bin_path)/1000))\n",
    "        level4_profiles.append(ace.full_profile(bin_path, \n",
    "                                               threads = 8, \n",
    "                                               ins_sort = True, \n",
    "                                               src_only = True, \n",
    "                                               src_path = src_path\n",
    "                                              )\n",
    "                             )\n",
    "        level4_runtimes[bin_path] = time.monotonic() - start"
   ]
  },
  {
   "cell_type": "code",
   "execution_count": 66,
   "metadata": {
    "ExecuteTime": {
     "end_time": "2020-03-04T00:08:55.339475Z",
     "start_time": "2020-03-04T00:08:55.289229Z"
    }
   },
   "outputs": [
    {
     "data": {
      "text/html": [
       "<div>\n",
       "<style scoped>\n",
       "    .dataframe tbody tr th:only-of-type {\n",
       "        vertical-align: middle;\n",
       "    }\n",
       "\n",
       "    .dataframe tbody tr th {\n",
       "        vertical-align: top;\n",
       "    }\n",
       "\n",
       "    .dataframe thead th {\n",
       "        text-align: right;\n",
       "    }\n",
       "</style>\n",
       "<table border=\"1\" class=\"dataframe\">\n",
       "  <thead>\n",
       "    <tr style=\"text-align: right;\">\n",
       "      <th></th>\n",
       "      <th>binary</th>\n",
       "      <th>function</th>\n",
       "      <th>address</th>\n",
       "      <th>length</th>\n",
       "      <th>src_path</th>\n",
       "      <th>src_line</th>\n",
       "      <th>src_code</th>\n",
       "      <th>attributor</th>\n",
       "      <th>raw_bytes</th>\n",
       "      <th>fingerprint</th>\n",
       "    </tr>\n",
       "  </thead>\n",
       "  <tbody>\n",
       "    <tr>\n",
       "      <th>0</th>\n",
       "      <td>../../dataset-gen-injected/sensitivity/level4/...</td>\n",
       "      <td>__strftime_internal</td>\n",
       "      <td>70624</td>\n",
       "      <td>6375</td>\n",
       "      <td>/home/ubuntu/ace/dataset-gen-injected/sensitiv...</td>\n",
       "      <td>447.0</td>\n",
       "      <td>__strftime_internal (STREAM_OR_CHAR_T *s, STRF...</td>\n",
       "      <td>nm-t</td>\n",
       "      <td>b'AWAVI\\x89\\xffAUATH\\x8d\\x05\\xde\\x91\\x01\\x00US...</td>\n",
       "      <td>[12, 1, -2147483648, -134217728, 0, 1, -214748...</td>\n",
       "    </tr>\n",
       "    <tr>\n",
       "      <th>1</th>\n",
       "      <td>../../dataset-gen-injected/sensitivity/level4/...</td>\n",
       "      <td>add_exclude</td>\n",
       "      <td>61312</td>\n",
       "      <td>878</td>\n",
       "      <td>/home/ubuntu/ace/dataset-gen-injected/sensitiv...</td>\n",
       "      <td>518.0</td>\n",
       "      <td>add_exclude (struct exclude *ex, char const *p...</td>\n",
       "      <td>nm-T</td>\n",
       "      <td>b'AWAVAUATI\\x89\\xf5US\\x89\\xd5I\\x89\\xfcH\\x83\\xe...</td>\n",
       "      <td>[8, -2147483647, 2147483647, 134217727, 0, -21...</td>\n",
       "    </tr>\n",
       "    <tr>\n",
       "      <th>2</th>\n",
       "      <td>../../dataset-gen-injected/sensitivity/level4/...</td>\n",
       "      <td>add_exclude_file</td>\n",
       "      <td>62736</td>\n",
       "      <td>167</td>\n",
       "      <td>/home/ubuntu/ace/dataset-gen-injected/sensitiv...</td>\n",
       "      <td>676.0</td>\n",
       "      <td>add_exclude_file (void (*add_func) (struct exc...</td>\n",
       "      <td>nm-T</td>\n",
       "      <td>b'ATUE\\x89\\xc4SH\\x89\\xf5H\\x83\\xec\\x10\\x80:-H\\x...</td>\n",
       "      <td>[16, -2147483647, 173, 0, -46, -129, -46, 0, 8...</td>\n",
       "    </tr>\n",
       "    <tr>\n",
       "      <th>3</th>\n",
       "      <td>../../dataset-gen-injected/sensitivity/level4/...</td>\n",
       "      <td>add_exclude_fp</td>\n",
       "      <td>62192</td>\n",
       "      <td>531</td>\n",
       "      <td>/home/ubuntu/ace/dataset-gen-injected/sensitiv...</td>\n",
       "      <td>611.0</td>\n",
       "      <td>add_exclude_fp (void (*add_func) (struct exclu...</td>\n",
       "      <td>nm-T</td>\n",
       "      <td>b\"AWAVI\\x89\\xd7AUATI\\x89\\xf5USD\\x89\\xc5E1\\xf61...</td>\n",
       "      <td>[72, -2147483647, -2147483648, -134217728, 0, ...</td>\n",
       "    </tr>\n",
       "    <tr>\n",
       "      <th>4</th>\n",
       "      <td>../../dataset-gen-injected/sensitivity/level4/...</td>\n",
       "      <td>add_regexp</td>\n",
       "      <td>30272</td>\n",
       "      <td>219</td>\n",
       "      <td>/home/ubuntu/ace/dataset-gen-injected/sensitiv...</td>\n",
       "      <td>815.0</td>\n",
       "      <td>add_regexp (struct regexp_list *reglist, char ...</td>\n",
       "      <td>nm-t</td>\n",
       "      <td>b'AVAUATUH\\x89\\xfdSH\\x89\\xf7H\\x89\\xf3\\xe8\\xfa\\...</td>\n",
       "      <td>[0, -2147483647, 0, 0, 0, 0, 0, 0, 1, 0, 0, 0,...</td>\n",
       "    </tr>\n",
       "    <tr>\n",
       "      <th>...</th>\n",
       "      <td>...</td>\n",
       "      <td>...</td>\n",
       "      <td>...</td>\n",
       "      <td>...</td>\n",
       "      <td>...</td>\n",
       "      <td>...</td>\n",
       "      <td>...</td>\n",
       "      <td>...</td>\n",
       "      <td>...</td>\n",
       "      <td>...</td>\n",
       "    </tr>\n",
       "    <tr>\n",
       "      <th>299</th>\n",
       "      <td>../../dataset-gen-injected/sensitivity/level4/...</td>\n",
       "      <td>xstrcat</td>\n",
       "      <td>161984</td>\n",
       "      <td>323</td>\n",
       "      <td>/home/ubuntu/ace/dataset-gen-injected/sensitiv...</td>\n",
       "      <td>33.0</td>\n",
       "      <td>xstrcat (size_t argcount, va_list args)\\n{\\n  ...</td>\n",
       "      <td>nm-t</td>\n",
       "      <td>b\"AWAVAUATUSH\\x83\\xec(dH\\x8b\\x04%(\\x00\\x00\\x00...</td>\n",
       "      <td>[40, -2147483647, 2147483623, 134217726, 0, -2...</td>\n",
       "    </tr>\n",
       "    <tr>\n",
       "      <th>300</th>\n",
       "      <td>../../dataset-gen-injected/sensitivity/level4/...</td>\n",
       "      <td>xstrdup</td>\n",
       "      <td>84752</td>\n",
       "      <td>19</td>\n",
       "      <td>/home/ubuntu/ace/dataset-gen-injected/sensitiv...</td>\n",
       "      <td>119.0</td>\n",
       "      <td>xstrdup (char const *string)\\n{\\n  return xmem...</td>\n",
       "      <td>nm-T</td>\n",
       "      <td>b'SH\\x89\\xfb\\xe87\\xe7\\xfe\\xffH\\x89\\xdfH\\x8dp\\x...</td>\n",
       "      <td>[-1, -2147483647, 0, 0, 0, 0, 0, 0, 0, 0, 0, 0...</td>\n",
       "    </tr>\n",
       "    <tr>\n",
       "      <th>301</th>\n",
       "      <td>../../dataset-gen-injected/sensitivity/level4/...</td>\n",
       "      <td>xvasprintf</td>\n",
       "      <td>162320</td>\n",
       "      <td>164</td>\n",
       "      <td>/home/ubuntu/ace/dataset-gen-injected/sensitiv...</td>\n",
       "      <td>76.0</td>\n",
       "      <td>xvasprintf (const char *format, va_list args)\\...</td>\n",
       "      <td>nm-T</td>\n",
       "      <td>b'H\\x83\\xec\\x18dH\\x8b\\x04%(\\x00\\x00\\x00H\\x89D$...</td>\n",
       "      <td>[24, -2147483647, 2147483647, 134217727, 0, 0,...</td>\n",
       "    </tr>\n",
       "    <tr>\n",
       "      <th>302</th>\n",
       "      <td>../../dataset-gen-injected/sensitivity/level4/...</td>\n",
       "      <td>xzalloc</td>\n",
       "      <td>84624</td>\n",
       "      <td>23</td>\n",
       "      <td>/home/ubuntu/ace/dataset-gen-injected/sensitiv...</td>\n",
       "      <td>84.0</td>\n",
       "      <td>xzalloc (size_t s)\\n{\\n  return memset (xmallo...</td>\n",
       "      <td>nm-T</td>\n",
       "      <td>b'SH\\x89\\xfb\\xe8G\\xfe\\xff\\xffH\\x89\\xda1\\xf6H\\x...</td>\n",
       "      <td>[-1, -2147483647, 0, 0, 0, 0, 0, 0, 0, 0, 0, 0...</td>\n",
       "    </tr>\n",
       "    <tr>\n",
       "      <th>303</th>\n",
       "      <td>../../dataset-gen-injected/sensitivity/level4/...</td>\n",
       "      <td>zalloc</td>\n",
       "      <td>58544</td>\n",
       "      <td>24</td>\n",
       "      <td>/home/ubuntu/ace/dataset-gen-injected/sensitiv...</td>\n",
       "      <td>1553.0</td>\n",
       "      <td>zalloc (size_t size)\\n{\\n  void *p = xmalloc (...</td>\n",
       "      <td>nm-T</td>\n",
       "      <td>b\"SH\\x89\\xfb\\xe8'd\\x00\\x00H\\x89\\xda1\\xf6H\\x89\\...</td>\n",
       "      <td>[-1, -2147483647, 0, 0, 0, 0, 0, 0, 0, 0, 0, 0...</td>\n",
       "    </tr>\n",
       "  </tbody>\n",
       "</table>\n",
       "<p>304 rows × 10 columns</p>\n",
       "</div>"
      ],
      "text/plain": [
       "                                                binary             function  \\\n",
       "0    ../../dataset-gen-injected/sensitivity/level4/...  __strftime_internal   \n",
       "1    ../../dataset-gen-injected/sensitivity/level4/...          add_exclude   \n",
       "2    ../../dataset-gen-injected/sensitivity/level4/...     add_exclude_file   \n",
       "3    ../../dataset-gen-injected/sensitivity/level4/...       add_exclude_fp   \n",
       "4    ../../dataset-gen-injected/sensitivity/level4/...           add_regexp   \n",
       "..                                                 ...                  ...   \n",
       "299  ../../dataset-gen-injected/sensitivity/level4/...              xstrcat   \n",
       "300  ../../dataset-gen-injected/sensitivity/level4/...              xstrdup   \n",
       "301  ../../dataset-gen-injected/sensitivity/level4/...           xvasprintf   \n",
       "302  ../../dataset-gen-injected/sensitivity/level4/...              xzalloc   \n",
       "303  ../../dataset-gen-injected/sensitivity/level4/...               zalloc   \n",
       "\n",
       "     address  length                                           src_path  \\\n",
       "0      70624    6375  /home/ubuntu/ace/dataset-gen-injected/sensitiv...   \n",
       "1      61312     878  /home/ubuntu/ace/dataset-gen-injected/sensitiv...   \n",
       "2      62736     167  /home/ubuntu/ace/dataset-gen-injected/sensitiv...   \n",
       "3      62192     531  /home/ubuntu/ace/dataset-gen-injected/sensitiv...   \n",
       "4      30272     219  /home/ubuntu/ace/dataset-gen-injected/sensitiv...   \n",
       "..       ...     ...                                                ...   \n",
       "299   161984     323  /home/ubuntu/ace/dataset-gen-injected/sensitiv...   \n",
       "300    84752      19  /home/ubuntu/ace/dataset-gen-injected/sensitiv...   \n",
       "301   162320     164  /home/ubuntu/ace/dataset-gen-injected/sensitiv...   \n",
       "302    84624      23  /home/ubuntu/ace/dataset-gen-injected/sensitiv...   \n",
       "303    58544      24  /home/ubuntu/ace/dataset-gen-injected/sensitiv...   \n",
       "\n",
       "     src_line                                           src_code attributor  \\\n",
       "0       447.0  __strftime_internal (STREAM_OR_CHAR_T *s, STRF...       nm-t   \n",
       "1       518.0  add_exclude (struct exclude *ex, char const *p...       nm-T   \n",
       "2       676.0  add_exclude_file (void (*add_func) (struct exc...       nm-T   \n",
       "3       611.0  add_exclude_fp (void (*add_func) (struct exclu...       nm-T   \n",
       "4       815.0  add_regexp (struct regexp_list *reglist, char ...       nm-t   \n",
       "..        ...                                                ...        ...   \n",
       "299      33.0  xstrcat (size_t argcount, va_list args)\\n{\\n  ...       nm-t   \n",
       "300     119.0  xstrdup (char const *string)\\n{\\n  return xmem...       nm-T   \n",
       "301      76.0  xvasprintf (const char *format, va_list args)\\...       nm-T   \n",
       "302      84.0  xzalloc (size_t s)\\n{\\n  return memset (xmallo...       nm-T   \n",
       "303    1553.0  zalloc (size_t size)\\n{\\n  void *p = xmalloc (...       nm-T   \n",
       "\n",
       "                                             raw_bytes  \\\n",
       "0    b'AWAVI\\x89\\xffAUATH\\x8d\\x05\\xde\\x91\\x01\\x00US...   \n",
       "1    b'AWAVAUATI\\x89\\xf5US\\x89\\xd5I\\x89\\xfcH\\x83\\xe...   \n",
       "2    b'ATUE\\x89\\xc4SH\\x89\\xf5H\\x83\\xec\\x10\\x80:-H\\x...   \n",
       "3    b\"AWAVI\\x89\\xd7AUATI\\x89\\xf5USD\\x89\\xc5E1\\xf61...   \n",
       "4    b'AVAUATUH\\x89\\xfdSH\\x89\\xf7H\\x89\\xf3\\xe8\\xfa\\...   \n",
       "..                                                 ...   \n",
       "299  b\"AWAVAUATUSH\\x83\\xec(dH\\x8b\\x04%(\\x00\\x00\\x00...   \n",
       "300  b'SH\\x89\\xfb\\xe87\\xe7\\xfe\\xffH\\x89\\xdfH\\x8dp\\x...   \n",
       "301  b'H\\x83\\xec\\x18dH\\x8b\\x04%(\\x00\\x00\\x00H\\x89D$...   \n",
       "302  b'SH\\x89\\xfb\\xe8G\\xfe\\xff\\xffH\\x89\\xda1\\xf6H\\x...   \n",
       "303  b\"SH\\x89\\xfb\\xe8'd\\x00\\x00H\\x89\\xda1\\xf6H\\x89\\...   \n",
       "\n",
       "                                           fingerprint  \n",
       "0    [12, 1, -2147483648, -134217728, 0, 1, -214748...  \n",
       "1    [8, -2147483647, 2147483647, 134217727, 0, -21...  \n",
       "2    [16, -2147483647, 173, 0, -46, -129, -46, 0, 8...  \n",
       "3    [72, -2147483647, -2147483648, -134217728, 0, ...  \n",
       "4    [0, -2147483647, 0, 0, 0, 0, 0, 0, 1, 0, 0, 0,...  \n",
       "..                                                 ...  \n",
       "299  [40, -2147483647, 2147483623, 134217726, 0, -2...  \n",
       "300  [-1, -2147483647, 0, 0, 0, 0, 0, 0, 0, 0, 0, 0...  \n",
       "301  [24, -2147483647, 2147483647, 134217727, 0, 0,...  \n",
       "302  [-1, -2147483647, 0, 0, 0, 0, 0, 0, 0, 0, 0, 0...  \n",
       "303  [-1, -2147483647, 0, 0, 0, 0, 0, 0, 0, 0, 0, 0...  \n",
       "\n",
       "[304 rows x 10 columns]"
      ]
     },
     "execution_count": 66,
     "metadata": {},
     "output_type": "execute_result"
    }
   ],
   "source": [
    "level4_fps = pd.concat(level4_profiles, ignore_index=True)\n",
    "level4_fps"
   ]
  },
  {
   "cell_type": "code",
   "execution_count": 67,
   "metadata": {
    "ExecuteTime": {
     "end_time": "2020-03-04T00:08:55.436291Z",
     "start_time": "2020-03-04T00:08:55.342227Z"
    }
   },
   "outputs": [
    {
     "data": {
      "text/plain": [
       "array([(120, -2147483647, -2147483648, -134217728, 0, -2147483648, 0, 40, 104, 0, 40, 2, 9626, 38505, 0, 0, 0, 0, 0, 0, 0, 0, 0, 0, 0, 0, 0, 0, 0, 0, 0, 0)],\n",
       "      dtype=object)"
      ]
     },
     "metadata": {},
     "output_type": "display_data"
    },
    {
     "data": {
      "text/plain": [
       "array([(120, -2147483647, -2147483648, -134217728, 0, -2147483648, 0, 40, 104, 0, 40, 2, 9626, 38505, 0, 0, 0, 0, 0, 0, 0, 0, 0, 0, 0, 0, 0, 0, 0, 0, 0, 0)],\n",
       "      dtype=object)"
      ]
     },
     "metadata": {},
     "output_type": "display_data"
    },
    {
     "data": {
      "text/plain": [
       "array([(120, -2147483647, -2147483648, -134217728, 0, -2147483648, 0, 40, 104, 0, 40, 2, 9626, 38505, 0, 0, 0, 0, 0, 0, 0, 0, 0, 0, 0, 0, 0, 0, 0, 0, 0, 0)],\n",
       "      dtype=object)"
      ]
     },
     "metadata": {},
     "output_type": "display_data"
    },
    {
     "data": {
      "text/plain": [
       "array([(120, -2147483647, -2147483648, -134217728, 0, -2147483648, 0, 40, 104, 0, 40, 2, 9626, 38505, 0, 0, 0, 0, 0, 0, 0, 0, 0, 0, 0, 0, 0, 0, 0, 0, 0, 0)],\n",
       "      dtype=object)"
      ]
     },
     "metadata": {},
     "output_type": "display_data"
    }
   ],
   "source": [
    "level4_fps[\"fingerprint_tuple\"] = level4_fps.fingerprint.apply(lambda x: tuple(x))\n",
    "level4_peaclab_math_fps = level4_fps[level4_fps.function == \"peaclab_math\"].fingerprint_tuple.unique()\n",
    "display(level4_peaclab_math_fps)\n",
    "display(level3_peaclab_math_fps)\n",
    "display(level2_peaclab_math_fps)\n",
    "display(peaclab_math_fps)"
   ]
  },
  {
   "cell_type": "markdown",
   "metadata": {},
   "source": [
    "Well this is... bewildering...\n",
    "\n",
    "I just tried manually executing a dummy program containing the function, and when I apply the various mutations, the output definitely changes. This should indicate a change in the effect of the function, and therefore a change in the fingerprint. But... that's just not happening here."
   ]
  },
  {
   "cell_type": "code",
   "execution_count": 80,
   "metadata": {
    "ExecuteTime": {
     "end_time": "2020-03-04T17:57:32.533901Z",
     "start_time": "2020-03-04T17:57:32.520521Z"
    }
   },
   "outputs": [
    {
     "data": {
      "text/plain": [
       "'size0=226 size1=235'"
      ]
     },
     "metadata": {},
     "output_type": "display_data"
    },
    {
     "name": "stdout",
     "output_type": "stream",
     "text": [
      "46\n",
      "min=46 avg=46.0 max=46\n"
     ]
    }
   ],
   "source": [
    "pm_mask = (level4_fps.function == \"peaclab_math\")\n",
    "level4_raw_bytes = list(level4_fps[pm_mask].raw_bytes)\n",
    "#orig_raw_bytes = list(level1_fps[pm_mask & (level1_fps.binary == \"../../dataset-gen-injected/sensitivity/diffutils-3.7.ORIG/src/diff\")].raw_bytes)[0]\n",
    "level4_raw_bytes_noorig = set(level4_raw_bytes) - set([orig_raw_bytes])\n",
    "\n",
    "level4_lev_distances = []\n",
    "for rb in level4_raw_bytes_noorig:\n",
    "    display(\"size0={} size1={}\".format(len(orig_raw_bytes), len(rb)))\n",
    "    level4_lev_distances.append(lev.distance(orig_raw_bytes, rb))\n",
    "    print(lev.distance(orig_raw_bytes, rb))\n",
    "    \n",
    "print(\"min={} avg={} max={}\".format(min(level4_lev_distances), sum(level4_lev_distances)/len(level4_lev_distances), max(level4_lev_distances)))"
   ]
  },
  {
   "cell_type": "markdown",
   "metadata": {},
   "source": [
    "# MAJOR\n"
   ]
  },
  {
   "cell_type": "code",
   "execution_count": 82,
   "metadata": {
    "ExecuteTime": {
     "end_time": "2020-03-04T18:19:55.203239Z",
     "start_time": "2020-03-04T18:19:53.832625Z"
    }
   },
   "outputs": [
    {
     "data": {
      "text/html": [
       "<div>\n",
       "<style scoped>\n",
       "    .dataframe tbody tr th:only-of-type {\n",
       "        vertical-align: middle;\n",
       "    }\n",
       "\n",
       "    .dataframe tbody tr th {\n",
       "        vertical-align: top;\n",
       "    }\n",
       "\n",
       "    .dataframe thead th {\n",
       "        text-align: right;\n",
       "    }\n",
       "</style>\n",
       "<table border=\"1\" class=\"dataframe\">\n",
       "  <thead>\n",
       "    <tr style=\"text-align: right;\">\n",
       "      <th></th>\n",
       "      <th>binary</th>\n",
       "      <th>function</th>\n",
       "      <th>address</th>\n",
       "      <th>length</th>\n",
       "      <th>src_path</th>\n",
       "      <th>src_line</th>\n",
       "      <th>src_code</th>\n",
       "      <th>attributor</th>\n",
       "      <th>raw_bytes</th>\n",
       "      <th>fingerprint</th>\n",
       "    </tr>\n",
       "  </thead>\n",
       "  <tbody>\n",
       "    <tr>\n",
       "      <th>2</th>\n",
       "      <td>../../dataset-gen-injected/sensitivity/major/d...</td>\n",
       "      <td>__strftime_internal</td>\n",
       "      <td>70656</td>\n",
       "      <td>6375</td>\n",
       "      <td>/home/ubuntu/ace/dataset-gen-injected/sensitiv...</td>\n",
       "      <td>447.0</td>\n",
       "      <td>__strftime_internal (STREAM_OR_CHAR_T *s, STRF...</td>\n",
       "      <td>nm-t</td>\n",
       "      <td>b'AWAVI\\x89\\xffAUATH\\x8d\\x05\\xde\\x91\\x01\\x00US...</td>\n",
       "      <td>[12, 1, -2147483648, -134217728, 0, 1, -214748...</td>\n",
       "    </tr>\n",
       "    <tr>\n",
       "      <th>4</th>\n",
       "      <td>../../dataset-gen-injected/sensitivity/major/d...</td>\n",
       "      <td>add_exclude</td>\n",
       "      <td>61344</td>\n",
       "      <td>878</td>\n",
       "      <td>/home/ubuntu/ace/dataset-gen-injected/sensitiv...</td>\n",
       "      <td>518.0</td>\n",
       "      <td>add_exclude (struct exclude *ex, char const *p...</td>\n",
       "      <td>nm-T</td>\n",
       "      <td>b'AWAVAUATI\\x89\\xf5US\\x89\\xd5I\\x89\\xfcH\\x83\\xe...</td>\n",
       "      <td>[8, -2147483647, 2147483647, 134217727, 0, -21...</td>\n",
       "    </tr>\n",
       "    <tr>\n",
       "      <th>5</th>\n",
       "      <td>../../dataset-gen-injected/sensitivity/major/d...</td>\n",
       "      <td>add_exclude_file</td>\n",
       "      <td>62768</td>\n",
       "      <td>167</td>\n",
       "      <td>/home/ubuntu/ace/dataset-gen-injected/sensitiv...</td>\n",
       "      <td>676.0</td>\n",
       "      <td>add_exclude_file (void (*add_func) (struct exc...</td>\n",
       "      <td>nm-T</td>\n",
       "      <td>b'ATUE\\x89\\xc4SH\\x89\\xf5H\\x83\\xec\\x10\\x80:-H\\x...</td>\n",
       "      <td>[16, -2147483647, 173, 0, -46, -129, -46, 0, 8...</td>\n",
       "    </tr>\n",
       "    <tr>\n",
       "      <th>6</th>\n",
       "      <td>../../dataset-gen-injected/sensitivity/major/d...</td>\n",
       "      <td>add_exclude_fp</td>\n",
       "      <td>62224</td>\n",
       "      <td>531</td>\n",
       "      <td>/home/ubuntu/ace/dataset-gen-injected/sensitiv...</td>\n",
       "      <td>611.0</td>\n",
       "      <td>add_exclude_fp (void (*add_func) (struct exclu...</td>\n",
       "      <td>nm-T</td>\n",
       "      <td>b\"AWAVI\\x89\\xd7AUATI\\x89\\xf5USD\\x89\\xc5E1\\xf61...</td>\n",
       "      <td>[72, -2147483647, -2147483648, -134217728, 0, ...</td>\n",
       "    </tr>\n",
       "    <tr>\n",
       "      <th>7</th>\n",
       "      <td>../../dataset-gen-injected/sensitivity/major/d...</td>\n",
       "      <td>add_regexp</td>\n",
       "      <td>30272</td>\n",
       "      <td>219</td>\n",
       "      <td>/home/ubuntu/ace/dataset-gen-injected/sensitiv...</td>\n",
       "      <td>815.0</td>\n",
       "      <td>add_regexp (struct regexp_list *reglist, char ...</td>\n",
       "      <td>nm-t</td>\n",
       "      <td>b'AVAUATUH\\x89\\xfdSH\\x89\\xf7H\\x89\\xf3\\xe8\\xfa\\...</td>\n",
       "      <td>[0, -2147483647, 0, 0, 0, 0, 0, 0, 1, 0, 0, 0,...</td>\n",
       "    </tr>\n",
       "    <tr>\n",
       "      <th>...</th>\n",
       "      <td>...</td>\n",
       "      <td>...</td>\n",
       "      <td>...</td>\n",
       "      <td>...</td>\n",
       "      <td>...</td>\n",
       "      <td>...</td>\n",
       "      <td>...</td>\n",
       "      <td>...</td>\n",
       "      <td>...</td>\n",
       "      <td>...</td>\n",
       "    </tr>\n",
       "    <tr>\n",
       "      <th>340</th>\n",
       "      <td>../../dataset-gen-injected/sensitivity/major/d...</td>\n",
       "      <td>xstrcat</td>\n",
       "      <td>162016</td>\n",
       "      <td>323</td>\n",
       "      <td>/home/ubuntu/ace/dataset-gen-injected/sensitiv...</td>\n",
       "      <td>33.0</td>\n",
       "      <td>xstrcat (size_t argcount, va_list args)\\n{\\n  ...</td>\n",
       "      <td>nm-t</td>\n",
       "      <td>b'AWAVAUATUSH\\x83\\xec(dH\\x8b\\x04%(\\x00\\x00\\x00...</td>\n",
       "      <td>[40, -2147483647, 2147483623, 134217726, 0, -2...</td>\n",
       "    </tr>\n",
       "    <tr>\n",
       "      <th>341</th>\n",
       "      <td>../../dataset-gen-injected/sensitivity/major/d...</td>\n",
       "      <td>xstrdup</td>\n",
       "      <td>84784</td>\n",
       "      <td>19</td>\n",
       "      <td>/home/ubuntu/ace/dataset-gen-injected/sensitiv...</td>\n",
       "      <td>119.0</td>\n",
       "      <td>xstrdup (char const *string)\\n{\\n  return xmem...</td>\n",
       "      <td>nm-T</td>\n",
       "      <td>b'SH\\x89\\xfb\\xe8\\x17\\xe7\\xfe\\xffH\\x89\\xdfH\\x8d...</td>\n",
       "      <td>[-1, -2147483647, 0, 0, 0, 0, 0, 0, 0, 0, 0, 0...</td>\n",
       "    </tr>\n",
       "    <tr>\n",
       "      <th>342</th>\n",
       "      <td>../../dataset-gen-injected/sensitivity/major/d...</td>\n",
       "      <td>xvasprintf</td>\n",
       "      <td>162352</td>\n",
       "      <td>164</td>\n",
       "      <td>/home/ubuntu/ace/dataset-gen-injected/sensitiv...</td>\n",
       "      <td>76.0</td>\n",
       "      <td>xvasprintf (const char *format, va_list args)\\...</td>\n",
       "      <td>nm-T</td>\n",
       "      <td>b'H\\x83\\xec\\x18dH\\x8b\\x04%(\\x00\\x00\\x00H\\x89D$...</td>\n",
       "      <td>[24, -2147483647, 2147483647, 134217727, 0, 0,...</td>\n",
       "    </tr>\n",
       "    <tr>\n",
       "      <th>343</th>\n",
       "      <td>../../dataset-gen-injected/sensitivity/major/d...</td>\n",
       "      <td>xzalloc</td>\n",
       "      <td>84656</td>\n",
       "      <td>23</td>\n",
       "      <td>/home/ubuntu/ace/dataset-gen-injected/sensitiv...</td>\n",
       "      <td>84.0</td>\n",
       "      <td>xzalloc (size_t s)\\n{\\n  return memset (xmallo...</td>\n",
       "      <td>nm-T</td>\n",
       "      <td>b'SH\\x89\\xfb\\xe8G\\xfe\\xff\\xffH\\x89\\xda1\\xf6H\\x...</td>\n",
       "      <td>[-1, -2147483647, 0, 0, 0, 0, 0, 0, 0, 0, 0, 0...</td>\n",
       "    </tr>\n",
       "    <tr>\n",
       "      <th>344</th>\n",
       "      <td>../../dataset-gen-injected/sensitivity/major/d...</td>\n",
       "      <td>zalloc</td>\n",
       "      <td>58576</td>\n",
       "      <td>24</td>\n",
       "      <td>/home/ubuntu/ace/dataset-gen-injected/sensitiv...</td>\n",
       "      <td>1553.0</td>\n",
       "      <td>zalloc (size_t size)\\n{\\n  void *p = xmalloc (...</td>\n",
       "      <td>nm-T</td>\n",
       "      <td>b\"SH\\x89\\xfb\\xe8'd\\x00\\x00H\\x89\\xda1\\xf6H\\x89\\...</td>\n",
       "      <td>[-1, -2147483647, 0, 0, 0, 0, 0, 0, 0, 0, 0, 0...</td>\n",
       "    </tr>\n",
       "  </tbody>\n",
       "</table>\n",
       "<p>304 rows × 10 columns</p>\n",
       "</div>"
      ],
      "text/plain": [
       "                                                binary             function  \\\n",
       "2    ../../dataset-gen-injected/sensitivity/major/d...  __strftime_internal   \n",
       "4    ../../dataset-gen-injected/sensitivity/major/d...          add_exclude   \n",
       "5    ../../dataset-gen-injected/sensitivity/major/d...     add_exclude_file   \n",
       "6    ../../dataset-gen-injected/sensitivity/major/d...       add_exclude_fp   \n",
       "7    ../../dataset-gen-injected/sensitivity/major/d...           add_regexp   \n",
       "..                                                 ...                  ...   \n",
       "340  ../../dataset-gen-injected/sensitivity/major/d...              xstrcat   \n",
       "341  ../../dataset-gen-injected/sensitivity/major/d...              xstrdup   \n",
       "342  ../../dataset-gen-injected/sensitivity/major/d...           xvasprintf   \n",
       "343  ../../dataset-gen-injected/sensitivity/major/d...              xzalloc   \n",
       "344  ../../dataset-gen-injected/sensitivity/major/d...               zalloc   \n",
       "\n",
       "     address  length                                           src_path  \\\n",
       "2      70656    6375  /home/ubuntu/ace/dataset-gen-injected/sensitiv...   \n",
       "4      61344     878  /home/ubuntu/ace/dataset-gen-injected/sensitiv...   \n",
       "5      62768     167  /home/ubuntu/ace/dataset-gen-injected/sensitiv...   \n",
       "6      62224     531  /home/ubuntu/ace/dataset-gen-injected/sensitiv...   \n",
       "7      30272     219  /home/ubuntu/ace/dataset-gen-injected/sensitiv...   \n",
       "..       ...     ...                                                ...   \n",
       "340   162016     323  /home/ubuntu/ace/dataset-gen-injected/sensitiv...   \n",
       "341    84784      19  /home/ubuntu/ace/dataset-gen-injected/sensitiv...   \n",
       "342   162352     164  /home/ubuntu/ace/dataset-gen-injected/sensitiv...   \n",
       "343    84656      23  /home/ubuntu/ace/dataset-gen-injected/sensitiv...   \n",
       "344    58576      24  /home/ubuntu/ace/dataset-gen-injected/sensitiv...   \n",
       "\n",
       "     src_line                                           src_code attributor  \\\n",
       "2       447.0  __strftime_internal (STREAM_OR_CHAR_T *s, STRF...       nm-t   \n",
       "4       518.0  add_exclude (struct exclude *ex, char const *p...       nm-T   \n",
       "5       676.0  add_exclude_file (void (*add_func) (struct exc...       nm-T   \n",
       "6       611.0  add_exclude_fp (void (*add_func) (struct exclu...       nm-T   \n",
       "7       815.0  add_regexp (struct regexp_list *reglist, char ...       nm-t   \n",
       "..        ...                                                ...        ...   \n",
       "340      33.0  xstrcat (size_t argcount, va_list args)\\n{\\n  ...       nm-t   \n",
       "341     119.0  xstrdup (char const *string)\\n{\\n  return xmem...       nm-T   \n",
       "342      76.0  xvasprintf (const char *format, va_list args)\\...       nm-T   \n",
       "343      84.0  xzalloc (size_t s)\\n{\\n  return memset (xmallo...       nm-T   \n",
       "344    1553.0  zalloc (size_t size)\\n{\\n  void *p = xmalloc (...       nm-T   \n",
       "\n",
       "                                             raw_bytes  \\\n",
       "2    b'AWAVI\\x89\\xffAUATH\\x8d\\x05\\xde\\x91\\x01\\x00US...   \n",
       "4    b'AWAVAUATI\\x89\\xf5US\\x89\\xd5I\\x89\\xfcH\\x83\\xe...   \n",
       "5    b'ATUE\\x89\\xc4SH\\x89\\xf5H\\x83\\xec\\x10\\x80:-H\\x...   \n",
       "6    b\"AWAVI\\x89\\xd7AUATI\\x89\\xf5USD\\x89\\xc5E1\\xf61...   \n",
       "7    b'AVAUATUH\\x89\\xfdSH\\x89\\xf7H\\x89\\xf3\\xe8\\xfa\\...   \n",
       "..                                                 ...   \n",
       "340  b'AWAVAUATUSH\\x83\\xec(dH\\x8b\\x04%(\\x00\\x00\\x00...   \n",
       "341  b'SH\\x89\\xfb\\xe8\\x17\\xe7\\xfe\\xffH\\x89\\xdfH\\x8d...   \n",
       "342  b'H\\x83\\xec\\x18dH\\x8b\\x04%(\\x00\\x00\\x00H\\x89D$...   \n",
       "343  b'SH\\x89\\xfb\\xe8G\\xfe\\xff\\xffH\\x89\\xda1\\xf6H\\x...   \n",
       "344  b\"SH\\x89\\xfb\\xe8'd\\x00\\x00H\\x89\\xda1\\xf6H\\x89\\...   \n",
       "\n",
       "                                           fingerprint  \n",
       "2    [12, 1, -2147483648, -134217728, 0, 1, -214748...  \n",
       "4    [8, -2147483647, 2147483647, 134217727, 0, -21...  \n",
       "5    [16, -2147483647, 173, 0, -46, -129, -46, 0, 8...  \n",
       "6    [72, -2147483647, -2147483648, -134217728, 0, ...  \n",
       "7    [0, -2147483647, 0, 0, 0, 0, 0, 0, 1, 0, 0, 0,...  \n",
       "..                                                 ...  \n",
       "340  [40, -2147483647, 2147483623, 134217726, 0, -2...  \n",
       "341  [-1, -2147483647, 0, 0, 0, 0, 0, 0, 0, 0, 0, 0...  \n",
       "342  [24, -2147483647, 2147483647, 134217727, 0, 0,...  \n",
       "343  [-1, -2147483647, 0, 0, 0, 0, 0, 0, 0, 0, 0, 0...  \n",
       "344  [-1, -2147483647, 0, 0, 0, 0, 0, 0, 0, 0, 0, 0...  \n",
       "\n",
       "[304 rows x 10 columns]"
      ]
     },
     "execution_count": 82,
     "metadata": {},
     "output_type": "execute_result"
    }
   ],
   "source": [
    "major_bin_path = \"../../dataset-gen-injected/sensitivity/major/diffutils-3.7.MAJOR/src/diff\"\n",
    "major_src_path = \"../../dataset-gen-injected/sensitivity/major/diffutils-3.7.MAJOR/src\"\n",
    "major_fps = ace.full_profile(major_bin_path, threads = 8, ins_sort = True, src_only = True,src_path = major_src_path)\n",
    "major_fps"
   ]
  },
  {
   "cell_type": "code",
   "execution_count": 87,
   "metadata": {
    "ExecuteTime": {
     "end_time": "2020-03-16T13:32:39.939965Z",
     "start_time": "2020-03-16T13:32:39.920059Z"
    }
   },
   "outputs": [
    {
     "data": {
      "text/plain": [
       "array([(112, -2147483647, -2147483648, -134217728, 0, -2147483648, 0, 40, 104, 0, 40, 2, 9626, 38505, 0, 0, 0, 0, 0, 0, 0, 0, 0, 0, 0, 0, 0, 0, 0, 0, 0, 0)],\n",
       "      dtype=object)"
      ]
     },
     "metadata": {},
     "output_type": "display_data"
    },
    {
     "data": {
      "text/plain": [
       "array([(120, -2147483647, -2147483648, -134217728, 0, -2147483648, 0, 40, 104, 0, 40, 2, 9626, 38505, 0, 0, 0, 0, 0, 0, 0, 0, 0, 0, 0, 0, 0, 0, 0, 0, 0, 0)],\n",
       "      dtype=object)"
      ]
     },
     "metadata": {},
     "output_type": "display_data"
    },
    {
     "data": {
      "text/plain": [
       "array([(120, -2147483647, -2147483648, -134217728, 0, -2147483648, 0, 40, 104, 0, 40, 2, 9626, 38505, 0, 0, 0, 0, 0, 0, 0, 0, 0, 0, 0, 0, 0, 0, 0, 0, 0, 0)],\n",
       "      dtype=object)"
      ]
     },
     "metadata": {},
     "output_type": "display_data"
    },
    {
     "data": {
      "text/plain": [
       "array([(120, -2147483647, -2147483648, -134217728, 0, -2147483648, 0, 40, 104, 0, 40, 2, 9626, 38505, 0, 0, 0, 0, 0, 0, 0, 0, 0, 0, 0, 0, 0, 0, 0, 0, 0, 0)],\n",
       "      dtype=object)"
      ]
     },
     "metadata": {},
     "output_type": "display_data"
    },
    {
     "data": {
      "text/plain": [
       "array([(120, -2147483647, -2147483648, -134217728, 0, -2147483648, 0, 40, 104, 0, 40, 2, 9626, 38505, 0, 0, 0, 0, 0, 0, 0, 0, 0, 0, 0, 0, 0, 0, 0, 0, 0, 0)],\n",
       "      dtype=object)"
      ]
     },
     "metadata": {},
     "output_type": "display_data"
    }
   ],
   "source": [
    "major_fps[\"fingerprint_tuple\"] = major_fps.fingerprint.apply(lambda x: tuple(x))\n",
    "major_peaclab_math_fps = major_fps[major_fps.function == \"peaclab_math\"].fingerprint_tuple.unique()\n",
    "display(major_peaclab_math_fps)\n",
    "display(level4_peaclab_math_fps)\n",
    "display(level3_peaclab_math_fps)\n",
    "display(level2_peaclab_math_fps)\n",
    "display(peaclab_math_fps)"
   ]
  },
  {
   "cell_type": "code",
   "execution_count": 85,
   "metadata": {
    "ExecuteTime": {
     "end_time": "2020-03-04T18:27:21.314513Z",
     "start_time": "2020-03-04T18:27:21.298448Z"
    }
   },
   "outputs": [
    {
     "data": {
      "text/plain": [
       "'size0=226 size1=261'"
      ]
     },
     "metadata": {},
     "output_type": "display_data"
    },
    {
     "name": "stdout",
     "output_type": "stream",
     "text": [
      "108\n",
      "min=108 avg=108.0 max=108\n"
     ]
    }
   ],
   "source": [
    "pm_mask = (major_fps.function == \"peaclab_math\")\n",
    "major_raw_bytes = list(major_fps[pm_mask].raw_bytes)\n",
    "#orig_raw_bytes = list(level1_fps[pm_mask & (level1_fps.binary == \"../../dataset-gen-injected/sensitivity/diffutils-3.7.ORIG/src/diff\")].raw_bytes)[0]\n",
    "major_raw_bytes_noorig = set(major_raw_bytes) - set([orig_raw_bytes])\n",
    "\n",
    "major_lev_distances = []\n",
    "for rb in major_raw_bytes_noorig:\n",
    "    display(\"size0={} size1={}\".format(len(orig_raw_bytes), len(rb)))\n",
    "    major_lev_distances.append(lev.distance(orig_raw_bytes, rb))\n",
    "    print(lev.distance(orig_raw_bytes, rb))\n",
    "    \n",
    "print(\"min={} avg={} max={}\".format(min(major_lev_distances), sum(major_lev_distances)/len(major_lev_distances), max(major_lev_distances)))"
   ]
  },
  {
   "cell_type": "code",
   "execution_count": 93,
   "metadata": {
    "ExecuteTime": {
     "end_time": "2020-03-16T13:33:34.474421Z",
     "start_time": "2020-03-16T13:33:34.469234Z"
    }
   },
   "outputs": [],
   "source": [
    "from scipy.spatial import distance\n",
    "a = major_peaclab_math_fps[0]\n",
    "b = level3_peaclab_math_fps[0]\n",
    "dst = distance.euclidean(a, b)"
   ]
  },
  {
   "cell_type": "code",
   "execution_count": 94,
   "metadata": {
    "ExecuteTime": {
     "end_time": "2020-03-16T13:33:36.265252Z",
     "start_time": "2020-03-16T13:33:36.259309Z"
    }
   },
   "outputs": [
    {
     "data": {
      "text/plain": [
       "8.0"
      ]
     },
     "execution_count": 94,
     "metadata": {},
     "output_type": "execute_result"
    }
   ],
   "source": [
    "dst"
   ]
  }
 ],
 "metadata": {
  "kernelspec": {
   "display_name": "Python 3",
   "language": "python",
   "name": "python3"
  },
  "language_info": {
   "codemirror_mode": {
    "name": "ipython",
    "version": 3
   },
   "file_extension": ".py",
   "mimetype": "text/x-python",
   "name": "python",
   "nbconvert_exporter": "python",
   "pygments_lexer": "ipython3",
   "version": "3.8.0"
  }
 },
 "nbformat": 4,
 "nbformat_minor": 2
}
